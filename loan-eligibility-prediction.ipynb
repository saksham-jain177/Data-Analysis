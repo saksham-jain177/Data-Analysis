{
 "cells": [
  {
   "cell_type": "markdown",
   "id": "5dfc392e",
   "metadata": {
    "papermill": {
     "duration": 0.010487,
     "end_time": "2024-06-30T14:53:18.402250",
     "exception": false,
     "start_time": "2024-06-30T14:53:18.391763",
     "status": "completed"
    },
    "tags": []
   },
   "source": [
    "# Problem Statement\n",
    "* This predictive model will help the Finance company streamline its lending processes, reduce the likelihood of default and ensure fair and transparent loan approval practices, ultimately improving the overall efficiency and profitability of the company's operations.\n",
    "\n",
    "* The project falls under Classication Machine Learning Problem. The goal of this project is to leverage machine learning to determine whether an applicant is eligible for a loan or not while also considering factors such as credit history, income, employment status and other relevant variables."
   ]
  },
  {
   "cell_type": "code",
   "execution_count": 1,
   "id": "c531b524",
   "metadata": {
    "execution": {
     "iopub.execute_input": "2024-06-30T14:53:18.423350Z",
     "iopub.status.busy": "2024-06-30T14:53:18.422900Z",
     "iopub.status.idle": "2024-06-30T14:53:21.433957Z",
     "shell.execute_reply": "2024-06-30T14:53:21.432620Z"
    },
    "papermill": {
     "duration": 3.024815,
     "end_time": "2024-06-30T14:53:21.436904",
     "exception": false,
     "start_time": "2024-06-30T14:53:18.412089",
     "status": "completed"
    },
    "tags": []
   },
   "outputs": [],
   "source": [
    "import numpy as np\n",
    "import pandas as pd\n",
    "\n",
    "# for model buidling\n",
    "from sklearn.preprocessing import StandardScaler\n",
    "from sklearn.model_selection import train_test_split, RandomizedSearchCV\n",
    "from sklearn.linear_model import LogisticRegression\n",
    "from sklearn.svm import SVC\n",
    "from sklearn.tree import DecisionTreeClassifier\n",
    "from sklearn.ensemble import RandomForestClassifier\n",
    "from sklearn.metrics import accuracy_score, precision_score, recall_score, f1_score, confusion_matrix\n"
   ]
  },
  {
   "cell_type": "code",
   "execution_count": 2,
   "id": "d8764a5c",
   "metadata": {
    "execution": {
     "iopub.execute_input": "2024-06-30T14:53:21.457751Z",
     "iopub.status.busy": "2024-06-30T14:53:21.457162Z",
     "iopub.status.idle": "2024-06-30T14:53:21.493078Z",
     "shell.execute_reply": "2024-06-30T14:53:21.491243Z"
    },
    "papermill": {
     "duration": 0.049947,
     "end_time": "2024-06-30T14:53:21.496189",
     "exception": false,
     "start_time": "2024-06-30T14:53:21.446242",
     "status": "completed"
    },
    "tags": []
   },
   "outputs": [],
   "source": [
    "loan_data = pd.read_csv('/kaggle/input/loan-prediction/train_u6lujuX_CVtuZ9i (1).csv') "
   ]
  },
  {
   "cell_type": "code",
   "execution_count": 3,
   "id": "96e9b734",
   "metadata": {
    "execution": {
     "iopub.execute_input": "2024-06-30T14:53:21.517796Z",
     "iopub.status.busy": "2024-06-30T14:53:21.516689Z",
     "iopub.status.idle": "2024-06-30T14:53:21.564457Z",
     "shell.execute_reply": "2024-06-30T14:53:21.563187Z"
    },
    "papermill": {
     "duration": 0.061393,
     "end_time": "2024-06-30T14:53:21.567068",
     "exception": false,
     "start_time": "2024-06-30T14:53:21.505675",
     "status": "completed"
    },
    "tags": []
   },
   "outputs": [
    {
     "data": {
      "text/html": [
       "<div>\n",
       "<style scoped>\n",
       "    .dataframe tbody tr th:only-of-type {\n",
       "        vertical-align: middle;\n",
       "    }\n",
       "\n",
       "    .dataframe tbody tr th {\n",
       "        vertical-align: top;\n",
       "    }\n",
       "\n",
       "    .dataframe thead th {\n",
       "        text-align: right;\n",
       "    }\n",
       "</style>\n",
       "<table border=\"1\" class=\"dataframe\">\n",
       "  <thead>\n",
       "    <tr style=\"text-align: right;\">\n",
       "      <th></th>\n",
       "      <th>Loan_ID</th>\n",
       "      <th>Gender</th>\n",
       "      <th>Married</th>\n",
       "      <th>Dependents</th>\n",
       "      <th>Education</th>\n",
       "      <th>Self_Employed</th>\n",
       "      <th>ApplicantIncome</th>\n",
       "      <th>CoapplicantIncome</th>\n",
       "      <th>LoanAmount</th>\n",
       "      <th>Loan_Amount_Term</th>\n",
       "      <th>Credit_History</th>\n",
       "      <th>Property_Area</th>\n",
       "      <th>Loan_Status</th>\n",
       "    </tr>\n",
       "  </thead>\n",
       "  <tbody>\n",
       "    <tr>\n",
       "      <th>0</th>\n",
       "      <td>LP001002</td>\n",
       "      <td>Male</td>\n",
       "      <td>No</td>\n",
       "      <td>0</td>\n",
       "      <td>Graduate</td>\n",
       "      <td>No</td>\n",
       "      <td>5849</td>\n",
       "      <td>0.0</td>\n",
       "      <td>NaN</td>\n",
       "      <td>360.0</td>\n",
       "      <td>1.0</td>\n",
       "      <td>Urban</td>\n",
       "      <td>Y</td>\n",
       "    </tr>\n",
       "    <tr>\n",
       "      <th>1</th>\n",
       "      <td>LP001003</td>\n",
       "      <td>Male</td>\n",
       "      <td>Yes</td>\n",
       "      <td>1</td>\n",
       "      <td>Graduate</td>\n",
       "      <td>No</td>\n",
       "      <td>4583</td>\n",
       "      <td>1508.0</td>\n",
       "      <td>128.0</td>\n",
       "      <td>360.0</td>\n",
       "      <td>1.0</td>\n",
       "      <td>Rural</td>\n",
       "      <td>N</td>\n",
       "    </tr>\n",
       "    <tr>\n",
       "      <th>2</th>\n",
       "      <td>LP001005</td>\n",
       "      <td>Male</td>\n",
       "      <td>Yes</td>\n",
       "      <td>0</td>\n",
       "      <td>Graduate</td>\n",
       "      <td>Yes</td>\n",
       "      <td>3000</td>\n",
       "      <td>0.0</td>\n",
       "      <td>66.0</td>\n",
       "      <td>360.0</td>\n",
       "      <td>1.0</td>\n",
       "      <td>Urban</td>\n",
       "      <td>Y</td>\n",
       "    </tr>\n",
       "    <tr>\n",
       "      <th>3</th>\n",
       "      <td>LP001006</td>\n",
       "      <td>Male</td>\n",
       "      <td>Yes</td>\n",
       "      <td>0</td>\n",
       "      <td>Not Graduate</td>\n",
       "      <td>No</td>\n",
       "      <td>2583</td>\n",
       "      <td>2358.0</td>\n",
       "      <td>120.0</td>\n",
       "      <td>360.0</td>\n",
       "      <td>1.0</td>\n",
       "      <td>Urban</td>\n",
       "      <td>Y</td>\n",
       "    </tr>\n",
       "    <tr>\n",
       "      <th>4</th>\n",
       "      <td>LP001008</td>\n",
       "      <td>Male</td>\n",
       "      <td>No</td>\n",
       "      <td>0</td>\n",
       "      <td>Graduate</td>\n",
       "      <td>No</td>\n",
       "      <td>6000</td>\n",
       "      <td>0.0</td>\n",
       "      <td>141.0</td>\n",
       "      <td>360.0</td>\n",
       "      <td>1.0</td>\n",
       "      <td>Urban</td>\n",
       "      <td>Y</td>\n",
       "    </tr>\n",
       "    <tr>\n",
       "      <th>...</th>\n",
       "      <td>...</td>\n",
       "      <td>...</td>\n",
       "      <td>...</td>\n",
       "      <td>...</td>\n",
       "      <td>...</td>\n",
       "      <td>...</td>\n",
       "      <td>...</td>\n",
       "      <td>...</td>\n",
       "      <td>...</td>\n",
       "      <td>...</td>\n",
       "      <td>...</td>\n",
       "      <td>...</td>\n",
       "      <td>...</td>\n",
       "    </tr>\n",
       "    <tr>\n",
       "      <th>609</th>\n",
       "      <td>LP002978</td>\n",
       "      <td>Female</td>\n",
       "      <td>No</td>\n",
       "      <td>0</td>\n",
       "      <td>Graduate</td>\n",
       "      <td>No</td>\n",
       "      <td>2900</td>\n",
       "      <td>0.0</td>\n",
       "      <td>71.0</td>\n",
       "      <td>360.0</td>\n",
       "      <td>1.0</td>\n",
       "      <td>Rural</td>\n",
       "      <td>Y</td>\n",
       "    </tr>\n",
       "    <tr>\n",
       "      <th>610</th>\n",
       "      <td>LP002979</td>\n",
       "      <td>Male</td>\n",
       "      <td>Yes</td>\n",
       "      <td>3+</td>\n",
       "      <td>Graduate</td>\n",
       "      <td>No</td>\n",
       "      <td>4106</td>\n",
       "      <td>0.0</td>\n",
       "      <td>40.0</td>\n",
       "      <td>180.0</td>\n",
       "      <td>1.0</td>\n",
       "      <td>Rural</td>\n",
       "      <td>Y</td>\n",
       "    </tr>\n",
       "    <tr>\n",
       "      <th>611</th>\n",
       "      <td>LP002983</td>\n",
       "      <td>Male</td>\n",
       "      <td>Yes</td>\n",
       "      <td>1</td>\n",
       "      <td>Graduate</td>\n",
       "      <td>No</td>\n",
       "      <td>8072</td>\n",
       "      <td>240.0</td>\n",
       "      <td>253.0</td>\n",
       "      <td>360.0</td>\n",
       "      <td>1.0</td>\n",
       "      <td>Urban</td>\n",
       "      <td>Y</td>\n",
       "    </tr>\n",
       "    <tr>\n",
       "      <th>612</th>\n",
       "      <td>LP002984</td>\n",
       "      <td>Male</td>\n",
       "      <td>Yes</td>\n",
       "      <td>2</td>\n",
       "      <td>Graduate</td>\n",
       "      <td>No</td>\n",
       "      <td>7583</td>\n",
       "      <td>0.0</td>\n",
       "      <td>187.0</td>\n",
       "      <td>360.0</td>\n",
       "      <td>1.0</td>\n",
       "      <td>Urban</td>\n",
       "      <td>Y</td>\n",
       "    </tr>\n",
       "    <tr>\n",
       "      <th>613</th>\n",
       "      <td>LP002990</td>\n",
       "      <td>Female</td>\n",
       "      <td>No</td>\n",
       "      <td>0</td>\n",
       "      <td>Graduate</td>\n",
       "      <td>Yes</td>\n",
       "      <td>4583</td>\n",
       "      <td>0.0</td>\n",
       "      <td>133.0</td>\n",
       "      <td>360.0</td>\n",
       "      <td>0.0</td>\n",
       "      <td>Semiurban</td>\n",
       "      <td>N</td>\n",
       "    </tr>\n",
       "  </tbody>\n",
       "</table>\n",
       "<p>614 rows × 13 columns</p>\n",
       "</div>"
      ],
      "text/plain": [
       "      Loan_ID  Gender Married Dependents     Education Self_Employed  \\\n",
       "0    LP001002    Male      No          0      Graduate            No   \n",
       "1    LP001003    Male     Yes          1      Graduate            No   \n",
       "2    LP001005    Male     Yes          0      Graduate           Yes   \n",
       "3    LP001006    Male     Yes          0  Not Graduate            No   \n",
       "4    LP001008    Male      No          0      Graduate            No   \n",
       "..        ...     ...     ...        ...           ...           ...   \n",
       "609  LP002978  Female      No          0      Graduate            No   \n",
       "610  LP002979    Male     Yes         3+      Graduate            No   \n",
       "611  LP002983    Male     Yes          1      Graduate            No   \n",
       "612  LP002984    Male     Yes          2      Graduate            No   \n",
       "613  LP002990  Female      No          0      Graduate           Yes   \n",
       "\n",
       "     ApplicantIncome  CoapplicantIncome  LoanAmount  Loan_Amount_Term  \\\n",
       "0               5849                0.0         NaN             360.0   \n",
       "1               4583             1508.0       128.0             360.0   \n",
       "2               3000                0.0        66.0             360.0   \n",
       "3               2583             2358.0       120.0             360.0   \n",
       "4               6000                0.0       141.0             360.0   \n",
       "..               ...                ...         ...               ...   \n",
       "609             2900                0.0        71.0             360.0   \n",
       "610             4106                0.0        40.0             180.0   \n",
       "611             8072              240.0       253.0             360.0   \n",
       "612             7583                0.0       187.0             360.0   \n",
       "613             4583                0.0       133.0             360.0   \n",
       "\n",
       "     Credit_History Property_Area Loan_Status  \n",
       "0               1.0         Urban           Y  \n",
       "1               1.0         Rural           N  \n",
       "2               1.0         Urban           Y  \n",
       "3               1.0         Urban           Y  \n",
       "4               1.0         Urban           Y  \n",
       "..              ...           ...         ...  \n",
       "609             1.0         Rural           Y  \n",
       "610             1.0         Rural           Y  \n",
       "611             1.0         Urban           Y  \n",
       "612             1.0         Urban           Y  \n",
       "613             0.0     Semiurban           N  \n",
       "\n",
       "[614 rows x 13 columns]"
      ]
     },
     "execution_count": 3,
     "metadata": {},
     "output_type": "execute_result"
    }
   ],
   "source": [
    "loan_data"
   ]
  },
  {
   "cell_type": "code",
   "execution_count": 4,
   "id": "908f1fb5",
   "metadata": {
    "execution": {
     "iopub.execute_input": "2024-06-30T14:53:21.588750Z",
     "iopub.status.busy": "2024-06-30T14:53:21.588373Z",
     "iopub.status.idle": "2024-06-30T14:53:21.620323Z",
     "shell.execute_reply": "2024-06-30T14:53:21.618998Z"
    },
    "papermill": {
     "duration": 0.046469,
     "end_time": "2024-06-30T14:53:21.623493",
     "exception": false,
     "start_time": "2024-06-30T14:53:21.577024",
     "status": "completed"
    },
    "tags": []
   },
   "outputs": [
    {
     "name": "stdout",
     "output_type": "stream",
     "text": [
      "The size of Dataframe is:  (614, 13) \n",
      "\n",
      "The Column Name, Record Count and Data Types are as follows: \n",
      "<class 'pandas.core.frame.DataFrame'>\n",
      "RangeIndex: 614 entries, 0 to 613\n",
      "Data columns (total 13 columns):\n",
      " #   Column             Non-Null Count  Dtype  \n",
      "---  ------             --------------  -----  \n",
      " 0   Loan_ID            614 non-null    object \n",
      " 1   Gender             601 non-null    object \n",
      " 2   Married            611 non-null    object \n",
      " 3   Dependents         599 non-null    object \n",
      " 4   Education          614 non-null    object \n",
      " 5   Self_Employed      582 non-null    object \n",
      " 6   ApplicantIncome    614 non-null    int64  \n",
      " 7   CoapplicantIncome  614 non-null    float64\n",
      " 8   LoanAmount         592 non-null    float64\n",
      " 9   Loan_Amount_Term   600 non-null    float64\n",
      " 10  Credit_History     564 non-null    float64\n",
      " 11  Property_Area      614 non-null    object \n",
      " 12  Loan_Status        614 non-null    object \n",
      "dtypes: float64(4), int64(1), object(8)\n",
      "memory usage: 62.5+ KB\n"
     ]
    }
   ],
   "source": [
    "print('The size of Dataframe is: ', loan_data.shape,\"\\n\")\n",
    "print('The Column Name, Record Count and Data Types are as follows: ')\n",
    "loan_data.info()"
   ]
  },
  {
   "cell_type": "code",
   "execution_count": 5,
   "id": "d46ed12a",
   "metadata": {
    "execution": {
     "iopub.execute_input": "2024-06-30T14:53:21.646499Z",
     "iopub.status.busy": "2024-06-30T14:53:21.646078Z",
     "iopub.status.idle": "2024-06-30T14:53:21.654713Z",
     "shell.execute_reply": "2024-06-30T14:53:21.653395Z"
    },
    "papermill": {
     "duration": 0.024009,
     "end_time": "2024-06-30T14:53:21.657538",
     "exception": false,
     "start_time": "2024-06-30T14:53:21.633529",
     "status": "completed"
    },
    "tags": []
   },
   "outputs": [
    {
     "name": "stdout",
     "output_type": "stream",
     "text": [
      "We have 5 numerical features : ['ApplicantIncome', 'CoapplicantIncome', 'LoanAmount', 'Loan_Amount_Term', 'Credit_History']\n",
      "\n",
      "We have 8 categorical features : ['Loan_ID', 'Gender', 'Married', 'Dependents', 'Education', 'Self_Employed', 'Property_Area', 'Loan_Status']\n"
     ]
    }
   ],
   "source": [
    "# Defining numerical & categorical columns\n",
    "numeric_features = [feature for feature in loan_data.columns if loan_data[feature].dtype != 'O']\n",
    "categorical_features = [feature for feature in loan_data.columns if loan_data[feature].dtype == 'O']\n",
    "\n",
    "# print columns\n",
    "print('We have {} numerical features : {}'.format(len(numeric_features), numeric_features))\n",
    "print('\\nWe have {} categorical features : {}'.format(len(categorical_features), categorical_features))"
   ]
  },
  {
   "cell_type": "code",
   "execution_count": 6,
   "id": "0b231740",
   "metadata": {
    "execution": {
     "iopub.execute_input": "2024-06-30T14:53:21.679772Z",
     "iopub.status.busy": "2024-06-30T14:53:21.679368Z",
     "iopub.status.idle": "2024-06-30T14:53:21.702869Z",
     "shell.execute_reply": "2024-06-30T14:53:21.701447Z"
    },
    "papermill": {
     "duration": 0.037796,
     "end_time": "2024-06-30T14:53:21.705626",
     "exception": false,
     "start_time": "2024-06-30T14:53:21.667830",
     "status": "completed"
    },
    "tags": []
   },
   "outputs": [
    {
     "name": "stdout",
     "output_type": "stream",
     "text": [
      "Missing Value Presence in different columns of DataFrame are as follows : \n"
     ]
    },
    {
     "data": {
      "text/html": [
       "<div>\n",
       "<style scoped>\n",
       "    .dataframe tbody tr th:only-of-type {\n",
       "        vertical-align: middle;\n",
       "    }\n",
       "\n",
       "    .dataframe tbody tr th {\n",
       "        vertical-align: top;\n",
       "    }\n",
       "\n",
       "    .dataframe thead th {\n",
       "        text-align: right;\n",
       "    }\n",
       "</style>\n",
       "<table border=\"1\" class=\"dataframe\">\n",
       "  <thead>\n",
       "    <tr style=\"text-align: right;\">\n",
       "      <th></th>\n",
       "      <th>Total</th>\n",
       "      <th>Percent</th>\n",
       "    </tr>\n",
       "  </thead>\n",
       "  <tbody>\n",
       "    <tr>\n",
       "      <th>Credit_History</th>\n",
       "      <td>50</td>\n",
       "      <td>8.143322</td>\n",
       "    </tr>\n",
       "    <tr>\n",
       "      <th>Self_Employed</th>\n",
       "      <td>32</td>\n",
       "      <td>5.211726</td>\n",
       "    </tr>\n",
       "    <tr>\n",
       "      <th>LoanAmount</th>\n",
       "      <td>22</td>\n",
       "      <td>3.583062</td>\n",
       "    </tr>\n",
       "    <tr>\n",
       "      <th>Dependents</th>\n",
       "      <td>15</td>\n",
       "      <td>2.442997</td>\n",
       "    </tr>\n",
       "    <tr>\n",
       "      <th>Loan_Amount_Term</th>\n",
       "      <td>14</td>\n",
       "      <td>2.280130</td>\n",
       "    </tr>\n",
       "    <tr>\n",
       "      <th>Gender</th>\n",
       "      <td>13</td>\n",
       "      <td>2.117264</td>\n",
       "    </tr>\n",
       "    <tr>\n",
       "      <th>Married</th>\n",
       "      <td>3</td>\n",
       "      <td>0.488599</td>\n",
       "    </tr>\n",
       "    <tr>\n",
       "      <th>Loan_ID</th>\n",
       "      <td>0</td>\n",
       "      <td>0.000000</td>\n",
       "    </tr>\n",
       "    <tr>\n",
       "      <th>Education</th>\n",
       "      <td>0</td>\n",
       "      <td>0.000000</td>\n",
       "    </tr>\n",
       "    <tr>\n",
       "      <th>ApplicantIncome</th>\n",
       "      <td>0</td>\n",
       "      <td>0.000000</td>\n",
       "    </tr>\n",
       "    <tr>\n",
       "      <th>CoapplicantIncome</th>\n",
       "      <td>0</td>\n",
       "      <td>0.000000</td>\n",
       "    </tr>\n",
       "    <tr>\n",
       "      <th>Property_Area</th>\n",
       "      <td>0</td>\n",
       "      <td>0.000000</td>\n",
       "    </tr>\n",
       "    <tr>\n",
       "      <th>Loan_Status</th>\n",
       "      <td>0</td>\n",
       "      <td>0.000000</td>\n",
       "    </tr>\n",
       "  </tbody>\n",
       "</table>\n",
       "</div>"
      ],
      "text/plain": [
       "                   Total   Percent\n",
       "Credit_History        50  8.143322\n",
       "Self_Employed         32  5.211726\n",
       "LoanAmount            22  3.583062\n",
       "Dependents            15  2.442997\n",
       "Loan_Amount_Term      14  2.280130\n",
       "Gender                13  2.117264\n",
       "Married                3  0.488599\n",
       "Loan_ID                0  0.000000\n",
       "Education              0  0.000000\n",
       "ApplicantIncome        0  0.000000\n",
       "CoapplicantIncome      0  0.000000\n",
       "Property_Area          0  0.000000\n",
       "Loan_Status            0  0.000000"
      ]
     },
     "execution_count": 6,
     "metadata": {},
     "output_type": "execute_result"
    }
   ],
   "source": [
    "print('Missing Value Presence in different columns of DataFrame are as follows : ')\n",
    "total=loan_data.isnull().sum().sort_values(ascending=False)\n",
    "percent=(loan_data.isnull().sum()/loan_data.isnull().count()*100).sort_values(ascending=False)\n",
    "pd.concat([total, percent], axis=1, keys=['Total', 'Percent'])\n"
   ]
  },
  {
   "cell_type": "code",
   "execution_count": 7,
   "id": "fb0894ec",
   "metadata": {
    "execution": {
     "iopub.execute_input": "2024-06-30T14:53:21.728487Z",
     "iopub.status.busy": "2024-06-30T14:53:21.728068Z",
     "iopub.status.idle": "2024-06-30T14:53:21.760320Z",
     "shell.execute_reply": "2024-06-30T14:53:21.758810Z"
    },
    "papermill": {
     "duration": 0.046723,
     "end_time": "2024-06-30T14:53:21.762952",
     "exception": false,
     "start_time": "2024-06-30T14:53:21.716229",
     "status": "completed"
    },
    "tags": []
   },
   "outputs": [
    {
     "name": "stdout",
     "output_type": "stream",
     "text": [
      "Summary Statistics of numerical features for DataFrame are as follows:\n"
     ]
    },
    {
     "data": {
      "text/html": [
       "<div>\n",
       "<style scoped>\n",
       "    .dataframe tbody tr th:only-of-type {\n",
       "        vertical-align: middle;\n",
       "    }\n",
       "\n",
       "    .dataframe tbody tr th {\n",
       "        vertical-align: top;\n",
       "    }\n",
       "\n",
       "    .dataframe thead th {\n",
       "        text-align: right;\n",
       "    }\n",
       "</style>\n",
       "<table border=\"1\" class=\"dataframe\">\n",
       "  <thead>\n",
       "    <tr style=\"text-align: right;\">\n",
       "      <th></th>\n",
       "      <th>ApplicantIncome</th>\n",
       "      <th>CoapplicantIncome</th>\n",
       "      <th>LoanAmount</th>\n",
       "      <th>Loan_Amount_Term</th>\n",
       "      <th>Credit_History</th>\n",
       "    </tr>\n",
       "  </thead>\n",
       "  <tbody>\n",
       "    <tr>\n",
       "      <th>count</th>\n",
       "      <td>614.000000</td>\n",
       "      <td>614.000000</td>\n",
       "      <td>592.000000</td>\n",
       "      <td>600.00000</td>\n",
       "      <td>564.000000</td>\n",
       "    </tr>\n",
       "    <tr>\n",
       "      <th>mean</th>\n",
       "      <td>5403.459283</td>\n",
       "      <td>1621.245798</td>\n",
       "      <td>146.412162</td>\n",
       "      <td>342.00000</td>\n",
       "      <td>0.842199</td>\n",
       "    </tr>\n",
       "    <tr>\n",
       "      <th>std</th>\n",
       "      <td>6109.041673</td>\n",
       "      <td>2926.248369</td>\n",
       "      <td>85.587325</td>\n",
       "      <td>65.12041</td>\n",
       "      <td>0.364878</td>\n",
       "    </tr>\n",
       "    <tr>\n",
       "      <th>min</th>\n",
       "      <td>150.000000</td>\n",
       "      <td>0.000000</td>\n",
       "      <td>9.000000</td>\n",
       "      <td>12.00000</td>\n",
       "      <td>0.000000</td>\n",
       "    </tr>\n",
       "    <tr>\n",
       "      <th>25%</th>\n",
       "      <td>2877.500000</td>\n",
       "      <td>0.000000</td>\n",
       "      <td>100.000000</td>\n",
       "      <td>360.00000</td>\n",
       "      <td>1.000000</td>\n",
       "    </tr>\n",
       "    <tr>\n",
       "      <th>50%</th>\n",
       "      <td>3812.500000</td>\n",
       "      <td>1188.500000</td>\n",
       "      <td>128.000000</td>\n",
       "      <td>360.00000</td>\n",
       "      <td>1.000000</td>\n",
       "    </tr>\n",
       "    <tr>\n",
       "      <th>75%</th>\n",
       "      <td>5795.000000</td>\n",
       "      <td>2297.250000</td>\n",
       "      <td>168.000000</td>\n",
       "      <td>360.00000</td>\n",
       "      <td>1.000000</td>\n",
       "    </tr>\n",
       "    <tr>\n",
       "      <th>max</th>\n",
       "      <td>81000.000000</td>\n",
       "      <td>41667.000000</td>\n",
       "      <td>700.000000</td>\n",
       "      <td>480.00000</td>\n",
       "      <td>1.000000</td>\n",
       "    </tr>\n",
       "  </tbody>\n",
       "</table>\n",
       "</div>"
      ],
      "text/plain": [
       "       ApplicantIncome  CoapplicantIncome  LoanAmount  Loan_Amount_Term  \\\n",
       "count       614.000000         614.000000  592.000000         600.00000   \n",
       "mean       5403.459283        1621.245798  146.412162         342.00000   \n",
       "std        6109.041673        2926.248369   85.587325          65.12041   \n",
       "min         150.000000           0.000000    9.000000          12.00000   \n",
       "25%        2877.500000           0.000000  100.000000         360.00000   \n",
       "50%        3812.500000        1188.500000  128.000000         360.00000   \n",
       "75%        5795.000000        2297.250000  168.000000         360.00000   \n",
       "max       81000.000000       41667.000000  700.000000         480.00000   \n",
       "\n",
       "       Credit_History  \n",
       "count      564.000000  \n",
       "mean         0.842199  \n",
       "std          0.364878  \n",
       "min          0.000000  \n",
       "25%          1.000000  \n",
       "50%          1.000000  \n",
       "75%          1.000000  \n",
       "max          1.000000  "
      ]
     },
     "execution_count": 7,
     "metadata": {},
     "output_type": "execute_result"
    }
   ],
   "source": [
    "print('Summary Statistics of numerical features for DataFrame are as follows:')\n",
    "loan_data.describe()"
   ]
  },
  {
   "cell_type": "code",
   "execution_count": 8,
   "id": "10383cd2",
   "metadata": {
    "execution": {
     "iopub.execute_input": "2024-06-30T14:53:21.787153Z",
     "iopub.status.busy": "2024-06-30T14:53:21.786699Z",
     "iopub.status.idle": "2024-06-30T14:53:21.817411Z",
     "shell.execute_reply": "2024-06-30T14:53:21.815966Z"
    },
    "papermill": {
     "duration": 0.046718,
     "end_time": "2024-06-30T14:53:21.820715",
     "exception": false,
     "start_time": "2024-06-30T14:53:21.773997",
     "status": "completed"
    },
    "tags": []
   },
   "outputs": [
    {
     "name": "stdout",
     "output_type": "stream",
     "text": [
      "Summary Statistics of categorical features for DataFrame are as follows:\n"
     ]
    },
    {
     "data": {
      "text/html": [
       "<div>\n",
       "<style scoped>\n",
       "    .dataframe tbody tr th:only-of-type {\n",
       "        vertical-align: middle;\n",
       "    }\n",
       "\n",
       "    .dataframe tbody tr th {\n",
       "        vertical-align: top;\n",
       "    }\n",
       "\n",
       "    .dataframe thead th {\n",
       "        text-align: right;\n",
       "    }\n",
       "</style>\n",
       "<table border=\"1\" class=\"dataframe\">\n",
       "  <thead>\n",
       "    <tr style=\"text-align: right;\">\n",
       "      <th></th>\n",
       "      <th>Loan_ID</th>\n",
       "      <th>Gender</th>\n",
       "      <th>Married</th>\n",
       "      <th>Dependents</th>\n",
       "      <th>Education</th>\n",
       "      <th>Self_Employed</th>\n",
       "      <th>Property_Area</th>\n",
       "      <th>Loan_Status</th>\n",
       "    </tr>\n",
       "  </thead>\n",
       "  <tbody>\n",
       "    <tr>\n",
       "      <th>count</th>\n",
       "      <td>614</td>\n",
       "      <td>601</td>\n",
       "      <td>611</td>\n",
       "      <td>599</td>\n",
       "      <td>614</td>\n",
       "      <td>582</td>\n",
       "      <td>614</td>\n",
       "      <td>614</td>\n",
       "    </tr>\n",
       "    <tr>\n",
       "      <th>unique</th>\n",
       "      <td>614</td>\n",
       "      <td>2</td>\n",
       "      <td>2</td>\n",
       "      <td>4</td>\n",
       "      <td>2</td>\n",
       "      <td>2</td>\n",
       "      <td>3</td>\n",
       "      <td>2</td>\n",
       "    </tr>\n",
       "    <tr>\n",
       "      <th>top</th>\n",
       "      <td>LP001002</td>\n",
       "      <td>Male</td>\n",
       "      <td>Yes</td>\n",
       "      <td>0</td>\n",
       "      <td>Graduate</td>\n",
       "      <td>No</td>\n",
       "      <td>Semiurban</td>\n",
       "      <td>Y</td>\n",
       "    </tr>\n",
       "    <tr>\n",
       "      <th>freq</th>\n",
       "      <td>1</td>\n",
       "      <td>489</td>\n",
       "      <td>398</td>\n",
       "      <td>345</td>\n",
       "      <td>480</td>\n",
       "      <td>500</td>\n",
       "      <td>233</td>\n",
       "      <td>422</td>\n",
       "    </tr>\n",
       "  </tbody>\n",
       "</table>\n",
       "</div>"
      ],
      "text/plain": [
       "         Loan_ID Gender Married Dependents Education Self_Employed  \\\n",
       "count        614    601     611        599       614           582   \n",
       "unique       614      2       2          4         2             2   \n",
       "top     LP001002   Male     Yes          0  Graduate            No   \n",
       "freq           1    489     398        345       480           500   \n",
       "\n",
       "       Property_Area Loan_Status  \n",
       "count            614         614  \n",
       "unique             3           2  \n",
       "top        Semiurban           Y  \n",
       "freq             233         422  "
      ]
     },
     "execution_count": 8,
     "metadata": {},
     "output_type": "execute_result"
    }
   ],
   "source": [
    "print('Summary Statistics of categorical features for DataFrame are as follows:')\n",
    "loan_data.describe(include='object')"
   ]
  },
  {
   "cell_type": "code",
   "execution_count": 9,
   "id": "22bc8ff3",
   "metadata": {
    "execution": {
     "iopub.execute_input": "2024-06-30T14:53:21.845571Z",
     "iopub.status.busy": "2024-06-30T14:53:21.845149Z",
     "iopub.status.idle": "2024-06-30T14:53:21.854670Z",
     "shell.execute_reply": "2024-06-30T14:53:21.853541Z"
    },
    "papermill": {
     "duration": 0.024884,
     "end_time": "2024-06-30T14:53:21.857311",
     "exception": false,
     "start_time": "2024-06-30T14:53:21.832427",
     "status": "completed"
    },
    "tags": []
   },
   "outputs": [
    {
     "data": {
      "text/plain": [
       "Loan_Status\n",
       "Y    422\n",
       "N    192\n",
       "Name: count, dtype: int64"
      ]
     },
     "execution_count": 9,
     "metadata": {},
     "output_type": "execute_result"
    }
   ],
   "source": [
    "loan_data['Loan_Status'].value_counts()\n"
   ]
  },
  {
   "cell_type": "code",
   "execution_count": 10,
   "id": "a2f0c088",
   "metadata": {
    "execution": {
     "iopub.execute_input": "2024-06-30T14:53:21.883357Z",
     "iopub.status.busy": "2024-06-30T14:53:21.882894Z",
     "iopub.status.idle": "2024-06-30T14:53:21.908277Z",
     "shell.execute_reply": "2024-06-30T14:53:21.906890Z"
    },
    "papermill": {
     "duration": 0.041423,
     "end_time": "2024-06-30T14:53:21.910713",
     "exception": false,
     "start_time": "2024-06-30T14:53:21.869290",
     "status": "completed"
    },
    "tags": []
   },
   "outputs": [
    {
     "name": "stdout",
     "output_type": "stream",
     "text": [
      "Missing Value Presence in different columns of DataFrame are as follows : \n"
     ]
    },
    {
     "data": {
      "text/html": [
       "<div>\n",
       "<style scoped>\n",
       "    .dataframe tbody tr th:only-of-type {\n",
       "        vertical-align: middle;\n",
       "    }\n",
       "\n",
       "    .dataframe tbody tr th {\n",
       "        vertical-align: top;\n",
       "    }\n",
       "\n",
       "    .dataframe thead th {\n",
       "        text-align: right;\n",
       "    }\n",
       "</style>\n",
       "<table border=\"1\" class=\"dataframe\">\n",
       "  <thead>\n",
       "    <tr style=\"text-align: right;\">\n",
       "      <th></th>\n",
       "      <th>Total</th>\n",
       "      <th>Percent</th>\n",
       "    </tr>\n",
       "  </thead>\n",
       "  <tbody>\n",
       "    <tr>\n",
       "      <th>Loan_ID</th>\n",
       "      <td>0</td>\n",
       "      <td>0.0</td>\n",
       "    </tr>\n",
       "    <tr>\n",
       "      <th>Gender</th>\n",
       "      <td>0</td>\n",
       "      <td>0.0</td>\n",
       "    </tr>\n",
       "    <tr>\n",
       "      <th>Married</th>\n",
       "      <td>0</td>\n",
       "      <td>0.0</td>\n",
       "    </tr>\n",
       "    <tr>\n",
       "      <th>Dependents</th>\n",
       "      <td>0</td>\n",
       "      <td>0.0</td>\n",
       "    </tr>\n",
       "    <tr>\n",
       "      <th>Education</th>\n",
       "      <td>0</td>\n",
       "      <td>0.0</td>\n",
       "    </tr>\n",
       "    <tr>\n",
       "      <th>Self_Employed</th>\n",
       "      <td>0</td>\n",
       "      <td>0.0</td>\n",
       "    </tr>\n",
       "    <tr>\n",
       "      <th>ApplicantIncome</th>\n",
       "      <td>0</td>\n",
       "      <td>0.0</td>\n",
       "    </tr>\n",
       "    <tr>\n",
       "      <th>CoapplicantIncome</th>\n",
       "      <td>0</td>\n",
       "      <td>0.0</td>\n",
       "    </tr>\n",
       "    <tr>\n",
       "      <th>LoanAmount</th>\n",
       "      <td>0</td>\n",
       "      <td>0.0</td>\n",
       "    </tr>\n",
       "    <tr>\n",
       "      <th>Loan_Amount_Term</th>\n",
       "      <td>0</td>\n",
       "      <td>0.0</td>\n",
       "    </tr>\n",
       "    <tr>\n",
       "      <th>Credit_History</th>\n",
       "      <td>0</td>\n",
       "      <td>0.0</td>\n",
       "    </tr>\n",
       "    <tr>\n",
       "      <th>Property_Area</th>\n",
       "      <td>0</td>\n",
       "      <td>0.0</td>\n",
       "    </tr>\n",
       "    <tr>\n",
       "      <th>Loan_Status</th>\n",
       "      <td>0</td>\n",
       "      <td>0.0</td>\n",
       "    </tr>\n",
       "  </tbody>\n",
       "</table>\n",
       "</div>"
      ],
      "text/plain": [
       "                   Total  Percent\n",
       "Loan_ID                0      0.0\n",
       "Gender                 0      0.0\n",
       "Married                0      0.0\n",
       "Dependents             0      0.0\n",
       "Education              0      0.0\n",
       "Self_Employed          0      0.0\n",
       "ApplicantIncome        0      0.0\n",
       "CoapplicantIncome      0      0.0\n",
       "LoanAmount             0      0.0\n",
       "Loan_Amount_Term       0      0.0\n",
       "Credit_History         0      0.0\n",
       "Property_Area          0      0.0\n",
       "Loan_Status            0      0.0"
      ]
     },
     "execution_count": 10,
     "metadata": {},
     "output_type": "execute_result"
    }
   ],
   "source": [
    "#Data Cleaning\n",
    "loan_data = loan_data.dropna()\n",
    "print('Missing Value Presence in different columns of DataFrame are as follows : ')\n",
    "total=loan_data.isnull().sum().sort_values(ascending=False)\n",
    "percent=(loan_data.isnull().sum()/loan_data.isnull().count()*100).sort_values(ascending=False)\n",
    "pd.concat([total, percent], axis=1, keys=['Total', 'Percent'])\n"
   ]
  },
  {
   "cell_type": "code",
   "execution_count": 11,
   "id": "94b7284f",
   "metadata": {
    "execution": {
     "iopub.execute_input": "2024-06-30T14:53:21.936173Z",
     "iopub.status.busy": "2024-06-30T14:53:21.935728Z",
     "iopub.status.idle": "2024-06-30T14:53:21.944481Z",
     "shell.execute_reply": "2024-06-30T14:53:21.943289Z"
    },
    "papermill": {
     "duration": 0.024559,
     "end_time": "2024-06-30T14:53:21.947109",
     "exception": false,
     "start_time": "2024-06-30T14:53:21.922550",
     "status": "completed"
    },
    "tags": []
   },
   "outputs": [
    {
     "name": "stderr",
     "output_type": "stream",
     "text": [
      "/tmp/ipykernel_18/975739906.py:1: FutureWarning: Downcasting behavior in `replace` is deprecated and will be removed in a future version. To retain the old behavior, explicitly call `result.infer_objects(copy=False)`. To opt-in to the future behavior, set `pd.set_option('future.no_silent_downcasting', True)`\n",
      "  loan_data.replace({\"Loan_Status\":{'N':0,'Y':1}},inplace=True)\n",
      "/tmp/ipykernel_18/975739906.py:1: SettingWithCopyWarning: \n",
      "A value is trying to be set on a copy of a slice from a DataFrame.\n",
      "Try using .loc[row_indexer,col_indexer] = value instead\n",
      "\n",
      "See the caveats in the documentation: https://pandas.pydata.org/pandas-docs/stable/user_guide/indexing.html#returning-a-view-versus-a-copy\n",
      "  loan_data.replace({\"Loan_Status\":{'N':0,'Y':1}},inplace=True)\n"
     ]
    }
   ],
   "source": [
    "loan_data.replace({\"Loan_Status\":{'N':0,'Y':1}},inplace=True)"
   ]
  },
  {
   "cell_type": "code",
   "execution_count": 12,
   "id": "d37d6750",
   "metadata": {
    "execution": {
     "iopub.execute_input": "2024-06-30T14:53:21.973351Z",
     "iopub.status.busy": "2024-06-30T14:53:21.972899Z",
     "iopub.status.idle": "2024-06-30T14:53:21.996564Z",
     "shell.execute_reply": "2024-06-30T14:53:21.995271Z"
    },
    "papermill": {
     "duration": 0.039773,
     "end_time": "2024-06-30T14:53:21.999293",
     "exception": false,
     "start_time": "2024-06-30T14:53:21.959520",
     "status": "completed"
    },
    "tags": []
   },
   "outputs": [
    {
     "data": {
      "text/html": [
       "<div>\n",
       "<style scoped>\n",
       "    .dataframe tbody tr th:only-of-type {\n",
       "        vertical-align: middle;\n",
       "    }\n",
       "\n",
       "    .dataframe tbody tr th {\n",
       "        vertical-align: top;\n",
       "    }\n",
       "\n",
       "    .dataframe thead th {\n",
       "        text-align: right;\n",
       "    }\n",
       "</style>\n",
       "<table border=\"1\" class=\"dataframe\">\n",
       "  <thead>\n",
       "    <tr style=\"text-align: right;\">\n",
       "      <th></th>\n",
       "      <th>Loan_ID</th>\n",
       "      <th>Gender</th>\n",
       "      <th>Married</th>\n",
       "      <th>Dependents</th>\n",
       "      <th>Education</th>\n",
       "      <th>Self_Employed</th>\n",
       "      <th>ApplicantIncome</th>\n",
       "      <th>CoapplicantIncome</th>\n",
       "      <th>LoanAmount</th>\n",
       "      <th>Loan_Amount_Term</th>\n",
       "      <th>Credit_History</th>\n",
       "      <th>Property_Area</th>\n",
       "      <th>Loan_Status</th>\n",
       "    </tr>\n",
       "  </thead>\n",
       "  <tbody>\n",
       "    <tr>\n",
       "      <th>1</th>\n",
       "      <td>LP001003</td>\n",
       "      <td>Male</td>\n",
       "      <td>Yes</td>\n",
       "      <td>1</td>\n",
       "      <td>Graduate</td>\n",
       "      <td>No</td>\n",
       "      <td>4583</td>\n",
       "      <td>1508.0</td>\n",
       "      <td>128.0</td>\n",
       "      <td>360.0</td>\n",
       "      <td>1.0</td>\n",
       "      <td>Rural</td>\n",
       "      <td>0</td>\n",
       "    </tr>\n",
       "    <tr>\n",
       "      <th>2</th>\n",
       "      <td>LP001005</td>\n",
       "      <td>Male</td>\n",
       "      <td>Yes</td>\n",
       "      <td>0</td>\n",
       "      <td>Graduate</td>\n",
       "      <td>Yes</td>\n",
       "      <td>3000</td>\n",
       "      <td>0.0</td>\n",
       "      <td>66.0</td>\n",
       "      <td>360.0</td>\n",
       "      <td>1.0</td>\n",
       "      <td>Urban</td>\n",
       "      <td>1</td>\n",
       "    </tr>\n",
       "    <tr>\n",
       "      <th>3</th>\n",
       "      <td>LP001006</td>\n",
       "      <td>Male</td>\n",
       "      <td>Yes</td>\n",
       "      <td>0</td>\n",
       "      <td>Not Graduate</td>\n",
       "      <td>No</td>\n",
       "      <td>2583</td>\n",
       "      <td>2358.0</td>\n",
       "      <td>120.0</td>\n",
       "      <td>360.0</td>\n",
       "      <td>1.0</td>\n",
       "      <td>Urban</td>\n",
       "      <td>1</td>\n",
       "    </tr>\n",
       "    <tr>\n",
       "      <th>4</th>\n",
       "      <td>LP001008</td>\n",
       "      <td>Male</td>\n",
       "      <td>No</td>\n",
       "      <td>0</td>\n",
       "      <td>Graduate</td>\n",
       "      <td>No</td>\n",
       "      <td>6000</td>\n",
       "      <td>0.0</td>\n",
       "      <td>141.0</td>\n",
       "      <td>360.0</td>\n",
       "      <td>1.0</td>\n",
       "      <td>Urban</td>\n",
       "      <td>1</td>\n",
       "    </tr>\n",
       "    <tr>\n",
       "      <th>5</th>\n",
       "      <td>LP001011</td>\n",
       "      <td>Male</td>\n",
       "      <td>Yes</td>\n",
       "      <td>2</td>\n",
       "      <td>Graduate</td>\n",
       "      <td>Yes</td>\n",
       "      <td>5417</td>\n",
       "      <td>4196.0</td>\n",
       "      <td>267.0</td>\n",
       "      <td>360.0</td>\n",
       "      <td>1.0</td>\n",
       "      <td>Urban</td>\n",
       "      <td>1</td>\n",
       "    </tr>\n",
       "  </tbody>\n",
       "</table>\n",
       "</div>"
      ],
      "text/plain": [
       "    Loan_ID Gender Married Dependents     Education Self_Employed  \\\n",
       "1  LP001003   Male     Yes          1      Graduate            No   \n",
       "2  LP001005   Male     Yes          0      Graduate           Yes   \n",
       "3  LP001006   Male     Yes          0  Not Graduate            No   \n",
       "4  LP001008   Male      No          0      Graduate            No   \n",
       "5  LP001011   Male     Yes          2      Graduate           Yes   \n",
       "\n",
       "   ApplicantIncome  CoapplicantIncome  LoanAmount  Loan_Amount_Term  \\\n",
       "1             4583             1508.0       128.0             360.0   \n",
       "2             3000                0.0        66.0             360.0   \n",
       "3             2583             2358.0       120.0             360.0   \n",
       "4             6000                0.0       141.0             360.0   \n",
       "5             5417             4196.0       267.0             360.0   \n",
       "\n",
       "   Credit_History Property_Area  Loan_Status  \n",
       "1             1.0         Rural            0  \n",
       "2             1.0         Urban            1  \n",
       "3             1.0         Urban            1  \n",
       "4             1.0         Urban            1  \n",
       "5             1.0         Urban            1  "
      ]
     },
     "execution_count": 12,
     "metadata": {},
     "output_type": "execute_result"
    }
   ],
   "source": [
    "loan_data.head()"
   ]
  },
  {
   "cell_type": "code",
   "execution_count": 13,
   "id": "4a3339c1",
   "metadata": {
    "execution": {
     "iopub.execute_input": "2024-06-30T14:53:22.025850Z",
     "iopub.status.busy": "2024-06-30T14:53:22.025451Z",
     "iopub.status.idle": "2024-06-30T14:53:22.038553Z",
     "shell.execute_reply": "2024-06-30T14:53:22.037097Z"
    },
    "papermill": {
     "duration": 0.029587,
     "end_time": "2024-06-30T14:53:22.041204",
     "exception": false,
     "start_time": "2024-06-30T14:53:22.011617",
     "status": "completed"
    },
    "tags": []
   },
   "outputs": [
    {
     "data": {
      "text/plain": [
       "Dependents\n",
       "0    274\n",
       "2     85\n",
       "1     80\n",
       "4     41\n",
       "Name: count, dtype: int64"
      ]
     },
     "execution_count": 13,
     "metadata": {},
     "output_type": "execute_result"
    }
   ],
   "source": [
    "loan_data['Dependents'].value_counts()\n",
    "# Replacing the value of 3+ to 4\n",
    "loan_data = loan_data.replace(to_replace='3+', value=4)\n",
    "loan_data['Dependents'].value_counts()"
   ]
  },
  {
   "cell_type": "code",
   "execution_count": 14,
   "id": "359688ec",
   "metadata": {
    "execution": {
     "iopub.execute_input": "2024-06-30T14:53:22.068526Z",
     "iopub.status.busy": "2024-06-30T14:53:22.068135Z",
     "iopub.status.idle": "2024-06-30T14:53:22.082037Z",
     "shell.execute_reply": "2024-06-30T14:53:22.080909Z"
    },
    "papermill": {
     "duration": 0.030622,
     "end_time": "2024-06-30T14:53:22.084776",
     "exception": false,
     "start_time": "2024-06-30T14:53:22.054154",
     "status": "completed"
    },
    "tags": []
   },
   "outputs": [
    {
     "name": "stderr",
     "output_type": "stream",
     "text": [
      "/tmp/ipykernel_18/798390125.py:2: FutureWarning: Downcasting behavior in `replace` is deprecated and will be removed in a future version. To retain the old behavior, explicitly call `result.infer_objects(copy=False)`. To opt-in to the future behavior, set `pd.set_option('future.no_silent_downcasting', True)`\n",
      "  loan_data.replace({'Married':{'No':0,'Yes':1},'Gender':{'Male':1,'Female':0},'Self_Employed':{'No':0,'Yes':1},\n"
     ]
    }
   ],
   "source": [
    "# convert categorical columns to numerical values\n",
    "loan_data.replace({'Married':{'No':0,'Yes':1},'Gender':{'Male':1,'Female':0},'Self_Employed':{'No':0,'Yes':1},\n",
    "                      'Property_Area':{'Rural':0,'Semiurban':1,'Urban':2},'Education':{'Graduate':1,'Not Graduate':0}},inplace=True)"
   ]
  },
  {
   "cell_type": "code",
   "execution_count": 15,
   "id": "1442906f",
   "metadata": {
    "execution": {
     "iopub.execute_input": "2024-06-30T14:53:22.112791Z",
     "iopub.status.busy": "2024-06-30T14:53:22.112355Z",
     "iopub.status.idle": "2024-06-30T14:53:22.133232Z",
     "shell.execute_reply": "2024-06-30T14:53:22.131973Z"
    },
    "papermill": {
     "duration": 0.038574,
     "end_time": "2024-06-30T14:53:22.136104",
     "exception": false,
     "start_time": "2024-06-30T14:53:22.097530",
     "status": "completed"
    },
    "tags": []
   },
   "outputs": [
    {
     "data": {
      "text/html": [
       "<div>\n",
       "<style scoped>\n",
       "    .dataframe tbody tr th:only-of-type {\n",
       "        vertical-align: middle;\n",
       "    }\n",
       "\n",
       "    .dataframe tbody tr th {\n",
       "        vertical-align: top;\n",
       "    }\n",
       "\n",
       "    .dataframe thead th {\n",
       "        text-align: right;\n",
       "    }\n",
       "</style>\n",
       "<table border=\"1\" class=\"dataframe\">\n",
       "  <thead>\n",
       "    <tr style=\"text-align: right;\">\n",
       "      <th></th>\n",
       "      <th>Loan_ID</th>\n",
       "      <th>Gender</th>\n",
       "      <th>Married</th>\n",
       "      <th>Dependents</th>\n",
       "      <th>Education</th>\n",
       "      <th>Self_Employed</th>\n",
       "      <th>ApplicantIncome</th>\n",
       "      <th>CoapplicantIncome</th>\n",
       "      <th>LoanAmount</th>\n",
       "      <th>Loan_Amount_Term</th>\n",
       "      <th>Credit_History</th>\n",
       "      <th>Property_Area</th>\n",
       "      <th>Loan_Status</th>\n",
       "    </tr>\n",
       "  </thead>\n",
       "  <tbody>\n",
       "    <tr>\n",
       "      <th>1</th>\n",
       "      <td>LP001003</td>\n",
       "      <td>1</td>\n",
       "      <td>1</td>\n",
       "      <td>1</td>\n",
       "      <td>1</td>\n",
       "      <td>0</td>\n",
       "      <td>4583</td>\n",
       "      <td>1508.0</td>\n",
       "      <td>128.0</td>\n",
       "      <td>360.0</td>\n",
       "      <td>1.0</td>\n",
       "      <td>0</td>\n",
       "      <td>0</td>\n",
       "    </tr>\n",
       "    <tr>\n",
       "      <th>2</th>\n",
       "      <td>LP001005</td>\n",
       "      <td>1</td>\n",
       "      <td>1</td>\n",
       "      <td>0</td>\n",
       "      <td>1</td>\n",
       "      <td>1</td>\n",
       "      <td>3000</td>\n",
       "      <td>0.0</td>\n",
       "      <td>66.0</td>\n",
       "      <td>360.0</td>\n",
       "      <td>1.0</td>\n",
       "      <td>2</td>\n",
       "      <td>1</td>\n",
       "    </tr>\n",
       "    <tr>\n",
       "      <th>3</th>\n",
       "      <td>LP001006</td>\n",
       "      <td>1</td>\n",
       "      <td>1</td>\n",
       "      <td>0</td>\n",
       "      <td>0</td>\n",
       "      <td>0</td>\n",
       "      <td>2583</td>\n",
       "      <td>2358.0</td>\n",
       "      <td>120.0</td>\n",
       "      <td>360.0</td>\n",
       "      <td>1.0</td>\n",
       "      <td>2</td>\n",
       "      <td>1</td>\n",
       "    </tr>\n",
       "    <tr>\n",
       "      <th>4</th>\n",
       "      <td>LP001008</td>\n",
       "      <td>1</td>\n",
       "      <td>0</td>\n",
       "      <td>0</td>\n",
       "      <td>1</td>\n",
       "      <td>0</td>\n",
       "      <td>6000</td>\n",
       "      <td>0.0</td>\n",
       "      <td>141.0</td>\n",
       "      <td>360.0</td>\n",
       "      <td>1.0</td>\n",
       "      <td>2</td>\n",
       "      <td>1</td>\n",
       "    </tr>\n",
       "    <tr>\n",
       "      <th>5</th>\n",
       "      <td>LP001011</td>\n",
       "      <td>1</td>\n",
       "      <td>1</td>\n",
       "      <td>2</td>\n",
       "      <td>1</td>\n",
       "      <td>1</td>\n",
       "      <td>5417</td>\n",
       "      <td>4196.0</td>\n",
       "      <td>267.0</td>\n",
       "      <td>360.0</td>\n",
       "      <td>1.0</td>\n",
       "      <td>2</td>\n",
       "      <td>1</td>\n",
       "    </tr>\n",
       "  </tbody>\n",
       "</table>\n",
       "</div>"
      ],
      "text/plain": [
       "    Loan_ID  Gender  Married Dependents  Education  Self_Employed  \\\n",
       "1  LP001003       1        1          1          1              0   \n",
       "2  LP001005       1        1          0          1              1   \n",
       "3  LP001006       1        1          0          0              0   \n",
       "4  LP001008       1        0          0          1              0   \n",
       "5  LP001011       1        1          2          1              1   \n",
       "\n",
       "   ApplicantIncome  CoapplicantIncome  LoanAmount  Loan_Amount_Term  \\\n",
       "1             4583             1508.0       128.0             360.0   \n",
       "2             3000                0.0        66.0             360.0   \n",
       "3             2583             2358.0       120.0             360.0   \n",
       "4             6000                0.0       141.0             360.0   \n",
       "5             5417             4196.0       267.0             360.0   \n",
       "\n",
       "   Credit_History  Property_Area  Loan_Status  \n",
       "1             1.0              0            0  \n",
       "2             1.0              2            1  \n",
       "3             1.0              2            1  \n",
       "4             1.0              2            1  \n",
       "5             1.0              2            1  "
      ]
     },
     "execution_count": 15,
     "metadata": {},
     "output_type": "execute_result"
    }
   ],
   "source": [
    "loan_data.head()"
   ]
  },
  {
   "cell_type": "code",
   "execution_count": 16,
   "id": "383d2777",
   "metadata": {
    "execution": {
     "iopub.execute_input": "2024-06-30T14:53:22.164166Z",
     "iopub.status.busy": "2024-06-30T14:53:22.163710Z",
     "iopub.status.idle": "2024-06-30T14:53:22.172274Z",
     "shell.execute_reply": "2024-06-30T14:53:22.170528Z"
    },
    "papermill": {
     "duration": 0.025781,
     "end_time": "2024-06-30T14:53:22.175125",
     "exception": false,
     "start_time": "2024-06-30T14:53:22.149344",
     "status": "completed"
    },
    "tags": []
   },
   "outputs": [],
   "source": [
    "# separating the data and labels\n",
    "X = loan_data.drop(columns = ['Loan_ID','Loan_Status'], axis=1) # Feature matrix\n",
    "y = loan_data['Loan_Status'] # Target variable"
   ]
  },
  {
   "cell_type": "code",
   "execution_count": 17,
   "id": "7a7bd546",
   "metadata": {
    "execution": {
     "iopub.execute_input": "2024-06-30T14:53:22.203533Z",
     "iopub.status.busy": "2024-06-30T14:53:22.203136Z",
     "iopub.status.idle": "2024-06-30T14:53:22.229145Z",
     "shell.execute_reply": "2024-06-30T14:53:22.227904Z"
    },
    "papermill": {
     "duration": 0.042962,
     "end_time": "2024-06-30T14:53:22.231509",
     "exception": false,
     "start_time": "2024-06-30T14:53:22.188547",
     "status": "completed"
    },
    "tags": []
   },
   "outputs": [
    {
     "data": {
      "text/html": [
       "<div>\n",
       "<style scoped>\n",
       "    .dataframe tbody tr th:only-of-type {\n",
       "        vertical-align: middle;\n",
       "    }\n",
       "\n",
       "    .dataframe tbody tr th {\n",
       "        vertical-align: top;\n",
       "    }\n",
       "\n",
       "    .dataframe thead th {\n",
       "        text-align: right;\n",
       "    }\n",
       "</style>\n",
       "<table border=\"1\" class=\"dataframe\">\n",
       "  <thead>\n",
       "    <tr style=\"text-align: right;\">\n",
       "      <th></th>\n",
       "      <th>Gender</th>\n",
       "      <th>Married</th>\n",
       "      <th>Dependents</th>\n",
       "      <th>Education</th>\n",
       "      <th>Self_Employed</th>\n",
       "      <th>ApplicantIncome</th>\n",
       "      <th>CoapplicantIncome</th>\n",
       "      <th>LoanAmount</th>\n",
       "      <th>Loan_Amount_Term</th>\n",
       "      <th>Credit_History</th>\n",
       "      <th>Property_Area</th>\n",
       "    </tr>\n",
       "  </thead>\n",
       "  <tbody>\n",
       "    <tr>\n",
       "      <th>1</th>\n",
       "      <td>1</td>\n",
       "      <td>1</td>\n",
       "      <td>1</td>\n",
       "      <td>1</td>\n",
       "      <td>0</td>\n",
       "      <td>4583</td>\n",
       "      <td>1508.0</td>\n",
       "      <td>128.0</td>\n",
       "      <td>360.0</td>\n",
       "      <td>1.0</td>\n",
       "      <td>0</td>\n",
       "    </tr>\n",
       "    <tr>\n",
       "      <th>2</th>\n",
       "      <td>1</td>\n",
       "      <td>1</td>\n",
       "      <td>0</td>\n",
       "      <td>1</td>\n",
       "      <td>1</td>\n",
       "      <td>3000</td>\n",
       "      <td>0.0</td>\n",
       "      <td>66.0</td>\n",
       "      <td>360.0</td>\n",
       "      <td>1.0</td>\n",
       "      <td>2</td>\n",
       "    </tr>\n",
       "    <tr>\n",
       "      <th>3</th>\n",
       "      <td>1</td>\n",
       "      <td>1</td>\n",
       "      <td>0</td>\n",
       "      <td>0</td>\n",
       "      <td>0</td>\n",
       "      <td>2583</td>\n",
       "      <td>2358.0</td>\n",
       "      <td>120.0</td>\n",
       "      <td>360.0</td>\n",
       "      <td>1.0</td>\n",
       "      <td>2</td>\n",
       "    </tr>\n",
       "    <tr>\n",
       "      <th>4</th>\n",
       "      <td>1</td>\n",
       "      <td>0</td>\n",
       "      <td>0</td>\n",
       "      <td>1</td>\n",
       "      <td>0</td>\n",
       "      <td>6000</td>\n",
       "      <td>0.0</td>\n",
       "      <td>141.0</td>\n",
       "      <td>360.0</td>\n",
       "      <td>1.0</td>\n",
       "      <td>2</td>\n",
       "    </tr>\n",
       "    <tr>\n",
       "      <th>5</th>\n",
       "      <td>1</td>\n",
       "      <td>1</td>\n",
       "      <td>2</td>\n",
       "      <td>1</td>\n",
       "      <td>1</td>\n",
       "      <td>5417</td>\n",
       "      <td>4196.0</td>\n",
       "      <td>267.0</td>\n",
       "      <td>360.0</td>\n",
       "      <td>1.0</td>\n",
       "      <td>2</td>\n",
       "    </tr>\n",
       "    <tr>\n",
       "      <th>...</th>\n",
       "      <td>...</td>\n",
       "      <td>...</td>\n",
       "      <td>...</td>\n",
       "      <td>...</td>\n",
       "      <td>...</td>\n",
       "      <td>...</td>\n",
       "      <td>...</td>\n",
       "      <td>...</td>\n",
       "      <td>...</td>\n",
       "      <td>...</td>\n",
       "      <td>...</td>\n",
       "    </tr>\n",
       "    <tr>\n",
       "      <th>609</th>\n",
       "      <td>0</td>\n",
       "      <td>0</td>\n",
       "      <td>0</td>\n",
       "      <td>1</td>\n",
       "      <td>0</td>\n",
       "      <td>2900</td>\n",
       "      <td>0.0</td>\n",
       "      <td>71.0</td>\n",
       "      <td>360.0</td>\n",
       "      <td>1.0</td>\n",
       "      <td>0</td>\n",
       "    </tr>\n",
       "    <tr>\n",
       "      <th>610</th>\n",
       "      <td>1</td>\n",
       "      <td>1</td>\n",
       "      <td>4</td>\n",
       "      <td>1</td>\n",
       "      <td>0</td>\n",
       "      <td>4106</td>\n",
       "      <td>0.0</td>\n",
       "      <td>40.0</td>\n",
       "      <td>180.0</td>\n",
       "      <td>1.0</td>\n",
       "      <td>0</td>\n",
       "    </tr>\n",
       "    <tr>\n",
       "      <th>611</th>\n",
       "      <td>1</td>\n",
       "      <td>1</td>\n",
       "      <td>1</td>\n",
       "      <td>1</td>\n",
       "      <td>0</td>\n",
       "      <td>8072</td>\n",
       "      <td>240.0</td>\n",
       "      <td>253.0</td>\n",
       "      <td>360.0</td>\n",
       "      <td>1.0</td>\n",
       "      <td>2</td>\n",
       "    </tr>\n",
       "    <tr>\n",
       "      <th>612</th>\n",
       "      <td>1</td>\n",
       "      <td>1</td>\n",
       "      <td>2</td>\n",
       "      <td>1</td>\n",
       "      <td>0</td>\n",
       "      <td>7583</td>\n",
       "      <td>0.0</td>\n",
       "      <td>187.0</td>\n",
       "      <td>360.0</td>\n",
       "      <td>1.0</td>\n",
       "      <td>2</td>\n",
       "    </tr>\n",
       "    <tr>\n",
       "      <th>613</th>\n",
       "      <td>0</td>\n",
       "      <td>0</td>\n",
       "      <td>0</td>\n",
       "      <td>1</td>\n",
       "      <td>1</td>\n",
       "      <td>4583</td>\n",
       "      <td>0.0</td>\n",
       "      <td>133.0</td>\n",
       "      <td>360.0</td>\n",
       "      <td>0.0</td>\n",
       "      <td>1</td>\n",
       "    </tr>\n",
       "  </tbody>\n",
       "</table>\n",
       "<p>480 rows × 11 columns</p>\n",
       "</div>"
      ],
      "text/plain": [
       "     Gender  Married Dependents  Education  Self_Employed  ApplicantIncome  \\\n",
       "1         1        1          1          1              0             4583   \n",
       "2         1        1          0          1              1             3000   \n",
       "3         1        1          0          0              0             2583   \n",
       "4         1        0          0          1              0             6000   \n",
       "5         1        1          2          1              1             5417   \n",
       "..      ...      ...        ...        ...            ...              ...   \n",
       "609       0        0          0          1              0             2900   \n",
       "610       1        1          4          1              0             4106   \n",
       "611       1        1          1          1              0             8072   \n",
       "612       1        1          2          1              0             7583   \n",
       "613       0        0          0          1              1             4583   \n",
       "\n",
       "     CoapplicantIncome  LoanAmount  Loan_Amount_Term  Credit_History  \\\n",
       "1               1508.0       128.0             360.0             1.0   \n",
       "2                  0.0        66.0             360.0             1.0   \n",
       "3               2358.0       120.0             360.0             1.0   \n",
       "4                  0.0       141.0             360.0             1.0   \n",
       "5               4196.0       267.0             360.0             1.0   \n",
       "..                 ...         ...               ...             ...   \n",
       "609                0.0        71.0             360.0             1.0   \n",
       "610                0.0        40.0             180.0             1.0   \n",
       "611              240.0       253.0             360.0             1.0   \n",
       "612                0.0       187.0             360.0             1.0   \n",
       "613                0.0       133.0             360.0             0.0   \n",
       "\n",
       "     Property_Area  \n",
       "1                0  \n",
       "2                2  \n",
       "3                2  \n",
       "4                2  \n",
       "5                2  \n",
       "..             ...  \n",
       "609              0  \n",
       "610              0  \n",
       "611              2  \n",
       "612              2  \n",
       "613              1  \n",
       "\n",
       "[480 rows x 11 columns]"
      ]
     },
     "execution_count": 17,
     "metadata": {},
     "output_type": "execute_result"
    }
   ],
   "source": [
    "X"
   ]
  },
  {
   "cell_type": "code",
   "execution_count": 18,
   "id": "362a4a02",
   "metadata": {
    "execution": {
     "iopub.execute_input": "2024-06-30T14:53:22.261409Z",
     "iopub.status.busy": "2024-06-30T14:53:22.260877Z",
     "iopub.status.idle": "2024-06-30T14:53:22.270600Z",
     "shell.execute_reply": "2024-06-30T14:53:22.269408Z"
    },
    "papermill": {
     "duration": 0.028082,
     "end_time": "2024-06-30T14:53:22.273385",
     "exception": false,
     "start_time": "2024-06-30T14:53:22.245303",
     "status": "completed"
    },
    "tags": []
   },
   "outputs": [
    {
     "data": {
      "text/plain": [
       "1      0\n",
       "2      1\n",
       "3      1\n",
       "4      1\n",
       "5      1\n",
       "      ..\n",
       "609    1\n",
       "610    1\n",
       "611    1\n",
       "612    1\n",
       "613    0\n",
       "Name: Loan_Status, Length: 480, dtype: int64"
      ]
     },
     "execution_count": 18,
     "metadata": {},
     "output_type": "execute_result"
    }
   ],
   "source": [
    "y"
   ]
  },
  {
   "cell_type": "code",
   "execution_count": 19,
   "id": "41e867f8",
   "metadata": {
    "execution": {
     "iopub.execute_input": "2024-06-30T14:53:22.302586Z",
     "iopub.status.busy": "2024-06-30T14:53:22.302082Z",
     "iopub.status.idle": "2024-06-30T14:53:22.317282Z",
     "shell.execute_reply": "2024-06-30T14:53:22.316002Z"
    },
    "papermill": {
     "duration": 0.032861,
     "end_time": "2024-06-30T14:53:22.319825",
     "exception": false,
     "start_time": "2024-06-30T14:53:22.286964",
     "status": "completed"
    },
    "tags": []
   },
   "outputs": [
    {
     "data": {
      "text/html": [
       "<style>#sk-container-id-1 {color: black;background-color: white;}#sk-container-id-1 pre{padding: 0;}#sk-container-id-1 div.sk-toggleable {background-color: white;}#sk-container-id-1 label.sk-toggleable__label {cursor: pointer;display: block;width: 100%;margin-bottom: 0;padding: 0.3em;box-sizing: border-box;text-align: center;}#sk-container-id-1 label.sk-toggleable__label-arrow:before {content: \"▸\";float: left;margin-right: 0.25em;color: #696969;}#sk-container-id-1 label.sk-toggleable__label-arrow:hover:before {color: black;}#sk-container-id-1 div.sk-estimator:hover label.sk-toggleable__label-arrow:before {color: black;}#sk-container-id-1 div.sk-toggleable__content {max-height: 0;max-width: 0;overflow: hidden;text-align: left;background-color: #f0f8ff;}#sk-container-id-1 div.sk-toggleable__content pre {margin: 0.2em;color: black;border-radius: 0.25em;background-color: #f0f8ff;}#sk-container-id-1 input.sk-toggleable__control:checked~div.sk-toggleable__content {max-height: 200px;max-width: 100%;overflow: auto;}#sk-container-id-1 input.sk-toggleable__control:checked~label.sk-toggleable__label-arrow:before {content: \"▾\";}#sk-container-id-1 div.sk-estimator input.sk-toggleable__control:checked~label.sk-toggleable__label {background-color: #d4ebff;}#sk-container-id-1 div.sk-label input.sk-toggleable__control:checked~label.sk-toggleable__label {background-color: #d4ebff;}#sk-container-id-1 input.sk-hidden--visually {border: 0;clip: rect(1px 1px 1px 1px);clip: rect(1px, 1px, 1px, 1px);height: 1px;margin: -1px;overflow: hidden;padding: 0;position: absolute;width: 1px;}#sk-container-id-1 div.sk-estimator {font-family: monospace;background-color: #f0f8ff;border: 1px dotted black;border-radius: 0.25em;box-sizing: border-box;margin-bottom: 0.5em;}#sk-container-id-1 div.sk-estimator:hover {background-color: #d4ebff;}#sk-container-id-1 div.sk-parallel-item::after {content: \"\";width: 100%;border-bottom: 1px solid gray;flex-grow: 1;}#sk-container-id-1 div.sk-label:hover label.sk-toggleable__label {background-color: #d4ebff;}#sk-container-id-1 div.sk-serial::before {content: \"\";position: absolute;border-left: 1px solid gray;box-sizing: border-box;top: 0;bottom: 0;left: 50%;z-index: 0;}#sk-container-id-1 div.sk-serial {display: flex;flex-direction: column;align-items: center;background-color: white;padding-right: 0.2em;padding-left: 0.2em;position: relative;}#sk-container-id-1 div.sk-item {position: relative;z-index: 1;}#sk-container-id-1 div.sk-parallel {display: flex;align-items: stretch;justify-content: center;background-color: white;position: relative;}#sk-container-id-1 div.sk-item::before, #sk-container-id-1 div.sk-parallel-item::before {content: \"\";position: absolute;border-left: 1px solid gray;box-sizing: border-box;top: 0;bottom: 0;left: 50%;z-index: -1;}#sk-container-id-1 div.sk-parallel-item {display: flex;flex-direction: column;z-index: 1;position: relative;background-color: white;}#sk-container-id-1 div.sk-parallel-item:first-child::after {align-self: flex-end;width: 50%;}#sk-container-id-1 div.sk-parallel-item:last-child::after {align-self: flex-start;width: 50%;}#sk-container-id-1 div.sk-parallel-item:only-child::after {width: 0;}#sk-container-id-1 div.sk-dashed-wrapped {border: 1px dashed gray;margin: 0 0.4em 0.5em 0.4em;box-sizing: border-box;padding-bottom: 0.4em;background-color: white;}#sk-container-id-1 div.sk-label label {font-family: monospace;font-weight: bold;display: inline-block;line-height: 1.2em;}#sk-container-id-1 div.sk-label-container {text-align: center;}#sk-container-id-1 div.sk-container {/* jupyter's `normalize.less` sets `[hidden] { display: none; }` but bootstrap.min.css set `[hidden] { display: none !important; }` so we also need the `!important` here to be able to override the default hidden behavior on the sphinx rendered scikit-learn.org. See: https://github.com/scikit-learn/scikit-learn/issues/21755 */display: inline-block !important;position: relative;}#sk-container-id-1 div.sk-text-repr-fallback {display: none;}</style><div id=\"sk-container-id-1\" class=\"sk-top-container\"><div class=\"sk-text-repr-fallback\"><pre>StandardScaler()</pre><b>In a Jupyter environment, please rerun this cell to show the HTML representation or trust the notebook. <br />On GitHub, the HTML representation is unable to render, please try loading this page with nbviewer.org.</b></div><div class=\"sk-container\" hidden><div class=\"sk-item\"><div class=\"sk-estimator sk-toggleable\"><input class=\"sk-toggleable__control sk-hidden--visually\" id=\"sk-estimator-id-1\" type=\"checkbox\" checked><label for=\"sk-estimator-id-1\" class=\"sk-toggleable__label sk-toggleable__label-arrow\">StandardScaler</label><div class=\"sk-toggleable__content\"><pre>StandardScaler()</pre></div></div></div></div></div>"
      ],
      "text/plain": [
       "StandardScaler()"
      ]
     },
     "execution_count": 19,
     "metadata": {},
     "output_type": "execute_result"
    }
   ],
   "source": [
    "scaler = StandardScaler()\n",
    "scaler.fit(X)"
   ]
  },
  {
   "cell_type": "code",
   "execution_count": 20,
   "id": "b17ce2ef",
   "metadata": {
    "execution": {
     "iopub.execute_input": "2024-06-30T14:53:22.350180Z",
     "iopub.status.busy": "2024-06-30T14:53:22.349667Z",
     "iopub.status.idle": "2024-06-30T14:53:22.362625Z",
     "shell.execute_reply": "2024-06-30T14:53:22.361423Z"
    },
    "papermill": {
     "duration": 0.031788,
     "end_time": "2024-06-30T14:53:22.365512",
     "exception": false,
     "start_time": "2024-06-30T14:53:22.333724",
     "status": "completed"
    },
    "tags": []
   },
   "outputs": [
    {
     "data": {
      "text/plain": [
       "array([[ 0.46719815,  0.73716237,  0.11235219, ...,  0.27554157,\n",
       "         0.41319694, -1.31886834],\n",
       "       [ 0.46719815,  0.73716237, -0.70475462, ...,  0.27554157,\n",
       "         0.41319694,  1.25977445],\n",
       "       [ 0.46719815,  0.73716237, -0.70475462, ...,  0.27554157,\n",
       "         0.41319694,  1.25977445],\n",
       "       ...,\n",
       "       [ 0.46719815,  0.73716237,  0.11235219, ...,  0.27554157,\n",
       "         0.41319694,  1.25977445],\n",
       "       [ 0.46719815,  0.73716237,  0.92945899, ...,  0.27554157,\n",
       "         0.41319694,  1.25977445],\n",
       "       [-2.14041943, -1.35655324, -0.70475462, ...,  0.27554157,\n",
       "        -2.42015348, -0.02954695]])"
      ]
     },
     "execution_count": 20,
     "metadata": {},
     "output_type": "execute_result"
    }
   ],
   "source": [
    "standardized_data = scaler.transform(X)\n",
    "standardized_data"
   ]
  },
  {
   "cell_type": "code",
   "execution_count": 21,
   "id": "6b4dda69",
   "metadata": {
    "execution": {
     "iopub.execute_input": "2024-06-30T14:53:22.396110Z",
     "iopub.status.busy": "2024-06-30T14:53:22.395663Z",
     "iopub.status.idle": "2024-06-30T14:53:22.404110Z",
     "shell.execute_reply": "2024-06-30T14:53:22.402894Z"
    },
    "papermill": {
     "duration": 0.026463,
     "end_time": "2024-06-30T14:53:22.406802",
     "exception": false,
     "start_time": "2024-06-30T14:53:22.380339",
     "status": "completed"
    },
    "tags": []
   },
   "outputs": [
    {
     "data": {
      "text/plain": [
       "array([[ 0.46719815,  0.73716237,  0.11235219, ...,  0.27554157,\n",
       "         0.41319694, -1.31886834],\n",
       "       [ 0.46719815,  0.73716237, -0.70475462, ...,  0.27554157,\n",
       "         0.41319694,  1.25977445],\n",
       "       [ 0.46719815,  0.73716237, -0.70475462, ...,  0.27554157,\n",
       "         0.41319694,  1.25977445],\n",
       "       ...,\n",
       "       [ 0.46719815,  0.73716237,  0.11235219, ...,  0.27554157,\n",
       "         0.41319694,  1.25977445],\n",
       "       [ 0.46719815,  0.73716237,  0.92945899, ...,  0.27554157,\n",
       "         0.41319694,  1.25977445],\n",
       "       [-2.14041943, -1.35655324, -0.70475462, ...,  0.27554157,\n",
       "        -2.42015348, -0.02954695]])"
      ]
     },
     "execution_count": 21,
     "metadata": {},
     "output_type": "execute_result"
    }
   ],
   "source": [
    "X=standardized_data\n",
    "X"
   ]
  },
  {
   "cell_type": "code",
   "execution_count": 22,
   "id": "1efdcfad",
   "metadata": {
    "execution": {
     "iopub.execute_input": "2024-06-30T14:53:22.437414Z",
     "iopub.status.busy": "2024-06-30T14:53:22.436997Z",
     "iopub.status.idle": "2024-06-30T14:53:22.447775Z",
     "shell.execute_reply": "2024-06-30T14:53:22.446603Z"
    },
    "papermill": {
     "duration": 0.029075,
     "end_time": "2024-06-30T14:53:22.450690",
     "exception": false,
     "start_time": "2024-06-30T14:53:22.421615",
     "status": "completed"
    },
    "tags": []
   },
   "outputs": [],
   "source": [
    "from sklearn.model_selection import train_test_split\n",
    "\n",
    "X_train, X_test, y_train, y_test = train_test_split(X, y, test_size=0.2, stratify=y, random_state=45)\n"
   ]
  },
  {
   "cell_type": "code",
   "execution_count": 23,
   "id": "f170b836",
   "metadata": {
    "execution": {
     "iopub.execute_input": "2024-06-30T14:53:22.481393Z",
     "iopub.status.busy": "2024-06-30T14:53:22.480979Z",
     "iopub.status.idle": "2024-06-30T14:53:22.487564Z",
     "shell.execute_reply": "2024-06-30T14:53:22.486230Z"
    },
    "papermill": {
     "duration": 0.025544,
     "end_time": "2024-06-30T14:53:22.490549",
     "exception": false,
     "start_time": "2024-06-30T14:53:22.465005",
     "status": "completed"
    },
    "tags": []
   },
   "outputs": [
    {
     "name": "stdout",
     "output_type": "stream",
     "text": [
      "(480, 11) (384, 11) (96, 11)\n"
     ]
    }
   ],
   "source": [
    "print(X.shape, X_train.shape, X_test.shape)\n"
   ]
  },
  {
   "cell_type": "code",
   "execution_count": 24,
   "id": "d414f3e9",
   "metadata": {
    "execution": {
     "iopub.execute_input": "2024-06-30T14:53:22.523106Z",
     "iopub.status.busy": "2024-06-30T14:53:22.522675Z",
     "iopub.status.idle": "2024-06-30T14:53:22.529275Z",
     "shell.execute_reply": "2024-06-30T14:53:22.528084Z"
    },
    "papermill": {
     "duration": 0.026954,
     "end_time": "2024-06-30T14:53:22.532383",
     "exception": false,
     "start_time": "2024-06-30T14:53:22.505429",
     "status": "completed"
    },
    "tags": []
   },
   "outputs": [
    {
     "name": "stdout",
     "output_type": "stream",
     "text": [
      "(480,) (384,) (96,)\n"
     ]
    }
   ],
   "source": [
    "print(y.shape, y_train.shape, y_test.shape)\n"
   ]
  },
  {
   "cell_type": "code",
   "execution_count": 25,
   "id": "6dfb11f9",
   "metadata": {
    "execution": {
     "iopub.execute_input": "2024-06-30T14:53:22.563063Z",
     "iopub.status.busy": "2024-06-30T14:53:22.562614Z",
     "iopub.status.idle": "2024-06-30T14:53:22.905454Z",
     "shell.execute_reply": "2024-06-30T14:53:22.904225Z"
    },
    "papermill": {
     "duration": 0.362026,
     "end_time": "2024-06-30T14:53:22.908556",
     "exception": false,
     "start_time": "2024-06-30T14:53:22.546530",
     "status": "completed"
    },
    "tags": []
   },
   "outputs": [],
   "source": [
    "#Model Comparison\n",
    "models = [LogisticRegression, SVC, DecisionTreeClassifier, RandomForestClassifier]\n",
    "accuracy_scores = []\n",
    "precision_scores = []\n",
    "recall_scores = []\n",
    "f1_scores = []\n",
    "\n",
    "for model in models:\n",
    "    classifier = model().fit(X_train, y_train)\n",
    "    y_pred = classifier.predict(X_test)\n",
    "    \n",
    "    accuracy_scores.append(accuracy_score(y_test, y_pred))\n",
    "    precision_scores.append(precision_score(y_test, y_pred))\n",
    "    recall_scores.append(recall_score(y_test, y_pred))\n",
    "    f1_scores.append(f1_score(y_test, y_pred))\n"
   ]
  },
  {
   "cell_type": "code",
   "execution_count": 26,
   "id": "1d840caf",
   "metadata": {
    "execution": {
     "iopub.execute_input": "2024-06-30T14:53:22.939875Z",
     "iopub.status.busy": "2024-06-30T14:53:22.939462Z",
     "iopub.status.idle": "2024-06-30T14:53:22.956308Z",
     "shell.execute_reply": "2024-06-30T14:53:22.955228Z"
    },
    "papermill": {
     "duration": 0.035473,
     "end_time": "2024-06-30T14:53:22.958827",
     "exception": false,
     "start_time": "2024-06-30T14:53:22.923354",
     "status": "completed"
    },
    "tags": []
   },
   "outputs": [
    {
     "data": {
      "text/html": [
       "<div>\n",
       "<style scoped>\n",
       "    .dataframe tbody tr th:only-of-type {\n",
       "        vertical-align: middle;\n",
       "    }\n",
       "\n",
       "    .dataframe tbody tr th {\n",
       "        vertical-align: top;\n",
       "    }\n",
       "\n",
       "    .dataframe thead th {\n",
       "        text-align: right;\n",
       "    }\n",
       "</style>\n",
       "<table border=\"1\" class=\"dataframe\">\n",
       "  <thead>\n",
       "    <tr style=\"text-align: right;\">\n",
       "      <th></th>\n",
       "      <th>Accuracy</th>\n",
       "      <th>Precision</th>\n",
       "      <th>Recall</th>\n",
       "      <th>F1 Score</th>\n",
       "    </tr>\n",
       "    <tr>\n",
       "      <th>Model</th>\n",
       "      <th></th>\n",
       "      <th></th>\n",
       "      <th></th>\n",
       "      <th></th>\n",
       "    </tr>\n",
       "  </thead>\n",
       "  <tbody>\n",
       "    <tr>\n",
       "      <th>Logistic Regression</th>\n",
       "      <td>0.760417</td>\n",
       "      <td>0.752941</td>\n",
       "      <td>0.969697</td>\n",
       "      <td>0.847682</td>\n",
       "    </tr>\n",
       "    <tr>\n",
       "      <th>SVM</th>\n",
       "      <td>0.750000</td>\n",
       "      <td>0.750000</td>\n",
       "      <td>0.954545</td>\n",
       "      <td>0.840000</td>\n",
       "    </tr>\n",
       "    <tr>\n",
       "      <th>Decision Tree</th>\n",
       "      <td>0.677083</td>\n",
       "      <td>0.753623</td>\n",
       "      <td>0.787879</td>\n",
       "      <td>0.770370</td>\n",
       "    </tr>\n",
       "    <tr>\n",
       "      <th>Random Forest</th>\n",
       "      <td>0.750000</td>\n",
       "      <td>0.769231</td>\n",
       "      <td>0.909091</td>\n",
       "      <td>0.833333</td>\n",
       "    </tr>\n",
       "  </tbody>\n",
       "</table>\n",
       "</div>"
      ],
      "text/plain": [
       "                     Accuracy  Precision    Recall  F1 Score\n",
       "Model                                                       \n",
       "Logistic Regression  0.760417   0.752941  0.969697  0.847682\n",
       "SVM                  0.750000   0.750000  0.954545  0.840000\n",
       "Decision Tree        0.677083   0.753623  0.787879  0.770370\n",
       "Random Forest        0.750000   0.769231  0.909091  0.833333"
      ]
     },
     "execution_count": 26,
     "metadata": {},
     "output_type": "execute_result"
    }
   ],
   "source": [
    "classification_metrics_df = pd.DataFrame({\n",
    "    \"Model\": [\"Logistic Regression\", \"SVM\", \"Decision Tree\", \"Random Forest\"],\n",
    "    \"Accuracy\": accuracy_scores,\n",
    "    \"Precision\": precision_scores,\n",
    "    \"Recall\": recall_scores,\n",
    "    \"F1 Score\": f1_scores\n",
    "})\n",
    "\n",
    "classification_metrics_df.set_index('Model', inplace=True)\n",
    "classification_metrics_df\n"
   ]
  },
  {
   "cell_type": "markdown",
   "id": "de92020d",
   "metadata": {
    "papermill": {
     "duration": 0.014385,
     "end_time": "2024-06-30T14:53:22.987989",
     "exception": false,
     "start_time": "2024-06-30T14:53:22.973604",
     "status": "completed"
    },
    "tags": []
   },
   "source": [
    "# Inference\n",
    "1. Logistic Regression demonstrates the highest recall (0.97) indicating its effectiveness in identifying eligible applicants. However, precision (0.75) and F1 score (0.85) show a trade-off between accuracy and false positives.\n",
    "\n",
    "2. SVM maintains a high recall (0.95) with a slightly lower precision (0.75). It's a balanced choice for minimizing false negatives while controlling false positives.\n",
    "\n",
    "3. Decision Tree has the lowest accuracy (0.65) among the models. It provides good precision (0.75) but struggles with recall (0.73) leading to a moderate F1 score (0.74).\n",
    "\n",
    "4. Random Forest strikes a balance between precision (0.77) and recall (0.89) resulting in a reasonable F1 score (0.83) and overall accuracy (0.74).\n",
    "\n",
    "* In summary, Logistic Regression excels in recall but sacrifices precision. SVM offers a balanced approach while Random Forest strikes a compromise between precision and recall."
   ]
  }
 ],
 "metadata": {
  "kaggle": {
   "accelerator": "none",
   "dataSources": [
    {
     "datasetId": 5309618,
     "sourceId": 8825270,
     "sourceType": "datasetVersion"
    }
   ],
   "dockerImageVersionId": 30732,
   "isGpuEnabled": false,
   "isInternetEnabled": true,
   "language": "python",
   "sourceType": "notebook"
  },
  "kernelspec": {
   "display_name": "Python 3",
   "language": "python",
   "name": "python3"
  },
  "language_info": {
   "codemirror_mode": {
    "name": "ipython",
    "version": 3
   },
   "file_extension": ".py",
   "mimetype": "text/x-python",
   "name": "python",
   "nbconvert_exporter": "python",
   "pygments_lexer": "ipython3",
   "version": "3.10.13"
  },
  "papermill": {
   "default_parameters": {},
   "duration": 8.526395,
   "end_time": "2024-06-30T14:53:23.627965",
   "environment_variables": {},
   "exception": null,
   "input_path": "__notebook__.ipynb",
   "output_path": "__notebook__.ipynb",
   "parameters": {},
   "start_time": "2024-06-30T14:53:15.101570",
   "version": "2.5.0"
  }
 },
 "nbformat": 4,
 "nbformat_minor": 5
}
