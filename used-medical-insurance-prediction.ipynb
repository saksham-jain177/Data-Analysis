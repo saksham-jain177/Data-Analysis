{
 "cells": [
  {
   "cell_type": "markdown",
   "id": "a4e1379b",
   "metadata": {
    "papermill": {
     "duration": 0.007712,
     "end_time": "2024-07-01T14:09:25.419658",
     "exception": false,
     "start_time": "2024-07-01T14:09:25.411946",
     "status": "completed"
    },
    "tags": []
   },
   "source": [
    "# Problem Statement\n",
    "* The goal of this project is to leverage machine learning to develop a machine learning model that can predict the medical insurance cost based on its features. \n",
    "* This falls under Regression Machine Learning Problem. The aim is to assist insurance companies, healthcare providers, and individuals in making informed decisions about insurance coverage and premium pricing.\n",
    "\n"
   ]
  },
  {
   "cell_type": "code",
   "execution_count": 1,
   "id": "5f09261c",
   "metadata": {
    "execution": {
     "iopub.execute_input": "2024-07-01T14:09:25.436462Z",
     "iopub.status.busy": "2024-07-01T14:09:25.436023Z",
     "iopub.status.idle": "2024-07-01T14:09:27.660759Z",
     "shell.execute_reply": "2024-07-01T14:09:27.659658Z"
    },
    "papermill": {
     "duration": 2.236164,
     "end_time": "2024-07-01T14:09:27.663360",
     "exception": false,
     "start_time": "2024-07-01T14:09:25.427196",
     "status": "completed"
    },
    "tags": []
   },
   "outputs": [],
   "source": [
    "import pandas as pd\n",
    "import numpy as np\n",
    "from sklearn import datasets\n",
    "import matplotlib.pyplot as plt\n",
    "import seaborn as sns\n",
    "import warnings\n",
    "from six.moves import urllib\n",
    "\n",
    "warnings.filterwarnings(\"ignore\")\n",
    "%matplotlib inline"
   ]
  },
  {
   "cell_type": "code",
   "execution_count": 2,
   "id": "ff250654",
   "metadata": {
    "execution": {
     "iopub.execute_input": "2024-07-01T14:09:27.681387Z",
     "iopub.status.busy": "2024-07-01T14:09:27.680337Z",
     "iopub.status.idle": "2024-07-01T14:09:27.729301Z",
     "shell.execute_reply": "2024-07-01T14:09:27.728274Z"
    },
    "papermill": {
     "duration": 0.060396,
     "end_time": "2024-07-01T14:09:27.731598",
     "exception": false,
     "start_time": "2024-07-01T14:09:27.671202",
     "status": "completed"
    },
    "tags": []
   },
   "outputs": [
    {
     "data": {
      "text/html": [
       "<div>\n",
       "<style scoped>\n",
       "    .dataframe tbody tr th:only-of-type {\n",
       "        vertical-align: middle;\n",
       "    }\n",
       "\n",
       "    .dataframe tbody tr th {\n",
       "        vertical-align: top;\n",
       "    }\n",
       "\n",
       "    .dataframe thead th {\n",
       "        text-align: right;\n",
       "    }\n",
       "</style>\n",
       "<table border=\"1\" class=\"dataframe\">\n",
       "  <thead>\n",
       "    <tr style=\"text-align: right;\">\n",
       "      <th></th>\n",
       "      <th>age</th>\n",
       "      <th>sex</th>\n",
       "      <th>bmi</th>\n",
       "      <th>children</th>\n",
       "      <th>smoker</th>\n",
       "      <th>region</th>\n",
       "      <th>charges</th>\n",
       "    </tr>\n",
       "  </thead>\n",
       "  <tbody>\n",
       "    <tr>\n",
       "      <th>0</th>\n",
       "      <td>19</td>\n",
       "      <td>female</td>\n",
       "      <td>27.900</td>\n",
       "      <td>0</td>\n",
       "      <td>yes</td>\n",
       "      <td>southwest</td>\n",
       "      <td>16884.92400</td>\n",
       "    </tr>\n",
       "    <tr>\n",
       "      <th>1</th>\n",
       "      <td>18</td>\n",
       "      <td>male</td>\n",
       "      <td>33.770</td>\n",
       "      <td>1</td>\n",
       "      <td>no</td>\n",
       "      <td>southeast</td>\n",
       "      <td>1725.55230</td>\n",
       "    </tr>\n",
       "    <tr>\n",
       "      <th>2</th>\n",
       "      <td>28</td>\n",
       "      <td>male</td>\n",
       "      <td>33.000</td>\n",
       "      <td>3</td>\n",
       "      <td>no</td>\n",
       "      <td>southeast</td>\n",
       "      <td>4449.46200</td>\n",
       "    </tr>\n",
       "    <tr>\n",
       "      <th>3</th>\n",
       "      <td>33</td>\n",
       "      <td>male</td>\n",
       "      <td>22.705</td>\n",
       "      <td>0</td>\n",
       "      <td>no</td>\n",
       "      <td>northwest</td>\n",
       "      <td>21984.47061</td>\n",
       "    </tr>\n",
       "    <tr>\n",
       "      <th>4</th>\n",
       "      <td>32</td>\n",
       "      <td>male</td>\n",
       "      <td>28.880</td>\n",
       "      <td>0</td>\n",
       "      <td>no</td>\n",
       "      <td>northwest</td>\n",
       "      <td>3866.85520</td>\n",
       "    </tr>\n",
       "    <tr>\n",
       "      <th>...</th>\n",
       "      <td>...</td>\n",
       "      <td>...</td>\n",
       "      <td>...</td>\n",
       "      <td>...</td>\n",
       "      <td>...</td>\n",
       "      <td>...</td>\n",
       "      <td>...</td>\n",
       "    </tr>\n",
       "    <tr>\n",
       "      <th>1333</th>\n",
       "      <td>50</td>\n",
       "      <td>male</td>\n",
       "      <td>30.970</td>\n",
       "      <td>3</td>\n",
       "      <td>no</td>\n",
       "      <td>northwest</td>\n",
       "      <td>10600.54830</td>\n",
       "    </tr>\n",
       "    <tr>\n",
       "      <th>1334</th>\n",
       "      <td>18</td>\n",
       "      <td>female</td>\n",
       "      <td>31.920</td>\n",
       "      <td>0</td>\n",
       "      <td>no</td>\n",
       "      <td>northeast</td>\n",
       "      <td>2205.98080</td>\n",
       "    </tr>\n",
       "    <tr>\n",
       "      <th>1335</th>\n",
       "      <td>18</td>\n",
       "      <td>female</td>\n",
       "      <td>36.850</td>\n",
       "      <td>0</td>\n",
       "      <td>no</td>\n",
       "      <td>southeast</td>\n",
       "      <td>1629.83350</td>\n",
       "    </tr>\n",
       "    <tr>\n",
       "      <th>1336</th>\n",
       "      <td>21</td>\n",
       "      <td>female</td>\n",
       "      <td>25.800</td>\n",
       "      <td>0</td>\n",
       "      <td>no</td>\n",
       "      <td>southwest</td>\n",
       "      <td>2007.94500</td>\n",
       "    </tr>\n",
       "    <tr>\n",
       "      <th>1337</th>\n",
       "      <td>61</td>\n",
       "      <td>female</td>\n",
       "      <td>29.070</td>\n",
       "      <td>0</td>\n",
       "      <td>yes</td>\n",
       "      <td>northwest</td>\n",
       "      <td>29141.36030</td>\n",
       "    </tr>\n",
       "  </tbody>\n",
       "</table>\n",
       "<p>1338 rows × 7 columns</p>\n",
       "</div>"
      ],
      "text/plain": [
       "      age     sex     bmi  children smoker     region      charges\n",
       "0      19  female  27.900         0    yes  southwest  16884.92400\n",
       "1      18    male  33.770         1     no  southeast   1725.55230\n",
       "2      28    male  33.000         3     no  southeast   4449.46200\n",
       "3      33    male  22.705         0     no  northwest  21984.47061\n",
       "4      32    male  28.880         0     no  northwest   3866.85520\n",
       "...   ...     ...     ...       ...    ...        ...          ...\n",
       "1333   50    male  30.970         3     no  northwest  10600.54830\n",
       "1334   18  female  31.920         0     no  northeast   2205.98080\n",
       "1335   18  female  36.850         0     no  southeast   1629.83350\n",
       "1336   21  female  25.800         0     no  southwest   2007.94500\n",
       "1337   61  female  29.070         0    yes  northwest  29141.36030\n",
       "\n",
       "[1338 rows x 7 columns]"
      ]
     },
     "execution_count": 2,
     "metadata": {},
     "output_type": "execute_result"
    }
   ],
   "source": [
    "medical_insurance_df = pd.read_csv('/kaggle/input/used-medical-insurance-predict/insurance.csv') \n",
    "medical_insurance_df"
   ]
  },
  {
   "cell_type": "code",
   "execution_count": 3,
   "id": "42ef0fd8",
   "metadata": {
    "execution": {
     "iopub.execute_input": "2024-07-01T14:09:27.749010Z",
     "iopub.status.busy": "2024-07-01T14:09:27.748134Z",
     "iopub.status.idle": "2024-07-01T14:09:27.767838Z",
     "shell.execute_reply": "2024-07-01T14:09:27.766787Z"
    },
    "papermill": {
     "duration": 0.031392,
     "end_time": "2024-07-01T14:09:27.770620",
     "exception": false,
     "start_time": "2024-07-01T14:09:27.739228",
     "status": "completed"
    },
    "tags": []
   },
   "outputs": [
    {
     "name": "stdout",
     "output_type": "stream",
     "text": [
      "The size of Dataframe is:  (1338, 7)\n",
      "The Column Name, Record Count and Data Types are as follows: \n",
      "<class 'pandas.core.frame.DataFrame'>\n",
      "RangeIndex: 1338 entries, 0 to 1337\n",
      "Data columns (total 7 columns):\n",
      " #   Column    Non-Null Count  Dtype  \n",
      "---  ------    --------------  -----  \n",
      " 0   age       1338 non-null   int64  \n",
      " 1   sex       1338 non-null   object \n",
      " 2   bmi       1338 non-null   float64\n",
      " 3   children  1338 non-null   int64  \n",
      " 4   smoker    1338 non-null   object \n",
      " 5   region    1338 non-null   object \n",
      " 6   charges   1338 non-null   float64\n",
      "dtypes: float64(2), int64(2), object(3)\n",
      "memory usage: 73.3+ KB\n"
     ]
    }
   ],
   "source": [
    "print('The size of Dataframe is: ', medical_insurance_df.shape)\n",
    "print('The Column Name, Record Count and Data Types are as follows: ')\n",
    "medical_insurance_df.info()"
   ]
  },
  {
   "cell_type": "code",
   "execution_count": 4,
   "id": "55aceec6",
   "metadata": {
    "execution": {
     "iopub.execute_input": "2024-07-01T14:09:27.788903Z",
     "iopub.status.busy": "2024-07-01T14:09:27.788177Z",
     "iopub.status.idle": "2024-07-01T14:09:27.796393Z",
     "shell.execute_reply": "2024-07-01T14:09:27.794557Z"
    },
    "papermill": {
     "duration": 0.020502,
     "end_time": "2024-07-01T14:09:27.799458",
     "exception": false,
     "start_time": "2024-07-01T14:09:27.778956",
     "status": "completed"
    },
    "tags": []
   },
   "outputs": [
    {
     "name": "stdout",
     "output_type": "stream",
     "text": [
      "We have 4 numerical features : ['age', 'bmi', 'children', 'charges']\n",
      "\n",
      "We have 3 categorical features : ['sex', 'smoker', 'region']\n"
     ]
    }
   ],
   "source": [
    "# Defining numerical & categorical columns\n",
    "numeric_features = [feature for feature in medical_insurance_df.columns if medical_insurance_df[feature].dtype != 'O']\n",
    "categorical_features = [feature for feature in medical_insurance_df.columns if medical_insurance_df[feature].dtype == 'O']\n",
    "\n",
    "# print columns\n",
    "print('We have {} numerical features : {}'.format(len(numeric_features), numeric_features))\n",
    "print('\\nWe have {} categorical features : {}'.format(len(categorical_features), categorical_features))\n"
   ]
  },
  {
   "cell_type": "code",
   "execution_count": 5,
   "id": "d1e53cb8",
   "metadata": {
    "execution": {
     "iopub.execute_input": "2024-07-01T14:09:27.817626Z",
     "iopub.status.busy": "2024-07-01T14:09:27.816708Z",
     "iopub.status.idle": "2024-07-01T14:09:27.833278Z",
     "shell.execute_reply": "2024-07-01T14:09:27.832328Z"
    },
    "papermill": {
     "duration": 0.027876,
     "end_time": "2024-07-01T14:09:27.835361",
     "exception": false,
     "start_time": "2024-07-01T14:09:27.807485",
     "status": "completed"
    },
    "tags": []
   },
   "outputs": [
    {
     "name": "stdout",
     "output_type": "stream",
     "text": [
      "Missing Value Presence in different columns of DataFrame are as follows : \n"
     ]
    },
    {
     "data": {
      "text/html": [
       "<div>\n",
       "<style scoped>\n",
       "    .dataframe tbody tr th:only-of-type {\n",
       "        vertical-align: middle;\n",
       "    }\n",
       "\n",
       "    .dataframe tbody tr th {\n",
       "        vertical-align: top;\n",
       "    }\n",
       "\n",
       "    .dataframe thead th {\n",
       "        text-align: right;\n",
       "    }\n",
       "</style>\n",
       "<table border=\"1\" class=\"dataframe\">\n",
       "  <thead>\n",
       "    <tr style=\"text-align: right;\">\n",
       "      <th></th>\n",
       "      <th>Total</th>\n",
       "      <th>Percent</th>\n",
       "    </tr>\n",
       "  </thead>\n",
       "  <tbody>\n",
       "    <tr>\n",
       "      <th>age</th>\n",
       "      <td>0</td>\n",
       "      <td>0.0</td>\n",
       "    </tr>\n",
       "    <tr>\n",
       "      <th>sex</th>\n",
       "      <td>0</td>\n",
       "      <td>0.0</td>\n",
       "    </tr>\n",
       "    <tr>\n",
       "      <th>bmi</th>\n",
       "      <td>0</td>\n",
       "      <td>0.0</td>\n",
       "    </tr>\n",
       "    <tr>\n",
       "      <th>children</th>\n",
       "      <td>0</td>\n",
       "      <td>0.0</td>\n",
       "    </tr>\n",
       "    <tr>\n",
       "      <th>smoker</th>\n",
       "      <td>0</td>\n",
       "      <td>0.0</td>\n",
       "    </tr>\n",
       "    <tr>\n",
       "      <th>region</th>\n",
       "      <td>0</td>\n",
       "      <td>0.0</td>\n",
       "    </tr>\n",
       "    <tr>\n",
       "      <th>charges</th>\n",
       "      <td>0</td>\n",
       "      <td>0.0</td>\n",
       "    </tr>\n",
       "  </tbody>\n",
       "</table>\n",
       "</div>"
      ],
      "text/plain": [
       "          Total  Percent\n",
       "age           0      0.0\n",
       "sex           0      0.0\n",
       "bmi           0      0.0\n",
       "children      0      0.0\n",
       "smoker        0      0.0\n",
       "region        0      0.0\n",
       "charges       0      0.0"
      ]
     },
     "execution_count": 5,
     "metadata": {},
     "output_type": "execute_result"
    }
   ],
   "source": [
    "print('Missing Value Presence in different columns of DataFrame are as follows : ')\n",
    "total=medical_insurance_df.isnull().sum().sort_values(ascending=False)\n",
    "percent=(medical_insurance_df.isnull().sum()/medical_insurance_df.isnull().count()*100).sort_values(ascending=False)\n",
    "pd.concat([total, percent], axis=1, keys=['Total', 'Percent'])\n"
   ]
  },
  {
   "cell_type": "code",
   "execution_count": 6,
   "id": "5913553e",
   "metadata": {
    "execution": {
     "iopub.execute_input": "2024-07-01T14:09:27.853982Z",
     "iopub.status.busy": "2024-07-01T14:09:27.853049Z",
     "iopub.status.idle": "2024-07-01T14:09:27.876656Z",
     "shell.execute_reply": "2024-07-01T14:09:27.875665Z"
    },
    "papermill": {
     "duration": 0.035056,
     "end_time": "2024-07-01T14:09:27.878672",
     "exception": false,
     "start_time": "2024-07-01T14:09:27.843616",
     "status": "completed"
    },
    "tags": []
   },
   "outputs": [
    {
     "name": "stdout",
     "output_type": "stream",
     "text": [
      "Summary Statistics of numerical features for DataFrame are as follows:\n"
     ]
    },
    {
     "data": {
      "text/html": [
       "<div>\n",
       "<style scoped>\n",
       "    .dataframe tbody tr th:only-of-type {\n",
       "        vertical-align: middle;\n",
       "    }\n",
       "\n",
       "    .dataframe tbody tr th {\n",
       "        vertical-align: top;\n",
       "    }\n",
       "\n",
       "    .dataframe thead th {\n",
       "        text-align: right;\n",
       "    }\n",
       "</style>\n",
       "<table border=\"1\" class=\"dataframe\">\n",
       "  <thead>\n",
       "    <tr style=\"text-align: right;\">\n",
       "      <th></th>\n",
       "      <th>age</th>\n",
       "      <th>bmi</th>\n",
       "      <th>children</th>\n",
       "      <th>charges</th>\n",
       "    </tr>\n",
       "  </thead>\n",
       "  <tbody>\n",
       "    <tr>\n",
       "      <th>count</th>\n",
       "      <td>1338.000000</td>\n",
       "      <td>1338.000000</td>\n",
       "      <td>1338.000000</td>\n",
       "      <td>1338.000000</td>\n",
       "    </tr>\n",
       "    <tr>\n",
       "      <th>mean</th>\n",
       "      <td>39.207025</td>\n",
       "      <td>30.663397</td>\n",
       "      <td>1.094918</td>\n",
       "      <td>13270.422265</td>\n",
       "    </tr>\n",
       "    <tr>\n",
       "      <th>std</th>\n",
       "      <td>14.049960</td>\n",
       "      <td>6.098187</td>\n",
       "      <td>1.205493</td>\n",
       "      <td>12110.011237</td>\n",
       "    </tr>\n",
       "    <tr>\n",
       "      <th>min</th>\n",
       "      <td>18.000000</td>\n",
       "      <td>15.960000</td>\n",
       "      <td>0.000000</td>\n",
       "      <td>1121.873900</td>\n",
       "    </tr>\n",
       "    <tr>\n",
       "      <th>25%</th>\n",
       "      <td>27.000000</td>\n",
       "      <td>26.296250</td>\n",
       "      <td>0.000000</td>\n",
       "      <td>4740.287150</td>\n",
       "    </tr>\n",
       "    <tr>\n",
       "      <th>50%</th>\n",
       "      <td>39.000000</td>\n",
       "      <td>30.400000</td>\n",
       "      <td>1.000000</td>\n",
       "      <td>9382.033000</td>\n",
       "    </tr>\n",
       "    <tr>\n",
       "      <th>75%</th>\n",
       "      <td>51.000000</td>\n",
       "      <td>34.693750</td>\n",
       "      <td>2.000000</td>\n",
       "      <td>16639.912515</td>\n",
       "    </tr>\n",
       "    <tr>\n",
       "      <th>max</th>\n",
       "      <td>64.000000</td>\n",
       "      <td>53.130000</td>\n",
       "      <td>5.000000</td>\n",
       "      <td>63770.428010</td>\n",
       "    </tr>\n",
       "  </tbody>\n",
       "</table>\n",
       "</div>"
      ],
      "text/plain": [
       "               age          bmi     children       charges\n",
       "count  1338.000000  1338.000000  1338.000000   1338.000000\n",
       "mean     39.207025    30.663397     1.094918  13270.422265\n",
       "std      14.049960     6.098187     1.205493  12110.011237\n",
       "min      18.000000    15.960000     0.000000   1121.873900\n",
       "25%      27.000000    26.296250     0.000000   4740.287150\n",
       "50%      39.000000    30.400000     1.000000   9382.033000\n",
       "75%      51.000000    34.693750     2.000000  16639.912515\n",
       "max      64.000000    53.130000     5.000000  63770.428010"
      ]
     },
     "execution_count": 6,
     "metadata": {},
     "output_type": "execute_result"
    }
   ],
   "source": [
    "print('Summary Statistics of numerical features for DataFrame are as follows:')\n",
    "\n",
    "medical_insurance_df.describe()\n"
   ]
  },
  {
   "cell_type": "code",
   "execution_count": 7,
   "id": "e763deb9",
   "metadata": {
    "execution": {
     "iopub.execute_input": "2024-07-01T14:09:27.897925Z",
     "iopub.status.busy": "2024-07-01T14:09:27.897004Z",
     "iopub.status.idle": "2024-07-01T14:09:27.913923Z",
     "shell.execute_reply": "2024-07-01T14:09:27.912936Z"
    },
    "papermill": {
     "duration": 0.02862,
     "end_time": "2024-07-01T14:09:27.915898",
     "exception": false,
     "start_time": "2024-07-01T14:09:27.887278",
     "status": "completed"
    },
    "tags": []
   },
   "outputs": [
    {
     "name": "stdout",
     "output_type": "stream",
     "text": [
      "Summary Statistics of categorical features for DataFrame are as follows:\n"
     ]
    },
    {
     "data": {
      "text/html": [
       "<div>\n",
       "<style scoped>\n",
       "    .dataframe tbody tr th:only-of-type {\n",
       "        vertical-align: middle;\n",
       "    }\n",
       "\n",
       "    .dataframe tbody tr th {\n",
       "        vertical-align: top;\n",
       "    }\n",
       "\n",
       "    .dataframe thead th {\n",
       "        text-align: right;\n",
       "    }\n",
       "</style>\n",
       "<table border=\"1\" class=\"dataframe\">\n",
       "  <thead>\n",
       "    <tr style=\"text-align: right;\">\n",
       "      <th></th>\n",
       "      <th>count</th>\n",
       "      <th>unique</th>\n",
       "      <th>top</th>\n",
       "      <th>freq</th>\n",
       "    </tr>\n",
       "  </thead>\n",
       "  <tbody>\n",
       "    <tr>\n",
       "      <th>sex</th>\n",
       "      <td>1338</td>\n",
       "      <td>2</td>\n",
       "      <td>male</td>\n",
       "      <td>676</td>\n",
       "    </tr>\n",
       "    <tr>\n",
       "      <th>smoker</th>\n",
       "      <td>1338</td>\n",
       "      <td>2</td>\n",
       "      <td>no</td>\n",
       "      <td>1064</td>\n",
       "    </tr>\n",
       "    <tr>\n",
       "      <th>region</th>\n",
       "      <td>1338</td>\n",
       "      <td>4</td>\n",
       "      <td>southeast</td>\n",
       "      <td>364</td>\n",
       "    </tr>\n",
       "  </tbody>\n",
       "</table>\n",
       "</div>"
      ],
      "text/plain": [
       "       count unique        top  freq\n",
       "sex     1338      2       male   676\n",
       "smoker  1338      2         no  1064\n",
       "region  1338      4  southeast   364"
      ]
     },
     "execution_count": 7,
     "metadata": {},
     "output_type": "execute_result"
    }
   ],
   "source": [
    "print('Summary Statistics of categorical features for DataFrame are as follows:')\n",
    "medical_insurance_df.describe(include='object').T"
   ]
  },
  {
   "cell_type": "code",
   "execution_count": 8,
   "id": "1f322d2e",
   "metadata": {
    "execution": {
     "iopub.execute_input": "2024-07-01T14:09:27.934562Z",
     "iopub.status.busy": "2024-07-01T14:09:27.934084Z",
     "iopub.status.idle": "2024-07-01T14:09:28.389627Z",
     "shell.execute_reply": "2024-07-01T14:09:28.388634Z"
    },
    "papermill": {
     "duration": 0.467596,
     "end_time": "2024-07-01T14:09:28.392054",
     "exception": false,
     "start_time": "2024-07-01T14:09:27.924458",
     "status": "completed"
    },
    "tags": []
   },
   "outputs": [
    {
     "data": {
      "image/png": "[encoded data removed]",
      "text/plain": [
       "<Figure size 600x600 with 1 Axes>"
      ]
     },
     "metadata": {},
     "output_type": "display_data"
    }
   ],
   "source": [
    "#Distribution of Age \n",
    "sns.set()\n",
    "plt.figure(figsize=(6,6))\n",
    "sns.distplot(medical_insurance_df['age'])\n",
    "plt.title('Age Distribution')\n",
    "plt.show()\n"
   ]
  },
  {
   "cell_type": "code",
   "execution_count": 9,
   "id": "96e1ba24",
   "metadata": {
    "execution": {
     "iopub.execute_input": "2024-07-01T14:09:28.412349Z",
     "iopub.status.busy": "2024-07-01T14:09:28.411948Z",
     "iopub.status.idle": "2024-07-01T14:09:28.604943Z",
     "shell.execute_reply": "2024-07-01T14:09:28.603864Z"
    },
    "papermill": {
     "duration": 0.205518,
     "end_time": "2024-07-01T14:09:28.607004",
     "exception": false,
     "start_time": "2024-07-01T14:09:28.401486",
     "status": "completed"
    },
    "tags": []
   },
   "outputs": [
    {
     "data": {
      "image/png": "[encoded data removed]",
      "text/plain": [
       "<Figure size 400x400 with 1 Axes>"
      ]
     },
     "metadata": {},
     "output_type": "display_data"
    }
   ],
   "source": [
    "#Distribution of Sex\n",
    "plt.figure(figsize=(4,4))\n",
    "ax = sns.countplot(x='sex', data=medical_insurance_df)\n",
    "plt.title('Sex Distribution')\n",
    "\n",
    "counts = medical_insurance_df['sex'].value_counts()\n",
    "\n",
    "for i, count in enumerate(counts):\n",
    "    ax.text(i, count, str(count), ha='center', va='bottom')\n",
    "\n",
    "plt.xlabel('Sex')\n",
    "plt.ylabel('Count')\n",
    "plt.show()\n"
   ]
  },
  {
   "cell_type": "code",
   "execution_count": 10,
   "id": "16e2c018",
   "metadata": {
    "execution": {
     "iopub.execute_input": "2024-07-01T14:09:28.629063Z",
     "iopub.status.busy": "2024-07-01T14:09:28.628570Z",
     "iopub.status.idle": "2024-07-01T14:09:29.038843Z",
     "shell.execute_reply": "2024-07-01T14:09:29.037817Z"
    },
    "papermill": {
     "duration": 0.424808,
     "end_time": "2024-07-01T14:09:29.041422",
     "exception": false,
     "start_time": "2024-07-01T14:09:28.616614",
     "status": "completed"
    },
    "tags": []
   },
   "outputs": [
    {
     "data": {
      "image/png": "[encoded data removed]",
      "text/plain": [
       "<Figure size 600x600 with 1 Axes>"
      ]
     },
     "metadata": {},
     "output_type": "display_data"
    }
   ],
   "source": [
    "#BMI Distribution\n",
    "plt.figure(figsize=(6,6))\n",
    "sns.distplot(medical_insurance_df['bmi'])\n",
    "plt.title('BMI Distribution')\n",
    "plt.show()\n"
   ]
  },
  {
   "cell_type": "code",
   "execution_count": 11,
   "id": "82672e63",
   "metadata": {
    "execution": {
     "iopub.execute_input": "2024-07-01T14:09:29.064160Z",
     "iopub.status.busy": "2024-07-01T14:09:29.063773Z",
     "iopub.status.idle": "2024-07-01T14:09:29.337718Z",
     "shell.execute_reply": "2024-07-01T14:09:29.336591Z"
    },
    "papermill": {
     "duration": 0.288157,
     "end_time": "2024-07-01T14:09:29.339973",
     "exception": false,
     "start_time": "2024-07-01T14:09:29.051816",
     "status": "completed"
    },
    "tags": []
   },
   "outputs": [
    {
     "data": {
      "image/png": "[encoded data removed]",
      "text/plain": [
       "<Figure size 600x600 with 1 Axes>"
      ]
     },
     "metadata": {},
     "output_type": "display_data"
    }
   ],
   "source": [
    "#Children Count Distribution\n",
    "plt.figure(figsize=(6,6))\n",
    "sns.countplot(x='children', data=medical_insurance_df)\n",
    "plt.title('Children')\n",
    "plt.show()"
   ]
  },
  {
   "cell_type": "code",
   "execution_count": 12,
   "id": "b51af766",
   "metadata": {
    "execution": {
     "iopub.execute_input": "2024-07-01T14:09:29.362742Z",
     "iopub.status.busy": "2024-07-01T14:09:29.362310Z",
     "iopub.status.idle": "2024-07-01T14:09:29.371508Z",
     "shell.execute_reply": "2024-07-01T14:09:29.370536Z"
    },
    "papermill": {
     "duration": 0.023124,
     "end_time": "2024-07-01T14:09:29.373573",
     "exception": false,
     "start_time": "2024-07-01T14:09:29.350449",
     "status": "completed"
    },
    "tags": []
   },
   "outputs": [
    {
     "data": {
      "text/plain": [
       "children\n",
       "0    574\n",
       "1    324\n",
       "2    240\n",
       "3    157\n",
       "4     25\n",
       "5     18\n",
       "Name: count, dtype: int64"
      ]
     },
     "execution_count": 12,
     "metadata": {},
     "output_type": "execute_result"
    }
   ],
   "source": [
    "children_count = medical_insurance_df['children'].value_counts()\n",
    "children_count\n"
   ]
  },
  {
   "cell_type": "code",
   "execution_count": 13,
   "id": "67d9e7d1",
   "metadata": {
    "execution": {
     "iopub.execute_input": "2024-07-01T14:09:29.397188Z",
     "iopub.status.busy": "2024-07-01T14:09:29.396244Z",
     "iopub.status.idle": "2024-07-01T14:09:29.616686Z",
     "shell.execute_reply": "2024-07-01T14:09:29.615622Z"
    },
    "papermill": {
     "duration": 0.234515,
     "end_time": "2024-07-01T14:09:29.618731",
     "exception": false,
     "start_time": "2024-07-01T14:09:29.384216",
     "status": "completed"
    },
    "tags": []
   },
   "outputs": [
    {
     "data": {
      "image/png": "[encoded data removed]",
      "text/plain": [
       "<Figure size 600x600 with 1 Axes>"
      ]
     },
     "metadata": {},
     "output_type": "display_data"
    }
   ],
   "source": [
    "#Smoker Distribution\n",
    "plt.figure(figsize=(6,6))\n",
    "ax = sns.countplot(x='smoker', data=medical_insurance_df)\n",
    "plt.title('smoker')\n",
    "plt.xlabel('Smoker')\n",
    "plt.ylabel('Count')\n",
    "plt.show()\n"
   ]
  },
  {
   "cell_type": "code",
   "execution_count": 14,
   "id": "f562f0d6",
   "metadata": {
    "execution": {
     "iopub.execute_input": "2024-07-01T14:09:29.644176Z",
     "iopub.status.busy": "2024-07-01T14:09:29.643266Z",
     "iopub.status.idle": "2024-07-01T14:09:29.651290Z",
     "shell.execute_reply": "2024-07-01T14:09:29.650368Z"
    },
    "papermill": {
     "duration": 0.023617,
     "end_time": "2024-07-01T14:09:29.653398",
     "exception": false,
     "start_time": "2024-07-01T14:09:29.629781",
     "status": "completed"
    },
    "tags": []
   },
   "outputs": [
    {
     "data": {
      "text/plain": [
       "smoker\n",
       "no     1064\n",
       "yes     274\n",
       "Name: count, dtype: int64"
      ]
     },
     "execution_count": 14,
     "metadata": {},
     "output_type": "execute_result"
    }
   ],
   "source": [
    "smoker_counts = medical_insurance_df['smoker'].value_counts()\n",
    "smoker_counts\n"
   ]
  },
  {
   "cell_type": "code",
   "execution_count": 15,
   "id": "4a42246d",
   "metadata": {
    "execution": {
     "iopub.execute_input": "2024-07-01T14:09:29.676782Z",
     "iopub.status.busy": "2024-07-01T14:09:29.676412Z",
     "iopub.status.idle": "2024-07-01T14:09:29.895563Z",
     "shell.execute_reply": "2024-07-01T14:09:29.894573Z"
    },
    "papermill": {
     "duration": 0.233451,
     "end_time": "2024-07-01T14:09:29.897745",
     "exception": false,
     "start_time": "2024-07-01T14:09:29.664294",
     "status": "completed"
    },
    "tags": []
   },
   "outputs": [
    {
     "data": {
      "image/png": "[encoded data removed]",
      "text/plain": [
       "<Figure size 600x600 with 1 Axes>"
      ]
     },
     "metadata": {},
     "output_type": "display_data"
    }
   ],
   "source": [
    "plt.figure(figsize=(6,6))\n",
    "sns.countplot(x='region', data=medical_insurance_df)\n",
    "plt.title('region')\n",
    "plt.show()\n"
   ]
  },
  {
   "cell_type": "code",
   "execution_count": 16,
   "id": "6ff3609e",
   "metadata": {
    "execution": {
     "iopub.execute_input": "2024-07-01T14:09:29.922655Z",
     "iopub.status.busy": "2024-07-01T14:09:29.922013Z",
     "iopub.status.idle": "2024-07-01T14:09:29.929800Z",
     "shell.execute_reply": "2024-07-01T14:09:29.928847Z"
    },
    "papermill": {
     "duration": 0.022594,
     "end_time": "2024-07-01T14:09:29.931848",
     "exception": false,
     "start_time": "2024-07-01T14:09:29.909254",
     "status": "completed"
    },
    "tags": []
   },
   "outputs": [
    {
     "data": {
      "text/plain": [
       "region\n",
       "southeast    364\n",
       "southwest    325\n",
       "northwest    325\n",
       "northeast    324\n",
       "Name: count, dtype: int64"
      ]
     },
     "execution_count": 16,
     "metadata": {},
     "output_type": "execute_result"
    }
   ],
   "source": [
    "medical_insurance_df['region'].value_counts()\n"
   ]
  },
  {
   "cell_type": "code",
   "execution_count": 17,
   "id": "f0855e68",
   "metadata": {
    "execution": {
     "iopub.execute_input": "2024-07-01T14:09:29.956530Z",
     "iopub.status.busy": "2024-07-01T14:09:29.955651Z",
     "iopub.status.idle": "2024-07-01T14:09:30.358395Z",
     "shell.execute_reply": "2024-07-01T14:09:30.357388Z"
    },
    "papermill": {
     "duration": 0.417643,
     "end_time": "2024-07-01T14:09:30.360730",
     "exception": false,
     "start_time": "2024-07-01T14:09:29.943087",
     "status": "completed"
    },
    "tags": []
   },
   "outputs": [
    {
     "data": {
      "image/png": "[encoded data removed]",
      "text/plain": [
       "<Figure size 600x600 with 1 Axes>"
      ]
     },
     "metadata": {},
     "output_type": "display_data"
    }
   ],
   "source": [
    "#Distribution of Insurance Cost\n",
    "plt.figure(figsize=(6,6))\n",
    "sns.distplot(medical_insurance_df['charges'])\n",
    "plt.title('Medical Cost Distribution')\n",
    "plt.show()\n"
   ]
  },
  {
   "cell_type": "code",
   "execution_count": 18,
   "id": "3e5e770e",
   "metadata": {
    "execution": {
     "iopub.execute_input": "2024-07-01T14:09:30.386966Z",
     "iopub.status.busy": "2024-07-01T14:09:30.386086Z",
     "iopub.status.idle": "2024-07-01T14:09:30.397798Z",
     "shell.execute_reply": "2024-07-01T14:09:30.396785Z"
    },
    "papermill": {
     "duration": 0.027066,
     "end_time": "2024-07-01T14:09:30.399807",
     "exception": false,
     "start_time": "2024-07-01T14:09:30.372741",
     "status": "completed"
    },
    "tags": []
   },
   "outputs": [],
   "source": [
    "#Encoding Categorical Features\n",
    "# encoding sex column\n",
    "medical_insurance_df.replace({'sex':{'male':0,'female':1}}, inplace=True)\n",
    "\n",
    "3 # encoding 'smoker' column\n",
    "medical_insurance_df.replace({'smoker':{'yes':0,'no':1}}, inplace=True)\n",
    "\n",
    "# encoding 'region' column\n",
    "medical_insurance_df.replace({'region':{'southeast':0,'southwest':1,'northeast':2,'northwest':3}}, inplace=True)\n"
   ]
  },
  {
   "cell_type": "code",
   "execution_count": 19,
   "id": "4b536863",
   "metadata": {
    "execution": {
     "iopub.execute_input": "2024-07-01T14:09:30.425822Z",
     "iopub.status.busy": "2024-07-01T14:09:30.424913Z",
     "iopub.status.idle": "2024-07-01T14:09:30.439080Z",
     "shell.execute_reply": "2024-07-01T14:09:30.438101Z"
    },
    "papermill": {
     "duration": 0.029297,
     "end_time": "2024-07-01T14:09:30.441086",
     "exception": false,
     "start_time": "2024-07-01T14:09:30.411789",
     "status": "completed"
    },
    "tags": []
   },
   "outputs": [
    {
     "data": {
      "text/html": [
       "<div>\n",
       "<style scoped>\n",
       "    .dataframe tbody tr th:only-of-type {\n",
       "        vertical-align: middle;\n",
       "    }\n",
       "\n",
       "    .dataframe tbody tr th {\n",
       "        vertical-align: top;\n",
       "    }\n",
       "\n",
       "    .dataframe thead th {\n",
       "        text-align: right;\n",
       "    }\n",
       "</style>\n",
       "<table border=\"1\" class=\"dataframe\">\n",
       "  <thead>\n",
       "    <tr style=\"text-align: right;\">\n",
       "      <th></th>\n",
       "      <th>age</th>\n",
       "      <th>sex</th>\n",
       "      <th>bmi</th>\n",
       "      <th>children</th>\n",
       "      <th>smoker</th>\n",
       "      <th>region</th>\n",
       "      <th>charges</th>\n",
       "    </tr>\n",
       "  </thead>\n",
       "  <tbody>\n",
       "    <tr>\n",
       "      <th>0</th>\n",
       "      <td>19</td>\n",
       "      <td>1</td>\n",
       "      <td>27.900</td>\n",
       "      <td>0</td>\n",
       "      <td>0</td>\n",
       "      <td>1</td>\n",
       "      <td>16884.92400</td>\n",
       "    </tr>\n",
       "    <tr>\n",
       "      <th>1</th>\n",
       "      <td>18</td>\n",
       "      <td>0</td>\n",
       "      <td>33.770</td>\n",
       "      <td>1</td>\n",
       "      <td>1</td>\n",
       "      <td>0</td>\n",
       "      <td>1725.55230</td>\n",
       "    </tr>\n",
       "    <tr>\n",
       "      <th>2</th>\n",
       "      <td>28</td>\n",
       "      <td>0</td>\n",
       "      <td>33.000</td>\n",
       "      <td>3</td>\n",
       "      <td>1</td>\n",
       "      <td>0</td>\n",
       "      <td>4449.46200</td>\n",
       "    </tr>\n",
       "    <tr>\n",
       "      <th>3</th>\n",
       "      <td>33</td>\n",
       "      <td>0</td>\n",
       "      <td>22.705</td>\n",
       "      <td>0</td>\n",
       "      <td>1</td>\n",
       "      <td>3</td>\n",
       "      <td>21984.47061</td>\n",
       "    </tr>\n",
       "    <tr>\n",
       "      <th>4</th>\n",
       "      <td>32</td>\n",
       "      <td>0</td>\n",
       "      <td>28.880</td>\n",
       "      <td>0</td>\n",
       "      <td>1</td>\n",
       "      <td>3</td>\n",
       "      <td>3866.85520</td>\n",
       "    </tr>\n",
       "    <tr>\n",
       "      <th>...</th>\n",
       "      <td>...</td>\n",
       "      <td>...</td>\n",
       "      <td>...</td>\n",
       "      <td>...</td>\n",
       "      <td>...</td>\n",
       "      <td>...</td>\n",
       "      <td>...</td>\n",
       "    </tr>\n",
       "    <tr>\n",
       "      <th>1333</th>\n",
       "      <td>50</td>\n",
       "      <td>0</td>\n",
       "      <td>30.970</td>\n",
       "      <td>3</td>\n",
       "      <td>1</td>\n",
       "      <td>3</td>\n",
       "      <td>10600.54830</td>\n",
       "    </tr>\n",
       "    <tr>\n",
       "      <th>1334</th>\n",
       "      <td>18</td>\n",
       "      <td>1</td>\n",
       "      <td>31.920</td>\n",
       "      <td>0</td>\n",
       "      <td>1</td>\n",
       "      <td>2</td>\n",
       "      <td>2205.98080</td>\n",
       "    </tr>\n",
       "    <tr>\n",
       "      <th>1335</th>\n",
       "      <td>18</td>\n",
       "      <td>1</td>\n",
       "      <td>36.850</td>\n",
       "      <td>0</td>\n",
       "      <td>1</td>\n",
       "      <td>0</td>\n",
       "      <td>1629.83350</td>\n",
       "    </tr>\n",
       "    <tr>\n",
       "      <th>1336</th>\n",
       "      <td>21</td>\n",
       "      <td>1</td>\n",
       "      <td>25.800</td>\n",
       "      <td>0</td>\n",
       "      <td>1</td>\n",
       "      <td>1</td>\n",
       "      <td>2007.94500</td>\n",
       "    </tr>\n",
       "    <tr>\n",
       "      <th>1337</th>\n",
       "      <td>61</td>\n",
       "      <td>1</td>\n",
       "      <td>29.070</td>\n",
       "      <td>0</td>\n",
       "      <td>0</td>\n",
       "      <td>3</td>\n",
       "      <td>29141.36030</td>\n",
       "    </tr>\n",
       "  </tbody>\n",
       "</table>\n",
       "<p>1338 rows × 7 columns</p>\n",
       "</div>"
      ],
      "text/plain": [
       "      age  sex     bmi  children  smoker  region      charges\n",
       "0      19    1  27.900         0       0       1  16884.92400\n",
       "1      18    0  33.770         1       1       0   1725.55230\n",
       "2      28    0  33.000         3       1       0   4449.46200\n",
       "3      33    0  22.705         0       1       3  21984.47061\n",
       "4      32    0  28.880         0       1       3   3866.85520\n",
       "...   ...  ...     ...       ...     ...     ...          ...\n",
       "1333   50    0  30.970         3       1       3  10600.54830\n",
       "1334   18    1  31.920         0       1       2   2205.98080\n",
       "1335   18    1  36.850         0       1       0   1629.83350\n",
       "1336   21    1  25.800         0       1       1   2007.94500\n",
       "1337   61    1  29.070         0       0       3  29141.36030\n",
       "\n",
       "[1338 rows x 7 columns]"
      ]
     },
     "execution_count": 19,
     "metadata": {},
     "output_type": "execute_result"
    }
   ],
   "source": [
    "medical_insurance_df\n"
   ]
  },
  {
   "cell_type": "code",
   "execution_count": 20,
   "id": "b408ca99",
   "metadata": {
    "execution": {
     "iopub.execute_input": "2024-07-01T14:09:30.467643Z",
     "iopub.status.busy": "2024-07-01T14:09:30.466874Z",
     "iopub.status.idle": "2024-07-01T14:09:30.472650Z",
     "shell.execute_reply": "2024-07-01T14:09:30.471676Z"
    },
    "papermill": {
     "duration": 0.021413,
     "end_time": "2024-07-01T14:09:30.474813",
     "exception": false,
     "start_time": "2024-07-01T14:09:30.453400",
     "status": "completed"
    },
    "tags": []
   },
   "outputs": [],
   "source": [
    "#Model Building\n",
    "# separating the data and labels\n",
    "X = medical_insurance_df.drop(columns = ['charges'], axis=1) # Feature matrix\n",
    "y = medical_insurance_df['charges'] # Target variable\n"
   ]
  },
  {
   "cell_type": "code",
   "execution_count": 21,
   "id": "446ffc24",
   "metadata": {
    "execution": {
     "iopub.execute_input": "2024-07-01T14:09:30.501388Z",
     "iopub.status.busy": "2024-07-01T14:09:30.500502Z",
     "iopub.status.idle": "2024-07-01T14:09:30.513079Z",
     "shell.execute_reply": "2024-07-01T14:09:30.512122Z"
    },
    "papermill": {
     "duration": 0.028102,
     "end_time": "2024-07-01T14:09:30.515170",
     "exception": false,
     "start_time": "2024-07-01T14:09:30.487068",
     "status": "completed"
    },
    "tags": []
   },
   "outputs": [
    {
     "data": {
      "text/html": [
       "<div>\n",
       "<style scoped>\n",
       "    .dataframe tbody tr th:only-of-type {\n",
       "        vertical-align: middle;\n",
       "    }\n",
       "\n",
       "    .dataframe tbody tr th {\n",
       "        vertical-align: top;\n",
       "    }\n",
       "\n",
       "    .dataframe thead th {\n",
       "        text-align: right;\n",
       "    }\n",
       "</style>\n",
       "<table border=\"1\" class=\"dataframe\">\n",
       "  <thead>\n",
       "    <tr style=\"text-align: right;\">\n",
       "      <th></th>\n",
       "      <th>age</th>\n",
       "      <th>sex</th>\n",
       "      <th>bmi</th>\n",
       "      <th>children</th>\n",
       "      <th>smoker</th>\n",
       "      <th>region</th>\n",
       "    </tr>\n",
       "  </thead>\n",
       "  <tbody>\n",
       "    <tr>\n",
       "      <th>0</th>\n",
       "      <td>19</td>\n",
       "      <td>1</td>\n",
       "      <td>27.900</td>\n",
       "      <td>0</td>\n",
       "      <td>0</td>\n",
       "      <td>1</td>\n",
       "    </tr>\n",
       "    <tr>\n",
       "      <th>1</th>\n",
       "      <td>18</td>\n",
       "      <td>0</td>\n",
       "      <td>33.770</td>\n",
       "      <td>1</td>\n",
       "      <td>1</td>\n",
       "      <td>0</td>\n",
       "    </tr>\n",
       "    <tr>\n",
       "      <th>2</th>\n",
       "      <td>28</td>\n",
       "      <td>0</td>\n",
       "      <td>33.000</td>\n",
       "      <td>3</td>\n",
       "      <td>1</td>\n",
       "      <td>0</td>\n",
       "    </tr>\n",
       "    <tr>\n",
       "      <th>3</th>\n",
       "      <td>33</td>\n",
       "      <td>0</td>\n",
       "      <td>22.705</td>\n",
       "      <td>0</td>\n",
       "      <td>1</td>\n",
       "      <td>3</td>\n",
       "    </tr>\n",
       "    <tr>\n",
       "      <th>4</th>\n",
       "      <td>32</td>\n",
       "      <td>0</td>\n",
       "      <td>28.880</td>\n",
       "      <td>0</td>\n",
       "      <td>1</td>\n",
       "      <td>3</td>\n",
       "    </tr>\n",
       "    <tr>\n",
       "      <th>...</th>\n",
       "      <td>...</td>\n",
       "      <td>...</td>\n",
       "      <td>...</td>\n",
       "      <td>...</td>\n",
       "      <td>...</td>\n",
       "      <td>...</td>\n",
       "    </tr>\n",
       "    <tr>\n",
       "      <th>1333</th>\n",
       "      <td>50</td>\n",
       "      <td>0</td>\n",
       "      <td>30.970</td>\n",
       "      <td>3</td>\n",
       "      <td>1</td>\n",
       "      <td>3</td>\n",
       "    </tr>\n",
       "    <tr>\n",
       "      <th>1334</th>\n",
       "      <td>18</td>\n",
       "      <td>1</td>\n",
       "      <td>31.920</td>\n",
       "      <td>0</td>\n",
       "      <td>1</td>\n",
       "      <td>2</td>\n",
       "    </tr>\n",
       "    <tr>\n",
       "      <th>1335</th>\n",
       "      <td>18</td>\n",
       "      <td>1</td>\n",
       "      <td>36.850</td>\n",
       "      <td>0</td>\n",
       "      <td>1</td>\n",
       "      <td>0</td>\n",
       "    </tr>\n",
       "    <tr>\n",
       "      <th>1336</th>\n",
       "      <td>21</td>\n",
       "      <td>1</td>\n",
       "      <td>25.800</td>\n",
       "      <td>0</td>\n",
       "      <td>1</td>\n",
       "      <td>1</td>\n",
       "    </tr>\n",
       "    <tr>\n",
       "      <th>1337</th>\n",
       "      <td>61</td>\n",
       "      <td>1</td>\n",
       "      <td>29.070</td>\n",
       "      <td>0</td>\n",
       "      <td>0</td>\n",
       "      <td>3</td>\n",
       "    </tr>\n",
       "  </tbody>\n",
       "</table>\n",
       "<p>1338 rows × 6 columns</p>\n",
       "</div>"
      ],
      "text/plain": [
       "      age  sex     bmi  children  smoker  region\n",
       "0      19    1  27.900         0       0       1\n",
       "1      18    0  33.770         1       1       0\n",
       "2      28    0  33.000         3       1       0\n",
       "3      33    0  22.705         0       1       3\n",
       "4      32    0  28.880         0       1       3\n",
       "...   ...  ...     ...       ...     ...     ...\n",
       "1333   50    0  30.970         3       1       3\n",
       "1334   18    1  31.920         0       1       2\n",
       "1335   18    1  36.850         0       1       0\n",
       "1336   21    1  25.800         0       1       1\n",
       "1337   61    1  29.070         0       0       3\n",
       "\n",
       "[1338 rows x 6 columns]"
      ]
     },
     "execution_count": 21,
     "metadata": {},
     "output_type": "execute_result"
    }
   ],
   "source": [
    "X"
   ]
  },
  {
   "cell_type": "code",
   "execution_count": 22,
   "id": "65a85f12",
   "metadata": {
    "execution": {
     "iopub.execute_input": "2024-07-01T14:09:30.542555Z",
     "iopub.status.busy": "2024-07-01T14:09:30.541755Z",
     "iopub.status.idle": "2024-07-01T14:09:30.549366Z",
     "shell.execute_reply": "2024-07-01T14:09:30.548373Z"
    },
    "papermill": {
     "duration": 0.023615,
     "end_time": "2024-07-01T14:09:30.551427",
     "exception": false,
     "start_time": "2024-07-01T14:09:30.527812",
     "status": "completed"
    },
    "tags": []
   },
   "outputs": [
    {
     "data": {
      "text/plain": [
       "0       16884.92400\n",
       "1        1725.55230\n",
       "2        4449.46200\n",
       "3       21984.47061\n",
       "4        3866.85520\n",
       "           ...     \n",
       "1333    10600.54830\n",
       "1334     2205.98080\n",
       "1335     1629.83350\n",
       "1336     2007.94500\n",
       "1337    29141.36030\n",
       "Name: charges, Length: 1338, dtype: float64"
      ]
     },
     "execution_count": 22,
     "metadata": {},
     "output_type": "execute_result"
    }
   ],
   "source": [
    "y"
   ]
  },
  {
   "cell_type": "code",
   "execution_count": 23,
   "id": "bcca87fb",
   "metadata": {
    "execution": {
     "iopub.execute_input": "2024-07-01T14:09:30.578818Z",
     "iopub.status.busy": "2024-07-01T14:09:30.578014Z",
     "iopub.status.idle": "2024-07-01T14:09:30.582834Z",
     "shell.execute_reply": "2024-07-01T14:09:30.581873Z"
    },
    "papermill": {
     "duration": 0.020586,
     "end_time": "2024-07-01T14:09:30.584753",
     "exception": false,
     "start_time": "2024-07-01T14:09:30.564167",
     "status": "completed"
    },
    "tags": []
   },
   "outputs": [],
   "source": [
    "from sklearn.preprocessing import StandardScaler\n",
    "\n",
    "scaler = StandardScaler()\n"
   ]
  },
  {
   "cell_type": "code",
   "execution_count": 24,
   "id": "779da20b",
   "metadata": {
    "execution": {
     "iopub.execute_input": "2024-07-01T14:09:30.611887Z",
     "iopub.status.busy": "2024-07-01T14:09:30.611068Z",
     "iopub.status.idle": "2024-07-01T14:09:30.621598Z",
     "shell.execute_reply": "2024-07-01T14:09:30.620666Z"
    },
    "papermill": {
     "duration": 0.026289,
     "end_time": "2024-07-01T14:09:30.623586",
     "exception": false,
     "start_time": "2024-07-01T14:09:30.597297",
     "status": "completed"
    },
    "tags": []
   },
   "outputs": [
    {
     "data": {
      "text/html": [
       "<style>#sk-container-id-1 {color: black;background-color: white;}#sk-container-id-1 pre{padding: 0;}#sk-container-id-1 div.sk-toggleable {background-color: white;}#sk-container-id-1 label.sk-toggleable__label {cursor: pointer;display: block;width: 100%;margin-bottom: 0;padding: 0.3em;box-sizing: border-box;text-align: center;}#sk-container-id-1 label.sk-toggleable__label-arrow:before {content: \"▸\";float: left;margin-right: 0.25em;color: #696969;}#sk-container-id-1 label.sk-toggleable__label-arrow:hover:before {color: black;}#sk-container-id-1 div.sk-estimator:hover label.sk-toggleable__label-arrow:before {color: black;}#sk-container-id-1 div.sk-toggleable__content {max-height: 0;max-width: 0;overflow: hidden;text-align: left;background-color: #f0f8ff;}#sk-container-id-1 div.sk-toggleable__content pre {margin: 0.2em;color: black;border-radius: 0.25em;background-color: #f0f8ff;}#sk-container-id-1 input.sk-toggleable__control:checked~div.sk-toggleable__content {max-height: 200px;max-width: 100%;overflow: auto;}#sk-container-id-1 input.sk-toggleable__control:checked~label.sk-toggleable__label-arrow:before {content: \"▾\";}#sk-container-id-1 div.sk-estimator input.sk-toggleable__control:checked~label.sk-toggleable__label {background-color: #d4ebff;}#sk-container-id-1 div.sk-label input.sk-toggleable__control:checked~label.sk-toggleable__label {background-color: #d4ebff;}#sk-container-id-1 input.sk-hidden--visually {border: 0;clip: rect(1px 1px 1px 1px);clip: rect(1px, 1px, 1px, 1px);height: 1px;margin: -1px;overflow: hidden;padding: 0;position: absolute;width: 1px;}#sk-container-id-1 div.sk-estimator {font-family: monospace;background-color: #f0f8ff;border: 1px dotted black;border-radius: 0.25em;box-sizing: border-box;margin-bottom: 0.5em;}#sk-container-id-1 div.sk-estimator:hover {background-color: #d4ebff;}#sk-container-id-1 div.sk-parallel-item::after {content: \"\";width: 100%;border-bottom: 1px solid gray;flex-grow: 1;}#sk-container-id-1 div.sk-label:hover label.sk-toggleable__label {background-color: #d4ebff;}#sk-container-id-1 div.sk-serial::before {content: \"\";position: absolute;border-left: 1px solid gray;box-sizing: border-box;top: 0;bottom: 0;left: 50%;z-index: 0;}#sk-container-id-1 div.sk-serial {display: flex;flex-direction: column;align-items: center;background-color: white;padding-right: 0.2em;padding-left: 0.2em;position: relative;}#sk-container-id-1 div.sk-item {position: relative;z-index: 1;}#sk-container-id-1 div.sk-parallel {display: flex;align-items: stretch;justify-content: center;background-color: white;position: relative;}#sk-container-id-1 div.sk-item::before, #sk-container-id-1 div.sk-parallel-item::before {content: \"\";position: absolute;border-left: 1px solid gray;box-sizing: border-box;top: 0;bottom: 0;left: 50%;z-index: -1;}#sk-container-id-1 div.sk-parallel-item {display: flex;flex-direction: column;z-index: 1;position: relative;background-color: white;}#sk-container-id-1 div.sk-parallel-item:first-child::after {align-self: flex-end;width: 50%;}#sk-container-id-1 div.sk-parallel-item:last-child::after {align-self: flex-start;width: 50%;}#sk-container-id-1 div.sk-parallel-item:only-child::after {width: 0;}#sk-container-id-1 div.sk-dashed-wrapped {border: 1px dashed gray;margin: 0 0.4em 0.5em 0.4em;box-sizing: border-box;padding-bottom: 0.4em;background-color: white;}#sk-container-id-1 div.sk-label label {font-family: monospace;font-weight: bold;display: inline-block;line-height: 1.2em;}#sk-container-id-1 div.sk-label-container {text-align: center;}#sk-container-id-1 div.sk-container {/* jupyter's `normalize.less` sets `[hidden] { display: none; }` but bootstrap.min.css set `[hidden] { display: none !important; }` so we also need the `!important` here to be able to override the default hidden behavior on the sphinx rendered scikit-learn.org. See: https://github.com/scikit-learn/scikit-learn/issues/21755 */display: inline-block !important;position: relative;}#sk-container-id-1 div.sk-text-repr-fallback {display: none;}</style><div id=\"sk-container-id-1\" class=\"sk-top-container\"><div class=\"sk-text-repr-fallback\"><pre>StandardScaler()</pre><b>In a Jupyter environment, please rerun this cell to show the HTML representation or trust the notebook. <br />On GitHub, the HTML representation is unable to render, please try loading this page with nbviewer.org.</b></div><div class=\"sk-container\" hidden><div class=\"sk-item\"><div class=\"sk-estimator sk-toggleable\"><input class=\"sk-toggleable__control sk-hidden--visually\" id=\"sk-estimator-id-1\" type=\"checkbox\" checked><label for=\"sk-estimator-id-1\" class=\"sk-toggleable__label sk-toggleable__label-arrow\">StandardScaler</label><div class=\"sk-toggleable__content\"><pre>StandardScaler()</pre></div></div></div></div></div>"
      ],
      "text/plain": [
       "StandardScaler()"
      ]
     },
     "execution_count": 24,
     "metadata": {},
     "output_type": "execute_result"
    }
   ],
   "source": [
    "scaler.fit(X)\n"
   ]
  },
  {
   "cell_type": "code",
   "execution_count": 25,
   "id": "feb1da08",
   "metadata": {
    "execution": {
     "iopub.execute_input": "2024-07-01T14:09:30.653434Z",
     "iopub.status.busy": "2024-07-01T14:09:30.652531Z",
     "iopub.status.idle": "2024-07-01T14:09:30.661195Z",
     "shell.execute_reply": "2024-07-01T14:09:30.660234Z"
    },
    "papermill": {
     "duration": 0.025235,
     "end_time": "2024-07-01T14:09:30.663230",
     "exception": false,
     "start_time": "2024-07-01T14:09:30.637995",
     "status": "completed"
    },
    "tags": []
   },
   "outputs": [
    {
     "data": {
      "text/plain": [
       "array([[-1.43876426,  1.0105187 , -0.45332   , -0.90861367, -1.97058663,\n",
       "        -0.40328924],\n",
       "       [-1.50996545, -0.98959079,  0.5096211 , -0.07876719,  0.5074631 ,\n",
       "        -1.28788104],\n",
       "       [-0.79795355, -0.98959079,  0.38330685,  1.58092576,  0.5074631 ,\n",
       "        -1.28788104],\n",
       "       ...,\n",
       "       [-1.50996545,  1.0105187 ,  1.0148781 , -0.90861367,  0.5074631 ,\n",
       "        -1.28788104],\n",
       "       [-1.29636188,  1.0105187 , -0.79781341, -0.90861367,  0.5074631 ,\n",
       "        -0.40328924],\n",
       "       [ 1.55168573,  1.0105187 , -0.26138796, -0.90861367, -1.97058663,\n",
       "         1.36589436]])"
      ]
     },
     "execution_count": 25,
     "metadata": {},
     "output_type": "execute_result"
    }
   ],
   "source": [
    "standardized_data = scaler.transform(X)\n",
    "standardized_data"
   ]
  },
  {
   "cell_type": "code",
   "execution_count": 26,
   "id": "7cbaf094",
   "metadata": {
    "execution": {
     "iopub.execute_input": "2024-07-01T14:09:30.691215Z",
     "iopub.status.busy": "2024-07-01T14:09:30.690831Z",
     "iopub.status.idle": "2024-07-01T14:09:30.695307Z",
     "shell.execute_reply": "2024-07-01T14:09:30.694304Z"
    },
    "papermill": {
     "duration": 0.021193,
     "end_time": "2024-07-01T14:09:30.697670",
     "exception": false,
     "start_time": "2024-07-01T14:09:30.676477",
     "status": "completed"
    },
    "tags": []
   },
   "outputs": [],
   "source": [
    "X=standardized_data"
   ]
  },
  {
   "cell_type": "code",
   "execution_count": 27,
   "id": "2c607da0",
   "metadata": {
    "execution": {
     "iopub.execute_input": "2024-07-01T14:09:30.726333Z",
     "iopub.status.busy": "2024-07-01T14:09:30.725407Z",
     "iopub.status.idle": "2024-07-01T14:09:30.732075Z",
     "shell.execute_reply": "2024-07-01T14:09:30.731129Z"
    },
    "papermill": {
     "duration": 0.023206,
     "end_time": "2024-07-01T14:09:30.734184",
     "exception": false,
     "start_time": "2024-07-01T14:09:30.710978",
     "status": "completed"
    },
    "tags": []
   },
   "outputs": [
    {
     "data": {
      "text/plain": [
       "array([[-1.43876426,  1.0105187 , -0.45332   , -0.90861367, -1.97058663,\n",
       "        -0.40328924],\n",
       "       [-1.50996545, -0.98959079,  0.5096211 , -0.07876719,  0.5074631 ,\n",
       "        -1.28788104],\n",
       "       [-0.79795355, -0.98959079,  0.38330685,  1.58092576,  0.5074631 ,\n",
       "        -1.28788104],\n",
       "       ...,\n",
       "       [-1.50996545,  1.0105187 ,  1.0148781 , -0.90861367,  0.5074631 ,\n",
       "        -1.28788104],\n",
       "       [-1.29636188,  1.0105187 , -0.79781341, -0.90861367,  0.5074631 ,\n",
       "        -0.40328924],\n",
       "       [ 1.55168573,  1.0105187 , -0.26138796, -0.90861367, -1.97058663,\n",
       "         1.36589436]])"
      ]
     },
     "execution_count": 27,
     "metadata": {},
     "output_type": "execute_result"
    }
   ],
   "source": [
    "X"
   ]
  },
  {
   "cell_type": "code",
   "execution_count": 28,
   "id": "c9b4402b",
   "metadata": {
    "execution": {
     "iopub.execute_input": "2024-07-01T14:09:30.762616Z",
     "iopub.status.busy": "2024-07-01T14:09:30.761871Z",
     "iopub.status.idle": "2024-07-01T14:09:30.864366Z",
     "shell.execute_reply": "2024-07-01T14:09:30.863355Z"
    },
    "papermill": {
     "duration": 0.119468,
     "end_time": "2024-07-01T14:09:30.866761",
     "exception": false,
     "start_time": "2024-07-01T14:09:30.747293",
     "status": "completed"
    },
    "tags": []
   },
   "outputs": [
    {
     "name": "stdout",
     "output_type": "stream",
     "text": [
      "(1338, 6) (1070, 6) (268, 6)\n"
     ]
    }
   ],
   "source": [
    "from sklearn.model_selection import train_test_split, RandomizedSearchCV\n",
    "\n",
    "X_train, X_test, y_train, y_test = train_test_split(X, y, test_size=0.2, random_state=45)\n",
    "\n",
    "print(X.shape, X_train.shape, X_test.shape)"
   ]
  },
  {
   "cell_type": "code",
   "execution_count": 29,
   "id": "76a7cff3",
   "metadata": {
    "execution": {
     "iopub.execute_input": "2024-07-01T14:09:30.896840Z",
     "iopub.status.busy": "2024-07-01T14:09:30.895835Z",
     "iopub.status.idle": "2024-07-01T14:09:30.902628Z",
     "shell.execute_reply": "2024-07-01T14:09:30.901284Z"
    },
    "papermill": {
     "duration": 0.024189,
     "end_time": "2024-07-01T14:09:30.904839",
     "exception": false,
     "start_time": "2024-07-01T14:09:30.880650",
     "status": "completed"
    },
    "tags": []
   },
   "outputs": [
    {
     "name": "stdout",
     "output_type": "stream",
     "text": [
      "(1338,) (1070,) (268,)\n"
     ]
    }
   ],
   "source": [
    "print(y.shape, y_train.shape, y_test.shape)"
   ]
  },
  {
   "cell_type": "code",
   "execution_count": 30,
   "id": "e9293660",
   "metadata": {
    "execution": {
     "iopub.execute_input": "2024-07-01T14:09:30.934666Z",
     "iopub.status.busy": "2024-07-01T14:09:30.933823Z",
     "iopub.status.idle": "2024-07-01T14:09:31.656470Z",
     "shell.execute_reply": "2024-07-01T14:09:31.655367Z"
    },
    "papermill": {
     "duration": 0.740287,
     "end_time": "2024-07-01T14:09:31.659040",
     "exception": false,
     "start_time": "2024-07-01T14:09:30.918753",
     "status": "completed"
    },
    "tags": []
   },
   "outputs": [],
   "source": [
    "# For Model Building\n",
    "from sklearn.linear_model import LinearRegression, Lasso, Ridge\n",
    "from sklearn.svm import SVR\n",
    "from sklearn.tree import DecisionTreeRegressor\n",
    "from sklearn.ensemble import RandomForestRegressor\n",
    "from sklearn.metrics import mean_absolute_error, mean_squared_error, r2_score\n",
    "models = [LinearRegression, Lasso, Ridge, SVR, DecisionTreeRegressor, RandomForestRegressor]\n",
    "mae_scores = []\n",
    "mse_scores = []\n",
    "rmse_scores = []\n",
    "r2_scores = []\n",
    "\n",
    "for model in models:\n",
    "    regressor = model().fit(X_train, y_train)\n",
    "    y_pred = regressor.predict(X_test)\n",
    "    \n",
    "    mae_scores.append(mean_absolute_error(y_test, y_pred))\n",
    "    mse_scores.append(mean_squared_error(y_test, y_pred))\n",
    "    rmse_scores.append(mean_squared_error(y_test, y_pred, squared=False))\n",
    "    r2_scores.append(r2_score(y_test, y_pred))\n"
   ]
  },
  {
   "cell_type": "code",
   "execution_count": 31,
   "id": "4d52ad6f",
   "metadata": {
    "execution": {
     "iopub.execute_input": "2024-07-01T14:09:31.688076Z",
     "iopub.status.busy": "2024-07-01T14:09:31.687547Z",
     "iopub.status.idle": "2024-07-01T14:09:31.701799Z",
     "shell.execute_reply": "2024-07-01T14:09:31.700776Z"
    },
    "papermill": {
     "duration": 0.031703,
     "end_time": "2024-07-01T14:09:31.704266",
     "exception": false,
     "start_time": "2024-07-01T14:09:31.672563",
     "status": "completed"
    },
    "tags": []
   },
   "outputs": [
    {
     "data": {
      "text/html": [
       "<div>\n",
       "<style scoped>\n",
       "    .dataframe tbody tr th:only-of-type {\n",
       "        vertical-align: middle;\n",
       "    }\n",
       "\n",
       "    .dataframe tbody tr th {\n",
       "        vertical-align: top;\n",
       "    }\n",
       "\n",
       "    .dataframe thead th {\n",
       "        text-align: right;\n",
       "    }\n",
       "</style>\n",
       "<table border=\"1\" class=\"dataframe\">\n",
       "  <thead>\n",
       "    <tr style=\"text-align: right;\">\n",
       "      <th></th>\n",
       "      <th>Mean Absolute Error</th>\n",
       "      <th>Mean Squared Error</th>\n",
       "      <th>Root Mean Squared Error</th>\n",
       "      <th>R-squared (R2)</th>\n",
       "    </tr>\n",
       "    <tr>\n",
       "      <th>Model</th>\n",
       "      <th></th>\n",
       "      <th></th>\n",
       "      <th></th>\n",
       "      <th></th>\n",
       "    </tr>\n",
       "  </thead>\n",
       "  <tbody>\n",
       "    <tr>\n",
       "      <th>Linear Regression</th>\n",
       "      <td>4443.153507</td>\n",
       "      <td>3.855841e+07</td>\n",
       "      <td>6209.541743</td>\n",
       "      <td>0.702062</td>\n",
       "    </tr>\n",
       "    <tr>\n",
       "      <th>Lasso</th>\n",
       "      <td>4442.786725</td>\n",
       "      <td>3.855646e+07</td>\n",
       "      <td>6209.385131</td>\n",
       "      <td>0.702077</td>\n",
       "    </tr>\n",
       "    <tr>\n",
       "      <th>Ridge</th>\n",
       "      <td>4443.686088</td>\n",
       "      <td>3.854839e+07</td>\n",
       "      <td>6208.734949</td>\n",
       "      <td>0.702140</td>\n",
       "    </tr>\n",
       "    <tr>\n",
       "      <th>SVR</th>\n",
       "      <td>7722.482857</td>\n",
       "      <td>1.425538e+08</td>\n",
       "      <td>11939.588349</td>\n",
       "      <td>-0.101502</td>\n",
       "    </tr>\n",
       "    <tr>\n",
       "      <th>Decision Tree Regressor</th>\n",
       "      <td>3055.570792</td>\n",
       "      <td>4.254640e+07</td>\n",
       "      <td>6522.759862</td>\n",
       "      <td>0.671247</td>\n",
       "    </tr>\n",
       "    <tr>\n",
       "      <th>Random Forest Regressor</th>\n",
       "      <td>2784.443956</td>\n",
       "      <td>2.381705e+07</td>\n",
       "      <td>4880.271658</td>\n",
       "      <td>0.815968</td>\n",
       "    </tr>\n",
       "  </tbody>\n",
       "</table>\n",
       "</div>"
      ],
      "text/plain": [
       "                         Mean Absolute Error  Mean Squared Error  \\\n",
       "Model                                                              \n",
       "Linear Regression                4443.153507        3.855841e+07   \n",
       "Lasso                            4442.786725        3.855646e+07   \n",
       "Ridge                            4443.686088        3.854839e+07   \n",
       "SVR                              7722.482857        1.425538e+08   \n",
       "Decision Tree Regressor          3055.570792        4.254640e+07   \n",
       "Random Forest Regressor          2784.443956        2.381705e+07   \n",
       "\n",
       "                         Root Mean Squared Error  R-squared (R2)  \n",
       "Model                                                             \n",
       "Linear Regression                    6209.541743        0.702062  \n",
       "Lasso                                6209.385131        0.702077  \n",
       "Ridge                                6208.734949        0.702140  \n",
       "SVR                                 11939.588349       -0.101502  \n",
       "Decision Tree Regressor              6522.759862        0.671247  \n",
       "Random Forest Regressor              4880.271658        0.815968  "
      ]
     },
     "execution_count": 31,
     "metadata": {},
     "output_type": "execute_result"
    }
   ],
   "source": [
    "regression_metrics_df = pd.DataFrame({\n",
    "    \"Model\": [\"Linear Regression\", \"Lasso\", \"Ridge\", \"SVR\", \"Decision Tree Regressor\", \"Random Forest Regressor\"],\n",
    "    \"Mean Absolute Error\": mae_scores,\n",
    "    \"Mean Squared Error\": mse_scores,\n",
    "    \"Root Mean Squared Error\": rmse_scores,\n",
    "    \"R-squared (R2)\": r2_scores\n",
    "})\n",
    "\n",
    "regression_metrics_df.set_index('Model', inplace=True)\n",
    "regression_metrics_df\n"
   ]
  },
  {
   "cell_type": "markdown",
   "id": "64e69e57",
   "metadata": {
    "papermill": {
     "duration": 0.013449,
     "end_time": "2024-07-01T14:09:31.735891",
     "exception": false,
     "start_time": "2024-07-01T14:09:31.722442",
     "status": "completed"
    },
    "tags": []
   },
   "source": [
    "# Infernce \n",
    "In the context of medical insurance cost prediction ;\n",
    "\n",
    "* Among the models evaluated, Linear Regression, Lasso, and Ridge Regression exhibit similar levels of accuracy, with Mean Absolute Errors (MAE) around 4443 and R-squared values around 0.70. These models offer a reasonably good fit to the data and could be suitable for estimating insurance costs.\n",
    "* However, the Support Vector Regressor (SVR) performs significantly worse, with a much higher MAE and a negative R-squared value, suggesting that it struggles to capture the underlying patterns in the data. Therefore, it may not be an appropriate choice for this prediction task.\n",
    "* The Decision Tree Regressor and Random Forest Regressor show promising results, with lower MAE values and higher R-squared values, indicating their ability to capture complex relationships within the data. These models may offer superior performance in estimating medical insurance costs and could be worth further exploration and fine-tuning.\n",
    "* In summary, for medical insurance cost prediction, the Random Forest Regressor seems to be the most promising model, providing accurate estimates with a low MAE and a high R-squared value, making it a potential choice for practical implementation."
   ]
  }
 ],
 "metadata": {
  "kaggle": {
   "accelerator": "none",
   "dataSources": [
    {
     "datasetId": 5315287,
     "sourceId": 8833262,
     "sourceType": "datasetVersion"
    }
   ],
   "dockerImageVersionId": 30732,
   "isGpuEnabled": false,
   "isInternetEnabled": true,
   "language": "python",
   "sourceType": "notebook"
  },
  "kernelspec": {
   "display_name": "Python 3",
   "language": "python",
   "name": "python3"
  },
  "language_info": {
   "codemirror_mode": {
    "name": "ipython",
    "version": 3
   },
   "file_extension": ".py",
   "mimetype": "text/x-python",
   "name": "python",
   "nbconvert_exporter": "python",
   "pygments_lexer": "ipython3",
   "version": "3.10.13"
  },
  "papermill": {
   "default_parameters": {},
   "duration": 9.534851,
   "end_time": "2024-07-01T14:09:32.372062",
   "environment_variables": {},
   "exception": null,
   "input_path": "__notebook__.ipynb",
   "output_path": "__notebook__.ipynb",
   "parameters": {},
   "start_time": "2024-07-01T14:09:22.837211",
   "version": "2.5.0"
  }
 },
 "nbformat": 4,
 "nbformat_minor": 5
}
