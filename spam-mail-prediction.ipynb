{
 "cells": [
  {
   "cell_type": "markdown",
   "id": "0a234220",
   "metadata": {
    "papermill": {
     "duration": 0.006512,
     "end_time": "2024-06-30T15:33:34.716971",
     "exception": false,
     "start_time": "2024-06-30T15:33:34.710459",
     "status": "completed"
    },
    "tags": []
   },
   "source": [
    "# Problem Statement \n",
    "* Objective is to create a predictive model capable of distinguishing between spam and legitimate emails. \n",
    "* This model will rely on various email attributes and content features to make informed predictions, ultimately helping users filter out unwanted and potentially harmful messages.\n",
    "* It also involves use of Natural Language Processing (NLP) techniques for handling textual data.\n",
    "\n"
   ]
  },
  {
   "cell_type": "code",
   "execution_count": 1,
   "id": "f51143a9",
   "metadata": {
    "execution": {
     "iopub.execute_input": "2024-06-30T15:33:34.730938Z",
     "iopub.status.busy": "2024-06-30T15:33:34.730569Z",
     "iopub.status.idle": "2024-06-30T15:33:37.253002Z",
     "shell.execute_reply": "2024-06-30T15:33:37.252118Z"
    },
    "papermill": {
     "duration": 2.532191,
     "end_time": "2024-06-30T15:33:37.255451",
     "exception": false,
     "start_time": "2024-06-30T15:33:34.723260",
     "status": "completed"
    },
    "tags": []
   },
   "outputs": [],
   "source": [
    "import numpy as np\n",
    "import pandas as pd\n",
    "\n",
    "# for text data preprocessing\n",
    "import re\n",
    "from nltk.corpus import stopwords\n",
    "from nltk.stem.porter import PorterStemmer\n",
    "from sklearn.feature_extraction.text import TfidfVectorizer\n",
    "\n",
    "# for model buidling\n",
    "from sklearn.preprocessing import StandardScaler\n",
    "from sklearn.model_selection import train_test_split, RandomizedSearchCV\n",
    "from sklearn.linear_model import LogisticRegression\n",
    "from sklearn.svm import SVC\n",
    "from sklearn.tree import DecisionTreeClassifier\n",
    "from sklearn.ensemble import RandomForestClassifier\n",
    "from sklearn.metrics import accuracy_score, precision_score, recall_score, f1_score, confusion_matrix\n"
   ]
  },
  {
   "cell_type": "code",
   "execution_count": 2,
   "id": "cd693ba5",
   "metadata": {
    "execution": {
     "iopub.execute_input": "2024-06-30T15:33:37.269481Z",
     "iopub.status.busy": "2024-06-30T15:33:37.268925Z",
     "iopub.status.idle": "2024-06-30T15:33:37.497720Z",
     "shell.execute_reply": "2024-06-30T15:33:37.496696Z"
    },
    "papermill": {
     "duration": 0.238643,
     "end_time": "2024-06-30T15:33:37.500225",
     "exception": false,
     "start_time": "2024-06-30T15:33:37.261582",
     "status": "completed"
    },
    "tags": []
   },
   "outputs": [
    {
     "name": "stdout",
     "output_type": "stream",
     "text": [
      "[nltk_data] Downloading package stopwords to /usr/share/nltk_data...\n",
      "[nltk_data]   Package stopwords is already up-to-date!\n"
     ]
    },
    {
     "data": {
      "text/plain": [
       "True"
      ]
     },
     "execution_count": 2,
     "metadata": {},
     "output_type": "execute_result"
    }
   ],
   "source": [
    "import nltk\n",
    "nltk.download('stopwords')\n"
   ]
  },
  {
   "cell_type": "code",
   "execution_count": 3,
   "id": "a803d2cf",
   "metadata": {
    "execution": {
     "iopub.execute_input": "2024-06-30T15:33:37.514079Z",
     "iopub.status.busy": "2024-06-30T15:33:37.513756Z",
     "iopub.status.idle": "2024-06-30T15:33:37.522309Z",
     "shell.execute_reply": "2024-06-30T15:33:37.521106Z"
    },
    "papermill": {
     "duration": 0.01797,
     "end_time": "2024-06-30T15:33:37.524446",
     "exception": false,
     "start_time": "2024-06-30T15:33:37.506476",
     "status": "completed"
    },
    "tags": []
   },
   "outputs": [
    {
     "name": "stdout",
     "output_type": "stream",
     "text": [
      "['i', 'me', 'my', 'myself', 'we', 'our', 'ours', 'ourselves', 'you', \"you're\", \"you've\", \"you'll\", \"you'd\", 'your', 'yours', 'yourself', 'yourselves', 'he', 'him', 'his', 'himself', 'she', \"she's\", 'her', 'hers', 'herself', 'it', \"it's\", 'its', 'itself', 'they', 'them', 'their', 'theirs', 'themselves', 'what', 'which', 'who', 'whom', 'this', 'that', \"that'll\", 'these', 'those', 'am', 'is', 'are', 'was', 'were', 'be', 'been', 'being', 'have', 'has', 'had', 'having', 'do', 'does', 'did', 'doing', 'a', 'an', 'the', 'and', 'but', 'if', 'or', 'because', 'as', 'until', 'while', 'of', 'at', 'by', 'for', 'with', 'about', 'against', 'between', 'into', 'through', 'during', 'before', 'after', 'above', 'below', 'to', 'from', 'up', 'down', 'in', 'out', 'on', 'off', 'over', 'under', 'again', 'further', 'then', 'once', 'here', 'there', 'when', 'where', 'why', 'how', 'all', 'any', 'both', 'each', 'few', 'more', 'most', 'other', 'some', 'such', 'no', 'nor', 'not', 'only', 'own', 'same', 'so', 'than', 'too', 'very', 's', 't', 'can', 'will', 'just', 'don', \"don't\", 'should', \"should've\", 'now', 'd', 'll', 'm', 'o', 're', 've', 'y', 'ain', 'aren', \"aren't\", 'couldn', \"couldn't\", 'didn', \"didn't\", 'doesn', \"doesn't\", 'hadn', \"hadn't\", 'hasn', \"hasn't\", 'haven', \"haven't\", 'isn', \"isn't\", 'ma', 'mightn', \"mightn't\", 'mustn', \"mustn't\", 'needn', \"needn't\", 'shan', \"shan't\", 'shouldn', \"shouldn't\", 'wasn', \"wasn't\", 'weren', \"weren't\", 'won', \"won't\", 'wouldn', \"wouldn't\"]\n"
     ]
    }
   ],
   "source": [
    "# printing the stopwords in English\n",
    "print(stopwords.words('english'))"
   ]
  },
  {
   "cell_type": "code",
   "execution_count": 4,
   "id": "705ec1d2",
   "metadata": {
    "execution": {
     "iopub.execute_input": "2024-06-30T15:33:37.538647Z",
     "iopub.status.busy": "2024-06-30T15:33:37.538248Z",
     "iopub.status.idle": "2024-06-30T15:33:37.595672Z",
     "shell.execute_reply": "2024-06-30T15:33:37.594598Z"
    },
    "papermill": {
     "duration": 0.066964,
     "end_time": "2024-06-30T15:33:37.597818",
     "exception": false,
     "start_time": "2024-06-30T15:33:37.530854",
     "status": "completed"
    },
    "tags": []
   },
   "outputs": [
    {
     "data": {
      "text/html": [
       "<div>\n",
       "<style scoped>\n",
       "    .dataframe tbody tr th:only-of-type {\n",
       "        vertical-align: middle;\n",
       "    }\n",
       "\n",
       "    .dataframe tbody tr th {\n",
       "        vertical-align: top;\n",
       "    }\n",
       "\n",
       "    .dataframe thead th {\n",
       "        text-align: right;\n",
       "    }\n",
       "</style>\n",
       "<table border=\"1\" class=\"dataframe\">\n",
       "  <thead>\n",
       "    <tr style=\"text-align: right;\">\n",
       "      <th></th>\n",
       "      <th>Category</th>\n",
       "      <th>Message</th>\n",
       "    </tr>\n",
       "  </thead>\n",
       "  <tbody>\n",
       "    <tr>\n",
       "      <th>0</th>\n",
       "      <td>ham</td>\n",
       "      <td>Go until jurong point, crazy.. Available only ...</td>\n",
       "    </tr>\n",
       "    <tr>\n",
       "      <th>1</th>\n",
       "      <td>ham</td>\n",
       "      <td>Ok lar... Joking wif u oni...</td>\n",
       "    </tr>\n",
       "    <tr>\n",
       "      <th>2</th>\n",
       "      <td>spam</td>\n",
       "      <td>Free entry in 2 a wkly comp to win FA Cup fina...</td>\n",
       "    </tr>\n",
       "    <tr>\n",
       "      <th>3</th>\n",
       "      <td>ham</td>\n",
       "      <td>U dun say so early hor... U c already then say...</td>\n",
       "    </tr>\n",
       "    <tr>\n",
       "      <th>4</th>\n",
       "      <td>ham</td>\n",
       "      <td>Nah I don't think he goes to usf, he lives aro...</td>\n",
       "    </tr>\n",
       "    <tr>\n",
       "      <th>...</th>\n",
       "      <td>...</td>\n",
       "      <td>...</td>\n",
       "    </tr>\n",
       "    <tr>\n",
       "      <th>5567</th>\n",
       "      <td>spam</td>\n",
       "      <td>This is the 2nd time we have tried 2 contact u...</td>\n",
       "    </tr>\n",
       "    <tr>\n",
       "      <th>5568</th>\n",
       "      <td>ham</td>\n",
       "      <td>Will ü b going to esplanade fr home?</td>\n",
       "    </tr>\n",
       "    <tr>\n",
       "      <th>5569</th>\n",
       "      <td>ham</td>\n",
       "      <td>Pity, * was in mood for that. So...any other s...</td>\n",
       "    </tr>\n",
       "    <tr>\n",
       "      <th>5570</th>\n",
       "      <td>ham</td>\n",
       "      <td>The guy did some bitching but I acted like i'd...</td>\n",
       "    </tr>\n",
       "    <tr>\n",
       "      <th>5571</th>\n",
       "      <td>ham</td>\n",
       "      <td>Rofl. Its true to its name</td>\n",
       "    </tr>\n",
       "  </tbody>\n",
       "</table>\n",
       "<p>5572 rows × 2 columns</p>\n",
       "</div>"
      ],
      "text/plain": [
       "     Category                                            Message\n",
       "0         ham  Go until jurong point, crazy.. Available only ...\n",
       "1         ham                      Ok lar... Joking wif u oni...\n",
       "2        spam  Free entry in 2 a wkly comp to win FA Cup fina...\n",
       "3         ham  U dun say so early hor... U c already then say...\n",
       "4         ham  Nah I don't think he goes to usf, he lives aro...\n",
       "...       ...                                                ...\n",
       "5567     spam  This is the 2nd time we have tried 2 contact u...\n",
       "5568      ham               Will ü b going to esplanade fr home?\n",
       "5569      ham  Pity, * was in mood for that. So...any other s...\n",
       "5570      ham  The guy did some bitching but I acted like i'd...\n",
       "5571      ham                         Rofl. Its true to its name\n",
       "\n",
       "[5572 rows x 2 columns]"
      ]
     },
     "execution_count": 4,
     "metadata": {},
     "output_type": "execute_result"
    }
   ],
   "source": [
    "mail_data = pd.read_csv('/kaggle/input/spam-mail-predict/Day17_Mail_Data.csv') \n",
    "mail_data"
   ]
  },
  {
   "cell_type": "code",
   "execution_count": 5,
   "id": "d8f2322b",
   "metadata": {
    "execution": {
     "iopub.execute_input": "2024-06-30T15:33:37.612988Z",
     "iopub.status.busy": "2024-06-30T15:33:37.612062Z",
     "iopub.status.idle": "2024-06-30T15:33:37.632732Z",
     "shell.execute_reply": "2024-06-30T15:33:37.631803Z"
    },
    "papermill": {
     "duration": 0.030333,
     "end_time": "2024-06-30T15:33:37.634885",
     "exception": false,
     "start_time": "2024-06-30T15:33:37.604552",
     "status": "completed"
    },
    "tags": []
   },
   "outputs": [
    {
     "name": "stdout",
     "output_type": "stream",
     "text": [
      "The size of Dataframe is:  (5572, 2)\n",
      "The Column Name, Record Count and Data Types are as follows: \n",
      "<class 'pandas.core.frame.DataFrame'>\n",
      "RangeIndex: 5572 entries, 0 to 5571\n",
      "Data columns (total 2 columns):\n",
      " #   Column    Non-Null Count  Dtype \n",
      "---  ------    --------------  ----- \n",
      " 0   Category  5572 non-null   object\n",
      " 1   Message   5572 non-null   object\n",
      "dtypes: object(2)\n",
      "memory usage: 87.2+ KB\n"
     ]
    }
   ],
   "source": [
    "print('The size of Dataframe is: ', mail_data.shape)\n",
    "print('The Column Name, Record Count and Data Types are as follows: ')\n",
    "mail_data.info()"
   ]
  },
  {
   "cell_type": "code",
   "execution_count": 6,
   "id": "c0e3cf70",
   "metadata": {
    "execution": {
     "iopub.execute_input": "2024-06-30T15:33:37.650347Z",
     "iopub.status.busy": "2024-06-30T15:33:37.649505Z",
     "iopub.status.idle": "2024-06-30T15:33:37.655924Z",
     "shell.execute_reply": "2024-06-30T15:33:37.655002Z"
    },
    "papermill": {
     "duration": 0.016588,
     "end_time": "2024-06-30T15:33:37.658259",
     "exception": false,
     "start_time": "2024-06-30T15:33:37.641671",
     "status": "completed"
    },
    "tags": []
   },
   "outputs": [
    {
     "name": "stdout",
     "output_type": "stream",
     "text": [
      "We have 0 numerical features : []\n",
      "\n",
      "We have 2 categorical features : ['Category', 'Message']\n"
     ]
    }
   ],
   "source": [
    "# Defining numerical & categorical columns\n",
    "numeric_features = [feature for feature in mail_data.columns if mail_data[feature].dtype != 'O']\n",
    "categorical_features = [feature for feature in mail_data.columns if mail_data[feature].dtype == 'O']\n",
    "\n",
    "# print columns\n",
    "print('We have {} numerical features : {}'.format(len(numeric_features), numeric_features))\n",
    "print('\\nWe have {} categorical features : {}'.format(len(categorical_features), categorical_features))\n"
   ]
  },
  {
   "cell_type": "code",
   "execution_count": 7,
   "id": "6f8b90e3",
   "metadata": {
    "execution": {
     "iopub.execute_input": "2024-06-30T15:33:37.673982Z",
     "iopub.status.busy": "2024-06-30T15:33:37.673592Z",
     "iopub.status.idle": "2024-06-30T15:33:37.692210Z",
     "shell.execute_reply": "2024-06-30T15:33:37.691029Z"
    },
    "papermill": {
     "duration": 0.02946,
     "end_time": "2024-06-30T15:33:37.694914",
     "exception": false,
     "start_time": "2024-06-30T15:33:37.665454",
     "status": "completed"
    },
    "tags": []
   },
   "outputs": [
    {
     "name": "stdout",
     "output_type": "stream",
     "text": [
      "Missing Value Presence in different columns of DataFrame are as follows : \n"
     ]
    },
    {
     "data": {
      "text/html": [
       "<div>\n",
       "<style scoped>\n",
       "    .dataframe tbody tr th:only-of-type {\n",
       "        vertical-align: middle;\n",
       "    }\n",
       "\n",
       "    .dataframe tbody tr th {\n",
       "        vertical-align: top;\n",
       "    }\n",
       "\n",
       "    .dataframe thead th {\n",
       "        text-align: right;\n",
       "    }\n",
       "</style>\n",
       "<table border=\"1\" class=\"dataframe\">\n",
       "  <thead>\n",
       "    <tr style=\"text-align: right;\">\n",
       "      <th></th>\n",
       "      <th>Total</th>\n",
       "      <th>Percent</th>\n",
       "    </tr>\n",
       "  </thead>\n",
       "  <tbody>\n",
       "    <tr>\n",
       "      <th>Category</th>\n",
       "      <td>0</td>\n",
       "      <td>0.0</td>\n",
       "    </tr>\n",
       "    <tr>\n",
       "      <th>Message</th>\n",
       "      <td>0</td>\n",
       "      <td>0.0</td>\n",
       "    </tr>\n",
       "  </tbody>\n",
       "</table>\n",
       "</div>"
      ],
      "text/plain": [
       "          Total  Percent\n",
       "Category      0      0.0\n",
       "Message       0      0.0"
      ]
     },
     "execution_count": 7,
     "metadata": {},
     "output_type": "execute_result"
    }
   ],
   "source": [
    "print('Missing Value Presence in different columns of DataFrame are as follows : ')\n",
    "total=mail_data.isnull().sum().sort_values(ascending=False)\n",
    "percent=(mail_data.isnull().sum()/mail_data.isnull().count()*100).sort_values(ascending=False)\n",
    "pd.concat([total, percent], axis=1, keys=['Total', 'Percent'])\n"
   ]
  },
  {
   "cell_type": "code",
   "execution_count": 8,
   "id": "95367a18",
   "metadata": {
    "execution": {
     "iopub.execute_input": "2024-06-30T15:33:37.711010Z",
     "iopub.status.busy": "2024-06-30T15:33:37.710261Z",
     "iopub.status.idle": "2024-06-30T15:33:37.727726Z",
     "shell.execute_reply": "2024-06-30T15:33:37.726807Z"
    },
    "papermill": {
     "duration": 0.027654,
     "end_time": "2024-06-30T15:33:37.729733",
     "exception": false,
     "start_time": "2024-06-30T15:33:37.702079",
     "status": "completed"
    },
    "tags": []
   },
   "outputs": [
    {
     "name": "stdout",
     "output_type": "stream",
     "text": [
      "Summary Statistics of numerical features for DataFrame are as follows:\n"
     ]
    },
    {
     "data": {
      "text/html": [
       "<div>\n",
       "<style scoped>\n",
       "    .dataframe tbody tr th:only-of-type {\n",
       "        vertical-align: middle;\n",
       "    }\n",
       "\n",
       "    .dataframe tbody tr th {\n",
       "        vertical-align: top;\n",
       "    }\n",
       "\n",
       "    .dataframe thead th {\n",
       "        text-align: right;\n",
       "    }\n",
       "</style>\n",
       "<table border=\"1\" class=\"dataframe\">\n",
       "  <thead>\n",
       "    <tr style=\"text-align: right;\">\n",
       "      <th></th>\n",
       "      <th>Category</th>\n",
       "      <th>Message</th>\n",
       "    </tr>\n",
       "  </thead>\n",
       "  <tbody>\n",
       "    <tr>\n",
       "      <th>count</th>\n",
       "      <td>5572</td>\n",
       "      <td>5572</td>\n",
       "    </tr>\n",
       "    <tr>\n",
       "      <th>unique</th>\n",
       "      <td>2</td>\n",
       "      <td>5157</td>\n",
       "    </tr>\n",
       "    <tr>\n",
       "      <th>top</th>\n",
       "      <td>ham</td>\n",
       "      <td>Sorry, I'll call later</td>\n",
       "    </tr>\n",
       "    <tr>\n",
       "      <th>freq</th>\n",
       "      <td>4825</td>\n",
       "      <td>30</td>\n",
       "    </tr>\n",
       "  </tbody>\n",
       "</table>\n",
       "</div>"
      ],
      "text/plain": [
       "       Category                 Message\n",
       "count      5572                    5572\n",
       "unique        2                    5157\n",
       "top         ham  Sorry, I'll call later\n",
       "freq       4825                      30"
      ]
     },
     "execution_count": 8,
     "metadata": {},
     "output_type": "execute_result"
    }
   ],
   "source": [
    "print('Summary Statistics of numerical features for DataFrame are as follows:')\n",
    "mail_data.describe(include='object')\n"
   ]
  },
  {
   "cell_type": "code",
   "execution_count": 9,
   "id": "2b7e36bb",
   "metadata": {
    "execution": {
     "iopub.execute_input": "2024-06-30T15:33:37.745830Z",
     "iopub.status.busy": "2024-06-30T15:33:37.745102Z",
     "iopub.status.idle": "2024-06-30T15:33:37.758339Z",
     "shell.execute_reply": "2024-06-30T15:33:37.757336Z"
    },
    "papermill": {
     "duration": 0.023585,
     "end_time": "2024-06-30T15:33:37.760456",
     "exception": false,
     "start_time": "2024-06-30T15:33:37.736871",
     "status": "completed"
    },
    "tags": []
   },
   "outputs": [
    {
     "data": {
      "text/html": [
       "<div>\n",
       "<style scoped>\n",
       "    .dataframe tbody tr th:only-of-type {\n",
       "        vertical-align: middle;\n",
       "    }\n",
       "\n",
       "    .dataframe tbody tr th {\n",
       "        vertical-align: top;\n",
       "    }\n",
       "\n",
       "    .dataframe thead th {\n",
       "        text-align: right;\n",
       "    }\n",
       "</style>\n",
       "<table border=\"1\" class=\"dataframe\">\n",
       "  <thead>\n",
       "    <tr style=\"text-align: right;\">\n",
       "      <th></th>\n",
       "      <th>Category</th>\n",
       "      <th>Message</th>\n",
       "    </tr>\n",
       "  </thead>\n",
       "  <tbody>\n",
       "    <tr>\n",
       "      <th>0</th>\n",
       "      <td>ham</td>\n",
       "      <td>Go until jurong point, crazy.. Available only ...</td>\n",
       "    </tr>\n",
       "    <tr>\n",
       "      <th>1</th>\n",
       "      <td>ham</td>\n",
       "      <td>Ok lar... Joking wif u oni...</td>\n",
       "    </tr>\n",
       "    <tr>\n",
       "      <th>2</th>\n",
       "      <td>spam</td>\n",
       "      <td>Free entry in 2 a wkly comp to win FA Cup fina...</td>\n",
       "    </tr>\n",
       "    <tr>\n",
       "      <th>3</th>\n",
       "      <td>ham</td>\n",
       "      <td>U dun say so early hor... U c already then say...</td>\n",
       "    </tr>\n",
       "    <tr>\n",
       "      <th>4</th>\n",
       "      <td>ham</td>\n",
       "      <td>Nah I don't think he goes to usf, he lives aro...</td>\n",
       "    </tr>\n",
       "    <tr>\n",
       "      <th>...</th>\n",
       "      <td>...</td>\n",
       "      <td>...</td>\n",
       "    </tr>\n",
       "    <tr>\n",
       "      <th>5567</th>\n",
       "      <td>spam</td>\n",
       "      <td>This is the 2nd time we have tried 2 contact u...</td>\n",
       "    </tr>\n",
       "    <tr>\n",
       "      <th>5568</th>\n",
       "      <td>ham</td>\n",
       "      <td>Will ü b going to esplanade fr home?</td>\n",
       "    </tr>\n",
       "    <tr>\n",
       "      <th>5569</th>\n",
       "      <td>ham</td>\n",
       "      <td>Pity, * was in mood for that. So...any other s...</td>\n",
       "    </tr>\n",
       "    <tr>\n",
       "      <th>5570</th>\n",
       "      <td>ham</td>\n",
       "      <td>The guy did some bitching but I acted like i'd...</td>\n",
       "    </tr>\n",
       "    <tr>\n",
       "      <th>5571</th>\n",
       "      <td>ham</td>\n",
       "      <td>Rofl. Its true to its name</td>\n",
       "    </tr>\n",
       "  </tbody>\n",
       "</table>\n",
       "<p>5572 rows × 2 columns</p>\n",
       "</div>"
      ],
      "text/plain": [
       "     Category                                            Message\n",
       "0         ham  Go until jurong point, crazy.. Available only ...\n",
       "1         ham                      Ok lar... Joking wif u oni...\n",
       "2        spam  Free entry in 2 a wkly comp to win FA Cup fina...\n",
       "3         ham  U dun say so early hor... U c already then say...\n",
       "4         ham  Nah I don't think he goes to usf, he lives aro...\n",
       "...       ...                                                ...\n",
       "5567     spam  This is the 2nd time we have tried 2 contact u...\n",
       "5568      ham               Will ü b going to esplanade fr home?\n",
       "5569      ham  Pity, * was in mood for that. So...any other s...\n",
       "5570      ham  The guy did some bitching but I acted like i'd...\n",
       "5571      ham                         Rofl. Its true to its name\n",
       "\n",
       "[5572 rows x 2 columns]"
      ]
     },
     "execution_count": 9,
     "metadata": {},
     "output_type": "execute_result"
    }
   ],
   "source": [
    "mail_data = mail_data.where((pd.notnull(mail_data)),'')\n",
    "mail_data"
   ]
  },
  {
   "cell_type": "code",
   "execution_count": 10,
   "id": "da068ee7",
   "metadata": {
    "execution": {
     "iopub.execute_input": "2024-06-30T15:33:37.776874Z",
     "iopub.status.busy": "2024-06-30T15:33:37.776550Z",
     "iopub.status.idle": "2024-06-30T15:33:37.784069Z",
     "shell.execute_reply": "2024-06-30T15:33:37.783306Z"
    },
    "papermill": {
     "duration": 0.01793,
     "end_time": "2024-06-30T15:33:37.786084",
     "exception": false,
     "start_time": "2024-06-30T15:33:37.768154",
     "status": "completed"
    },
    "tags": []
   },
   "outputs": [],
   "source": [
    "mail_data.loc[mail_data['Category'] == 'spam', 'Category',] = 0\n",
    "mail_data.loc[mail_data['Category'] == 'ham', 'Category',] = 1\n"
   ]
  },
  {
   "cell_type": "code",
   "execution_count": 11,
   "id": "de0daa61",
   "metadata": {
    "execution": {
     "iopub.execute_input": "2024-06-30T15:33:37.803236Z",
     "iopub.status.busy": "2024-06-30T15:33:37.802861Z",
     "iopub.status.idle": "2024-06-30T15:33:37.813667Z",
     "shell.execute_reply": "2024-06-30T15:33:37.812687Z"
    },
    "papermill": {
     "duration": 0.022132,
     "end_time": "2024-06-30T15:33:37.815777",
     "exception": false,
     "start_time": "2024-06-30T15:33:37.793645",
     "status": "completed"
    },
    "tags": []
   },
   "outputs": [
    {
     "data": {
      "text/html": [
       "<div>\n",
       "<style scoped>\n",
       "    .dataframe tbody tr th:only-of-type {\n",
       "        vertical-align: middle;\n",
       "    }\n",
       "\n",
       "    .dataframe tbody tr th {\n",
       "        vertical-align: top;\n",
       "    }\n",
       "\n",
       "    .dataframe thead th {\n",
       "        text-align: right;\n",
       "    }\n",
       "</style>\n",
       "<table border=\"1\" class=\"dataframe\">\n",
       "  <thead>\n",
       "    <tr style=\"text-align: right;\">\n",
       "      <th></th>\n",
       "      <th>Category</th>\n",
       "      <th>Message</th>\n",
       "    </tr>\n",
       "  </thead>\n",
       "  <tbody>\n",
       "    <tr>\n",
       "      <th>0</th>\n",
       "      <td>1</td>\n",
       "      <td>Go until jurong point, crazy.. Available only ...</td>\n",
       "    </tr>\n",
       "    <tr>\n",
       "      <th>1</th>\n",
       "      <td>1</td>\n",
       "      <td>Ok lar... Joking wif u oni...</td>\n",
       "    </tr>\n",
       "    <tr>\n",
       "      <th>2</th>\n",
       "      <td>0</td>\n",
       "      <td>Free entry in 2 a wkly comp to win FA Cup fina...</td>\n",
       "    </tr>\n",
       "    <tr>\n",
       "      <th>3</th>\n",
       "      <td>1</td>\n",
       "      <td>U dun say so early hor... U c already then say...</td>\n",
       "    </tr>\n",
       "    <tr>\n",
       "      <th>4</th>\n",
       "      <td>1</td>\n",
       "      <td>Nah I don't think he goes to usf, he lives aro...</td>\n",
       "    </tr>\n",
       "    <tr>\n",
       "      <th>...</th>\n",
       "      <td>...</td>\n",
       "      <td>...</td>\n",
       "    </tr>\n",
       "    <tr>\n",
       "      <th>5567</th>\n",
       "      <td>0</td>\n",
       "      <td>This is the 2nd time we have tried 2 contact u...</td>\n",
       "    </tr>\n",
       "    <tr>\n",
       "      <th>5568</th>\n",
       "      <td>1</td>\n",
       "      <td>Will ü b going to esplanade fr home?</td>\n",
       "    </tr>\n",
       "    <tr>\n",
       "      <th>5569</th>\n",
       "      <td>1</td>\n",
       "      <td>Pity, * was in mood for that. So...any other s...</td>\n",
       "    </tr>\n",
       "    <tr>\n",
       "      <th>5570</th>\n",
       "      <td>1</td>\n",
       "      <td>The guy did some bitching but I acted like i'd...</td>\n",
       "    </tr>\n",
       "    <tr>\n",
       "      <th>5571</th>\n",
       "      <td>1</td>\n",
       "      <td>Rofl. Its true to its name</td>\n",
       "    </tr>\n",
       "  </tbody>\n",
       "</table>\n",
       "<p>5572 rows × 2 columns</p>\n",
       "</div>"
      ],
      "text/plain": [
       "     Category                                            Message\n",
       "0           1  Go until jurong point, crazy.. Available only ...\n",
       "1           1                      Ok lar... Joking wif u oni...\n",
       "2           0  Free entry in 2 a wkly comp to win FA Cup fina...\n",
       "3           1  U dun say so early hor... U c already then say...\n",
       "4           1  Nah I don't think he goes to usf, he lives aro...\n",
       "...       ...                                                ...\n",
       "5567        0  This is the 2nd time we have tried 2 contact u...\n",
       "5568        1               Will ü b going to esplanade fr home?\n",
       "5569        1  Pity, * was in mood for that. So...any other s...\n",
       "5570        1  The guy did some bitching but I acted like i'd...\n",
       "5571        1                         Rofl. Its true to its name\n",
       "\n",
       "[5572 rows x 2 columns]"
      ]
     },
     "execution_count": 11,
     "metadata": {},
     "output_type": "execute_result"
    }
   ],
   "source": [
    "mail_data"
   ]
  },
  {
   "cell_type": "code",
   "execution_count": 12,
   "id": "7cfcca94",
   "metadata": {
    "execution": {
     "iopub.execute_input": "2024-06-30T15:33:37.832996Z",
     "iopub.status.busy": "2024-06-30T15:33:37.832111Z",
     "iopub.status.idle": "2024-06-30T15:33:37.840363Z",
     "shell.execute_reply": "2024-06-30T15:33:37.839337Z"
    },
    "papermill": {
     "duration": 0.019037,
     "end_time": "2024-06-30T15:33:37.842420",
     "exception": false,
     "start_time": "2024-06-30T15:33:37.823383",
     "status": "completed"
    },
    "tags": []
   },
   "outputs": [
    {
     "data": {
      "text/plain": [
       "Category\n",
       "1    4825\n",
       "0     747\n",
       "Name: count, dtype: int64"
      ]
     },
     "execution_count": 12,
     "metadata": {},
     "output_type": "execute_result"
    }
   ],
   "source": [
    "mail_data['Category'].value_counts()\n"
   ]
  },
  {
   "cell_type": "code",
   "execution_count": 13,
   "id": "c27de6fc",
   "metadata": {
    "execution": {
     "iopub.execute_input": "2024-06-30T15:33:37.859725Z",
     "iopub.status.busy": "2024-06-30T15:33:37.858898Z",
     "iopub.status.idle": "2024-06-30T15:33:37.863337Z",
     "shell.execute_reply": "2024-06-30T15:33:37.862374Z"
    },
    "papermill": {
     "duration": 0.015368,
     "end_time": "2024-06-30T15:33:37.865346",
     "exception": false,
     "start_time": "2024-06-30T15:33:37.849978",
     "status": "completed"
    },
    "tags": []
   },
   "outputs": [],
   "source": [
    "porter_stemmer = PorterStemmer()\n"
   ]
  },
  {
   "cell_type": "code",
   "execution_count": 14,
   "id": "27bf29e7",
   "metadata": {
    "execution": {
     "iopub.execute_input": "2024-06-30T15:33:37.882468Z",
     "iopub.status.busy": "2024-06-30T15:33:37.881858Z",
     "iopub.status.idle": "2024-06-30T15:33:49.781078Z",
     "shell.execute_reply": "2024-06-30T15:33:49.780001Z"
    },
    "papermill": {
     "duration": 11.910453,
     "end_time": "2024-06-30T15:33:49.783348",
     "exception": false,
     "start_time": "2024-06-30T15:33:37.872895",
     "status": "completed"
    },
    "tags": []
   },
   "outputs": [
    {
     "data": {
      "text/plain": [
       "0       go jurong point crazi avail bugi n great world...\n",
       "1                                   ok lar joke wif u oni\n",
       "2       free entri wkli comp win fa cup final tkt st m...\n",
       "3                     u dun say earli hor u c alreadi say\n",
       "4                    nah think goe usf live around though\n",
       "                              ...                        \n",
       "5567    nd time tri contact u u pound prize claim easi...\n",
       "5568                                b go esplanad fr home\n",
       "5569                                    piti mood suggest\n",
       "5570    guy bitch act like interest buy someth els nex...\n",
       "5571                                       rofl true name\n",
       "Name: Message, Length: 5572, dtype: object"
      ]
     },
     "execution_count": 14,
     "metadata": {},
     "output_type": "execute_result"
    }
   ],
   "source": [
    "def stemming(content):\n",
    "    stemmed_content = re.sub('[^a-zA-Z]',' ',content)\n",
    "    stemmed_content = stemmed_content.lower()\n",
    "    stemmed_content = stemmed_content.split()\n",
    "    stemmed_content = [porter_stemmer.stem(word) for word in stemmed_content if not word in stopwords.words('english')]\n",
    "    stemmed_content = ' '.join(stemmed_content)\n",
    "    return stemmed_content\n",
    "mail_data['Message'] = mail_data['Message'].apply(stemming)\n",
    "mail_data['Message']\n"
   ]
  },
  {
   "cell_type": "code",
   "execution_count": 15,
   "id": "76847668",
   "metadata": {
    "execution": {
     "iopub.execute_input": "2024-06-30T15:33:49.801065Z",
     "iopub.status.busy": "2024-06-30T15:33:49.800212Z",
     "iopub.status.idle": "2024-06-30T15:33:49.805075Z",
     "shell.execute_reply": "2024-06-30T15:33:49.804073Z"
    },
    "papermill": {
     "duration": 0.015835,
     "end_time": "2024-06-30T15:33:49.807138",
     "exception": false,
     "start_time": "2024-06-30T15:33:49.791303",
     "status": "completed"
    },
    "tags": []
   },
   "outputs": [],
   "source": [
    "# separating the data and labels\n",
    "X = mail_data['Message'] # Feature matrix\n",
    "y = mail_data['Category'] # Target variable"
   ]
  },
  {
   "cell_type": "code",
   "execution_count": 16,
   "id": "8a817a46",
   "metadata": {
    "execution": {
     "iopub.execute_input": "2024-06-30T15:33:49.824215Z",
     "iopub.status.busy": "2024-06-30T15:33:49.823854Z",
     "iopub.status.idle": "2024-06-30T15:33:49.831976Z",
     "shell.execute_reply": "2024-06-30T15:33:49.830942Z"
    },
    "papermill": {
     "duration": 0.019269,
     "end_time": "2024-06-30T15:33:49.834284",
     "exception": false,
     "start_time": "2024-06-30T15:33:49.815015",
     "status": "completed"
    },
    "tags": []
   },
   "outputs": [
    {
     "data": {
      "text/plain": [
       "0       go jurong point crazi avail bugi n great world...\n",
       "1                                   ok lar joke wif u oni\n",
       "2       free entri wkli comp win fa cup final tkt st m...\n",
       "3                     u dun say earli hor u c alreadi say\n",
       "4                    nah think goe usf live around though\n",
       "                              ...                        \n",
       "5567    nd time tri contact u u pound prize claim easi...\n",
       "5568                                b go esplanad fr home\n",
       "5569                                    piti mood suggest\n",
       "5570    guy bitch act like interest buy someth els nex...\n",
       "5571                                       rofl true name\n",
       "Name: Message, Length: 5572, dtype: object"
      ]
     },
     "execution_count": 16,
     "metadata": {},
     "output_type": "execute_result"
    }
   ],
   "source": [
    "X"
   ]
  },
  {
   "cell_type": "code",
   "execution_count": 17,
   "id": "42904c75",
   "metadata": {
    "execution": {
     "iopub.execute_input": "2024-06-30T15:33:49.852309Z",
     "iopub.status.busy": "2024-06-30T15:33:49.851934Z",
     "iopub.status.idle": "2024-06-30T15:33:49.859583Z",
     "shell.execute_reply": "2024-06-30T15:33:49.858618Z"
    },
    "papermill": {
     "duration": 0.018851,
     "end_time": "2024-06-30T15:33:49.861499",
     "exception": false,
     "start_time": "2024-06-30T15:33:49.842648",
     "status": "completed"
    },
    "tags": []
   },
   "outputs": [
    {
     "data": {
      "text/plain": [
       "0       1\n",
       "1       1\n",
       "2       0\n",
       "3       1\n",
       "4       1\n",
       "       ..\n",
       "5567    0\n",
       "5568    1\n",
       "5569    1\n",
       "5570    1\n",
       "5571    1\n",
       "Name: Category, Length: 5572, dtype: object"
      ]
     },
     "execution_count": 17,
     "metadata": {},
     "output_type": "execute_result"
    }
   ],
   "source": [
    "y"
   ]
  },
  {
   "cell_type": "code",
   "execution_count": 18,
   "id": "97770d35",
   "metadata": {
    "execution": {
     "iopub.execute_input": "2024-06-30T15:33:49.879473Z",
     "iopub.status.busy": "2024-06-30T15:33:49.878518Z",
     "iopub.status.idle": "2024-06-30T15:33:49.883535Z",
     "shell.execute_reply": "2024-06-30T15:33:49.882630Z"
    },
    "papermill": {
     "duration": 0.016004,
     "end_time": "2024-06-30T15:33:49.885557",
     "exception": false,
     "start_time": "2024-06-30T15:33:49.869553",
     "status": "completed"
    },
    "tags": []
   },
   "outputs": [],
   "source": [
    "# convert Y_train and Y_test values as integers\n",
    "y = y.astype('int')"
   ]
  },
  {
   "cell_type": "code",
   "execution_count": 19,
   "id": "ee4a0c58",
   "metadata": {
    "execution": {
     "iopub.execute_input": "2024-06-30T15:33:49.904048Z",
     "iopub.status.busy": "2024-06-30T15:33:49.903102Z",
     "iopub.status.idle": "2024-06-30T15:33:50.047939Z",
     "shell.execute_reply": "2024-06-30T15:33:50.046835Z"
    },
    "papermill": {
     "duration": 0.156454,
     "end_time": "2024-06-30T15:33:50.050211",
     "exception": false,
     "start_time": "2024-06-30T15:33:49.893757",
     "status": "completed"
    },
    "tags": []
   },
   "outputs": [
    {
     "data": {
      "text/plain": [
       "<5572x6296 sparse matrix of type '<class 'numpy.float64'>'\n",
       "\twith 45096 stored elements in Compressed Sparse Row format>"
      ]
     },
     "execution_count": 19,
     "metadata": {},
     "output_type": "execute_result"
    }
   ],
   "source": [
    "vectorizer = TfidfVectorizer()\n",
    "vectorizer.fit(X)\n",
    "\n",
    "X = vectorizer.transform(X)\n",
    "X"
   ]
  },
  {
   "cell_type": "code",
   "execution_count": 20,
   "id": "91428c0f",
   "metadata": {
    "execution": {
     "iopub.execute_input": "2024-06-30T15:33:50.068328Z",
     "iopub.status.busy": "2024-06-30T15:33:50.067951Z",
     "iopub.status.idle": "2024-06-30T15:33:50.073777Z",
     "shell.execute_reply": "2024-06-30T15:33:50.072882Z"
    },
    "papermill": {
     "duration": 0.017223,
     "end_time": "2024-06-30T15:33:50.075858",
     "exception": false,
     "start_time": "2024-06-30T15:33:50.058635",
     "status": "completed"
    },
    "tags": []
   },
   "outputs": [
    {
     "name": "stdout",
     "output_type": "stream",
     "text": [
      "  (0, 6135)\t0.23616756554565888\n",
      "  (0, 5957)\t0.19460776670194488\n",
      "  (0, 4091)\t0.24055424511726686\n",
      "  (0, 2932)\t0.28506031120996994\n",
      "  (0, 2827)\t0.3522946643655987\n",
      "  (0, 2245)\t0.19460776670194488\n",
      "  (0, 2208)\t0.1649859743034801\n",
      "  (0, 2171)\t0.14066343975170745\n",
      "  (0, 1169)\t0.27282796669086984\n",
      "  (0, 964)\t0.29761995607435426\n",
      "  (0, 738)\t0.29761995607435426\n",
      "  (0, 736)\t0.33630333732147566\n",
      "  (0, 379)\t0.26350491969128115\n",
      "  (0, 190)\t0.3522946643655987\n",
      "  (1, 6056)\t0.44597659211687757\n",
      "  (1, 3785)\t0.564793662023427\n",
      "  (1, 3760)\t0.2809319560263009\n",
      "  (1, 2960)\t0.4218982744467187\n",
      "  (1, 2794)\t0.4745440766926726\n",
      "  (2, 6101)\t0.21369536090695063\n",
      "  (2, 6067)\t0.16011115093017092\n",
      "  (2, 5695)\t0.13727833879237866\n",
      "  (2, 5536)\t0.2476330040187214\n",
      "  (2, 5420)\t0.1320245012320154\n",
      "  (2, 5131)\t0.22058857181065877\n",
      "  :\t:\n",
      "  (5567, 784)\t0.15667410716389937\n",
      "  (5567, 724)\t0.2920652264491494\n",
      "  (5568, 2457)\t0.37457404553349233\n",
      "  (5568, 2171)\t0.29597505521175127\n",
      "  (5568, 1996)\t0.5740672391289212\n",
      "  (5568, 1704)\t0.6652366917601374\n",
      "  (5569, 5236)\t0.5590776449483026\n",
      "  (5569, 4044)\t0.6374814122151056\n",
      "  (5569, 3439)\t0.5301411472422174\n",
      "  (5570, 5992)\t0.22282875716394904\n",
      "  (5570, 5804)\t0.2538006819656808\n",
      "  (5570, 4986)\t0.24958937842163822\n",
      "  (5570, 3614)\t0.2552941152707463\n",
      "  (5570, 3042)\t0.19150020752978172\n",
      "  (5570, 2669)\t0.3172465698926507\n",
      "  (5570, 2290)\t0.2538006819656808\n",
      "  (5570, 2099)\t0.3345920355159975\n",
      "  (5570, 2007)\t0.19305640171427174\n",
      "  (5570, 1630)\t0.2965868609804064\n",
      "  (5570, 763)\t0.24826664793299388\n",
      "  (5570, 577)\t0.35551551960101946\n",
      "  (5570, 52)\t0.362651527240719\n",
      "  (5571, 5657)\t0.5274275139134303\n",
      "  (5571, 4541)\t0.6981587787831502\n",
      "  (5571, 3538)\t0.4841430957631416\n"
     ]
    }
   ],
   "source": [
    "print(X)"
   ]
  },
  {
   "cell_type": "code",
   "execution_count": 21,
   "id": "bbd0a096",
   "metadata": {
    "execution": {
     "iopub.execute_input": "2024-06-30T15:33:50.093906Z",
     "iopub.status.busy": "2024-06-30T15:33:50.093542Z",
     "iopub.status.idle": "2024-06-30T15:33:50.104148Z",
     "shell.execute_reply": "2024-06-30T15:33:50.103247Z"
    },
    "papermill": {
     "duration": 0.022217,
     "end_time": "2024-06-30T15:33:50.106289",
     "exception": false,
     "start_time": "2024-06-30T15:33:50.084072",
     "status": "completed"
    },
    "tags": []
   },
   "outputs": [],
   "source": [
    "from sklearn.model_selection import train_test_split\n",
    "\n",
    "X_train, X_test, y_train, y_test = train_test_split(X, y, test_size=0.2, stratify=y, random_state=45)\n"
   ]
  },
  {
   "cell_type": "code",
   "execution_count": 22,
   "id": "6b69b8d1",
   "metadata": {
    "execution": {
     "iopub.execute_input": "2024-06-30T15:33:50.124637Z",
     "iopub.status.busy": "2024-06-30T15:33:50.124273Z",
     "iopub.status.idle": "2024-06-30T15:33:50.129765Z",
     "shell.execute_reply": "2024-06-30T15:33:50.128657Z"
    },
    "papermill": {
     "duration": 0.016929,
     "end_time": "2024-06-30T15:33:50.131903",
     "exception": false,
     "start_time": "2024-06-30T15:33:50.114974",
     "status": "completed"
    },
    "tags": []
   },
   "outputs": [
    {
     "name": "stdout",
     "output_type": "stream",
     "text": [
      "For X ;  (5572, 6296) (4457, 6296) (1115, 6296)\n",
      "\n",
      "\n",
      "\n",
      "For y ;  (5572,) (4457,) (1115,)\n"
     ]
    }
   ],
   "source": [
    "print(\"For X ; \",X.shape, X_train.shape, X_test.shape)\n",
    "print(\"\\n\\n\")\n",
    "print(\"For y ; \",y.shape, y_train.shape, y_test.shape)\n"
   ]
  },
  {
   "cell_type": "code",
   "execution_count": 23,
   "id": "a0aa1d2c",
   "metadata": {
    "execution": {
     "iopub.execute_input": "2024-06-30T15:33:50.150265Z",
     "iopub.status.busy": "2024-06-30T15:33:50.149885Z",
     "iopub.status.idle": "2024-06-30T15:33:56.138416Z",
     "shell.execute_reply": "2024-06-30T15:33:56.137432Z"
    },
    "papermill": {
     "duration": 6.000531,
     "end_time": "2024-06-30T15:33:56.140918",
     "exception": false,
     "start_time": "2024-06-30T15:33:50.140387",
     "status": "completed"
    },
    "tags": []
   },
   "outputs": [],
   "source": [
    "models = [LogisticRegression, SVC, DecisionTreeClassifier, RandomForestClassifier]\n",
    "accuracy_scores = []\n",
    "precision_scores = []\n",
    "recall_scores = []\n",
    "f1_scores = []\n",
    "\n",
    "for model in models:\n",
    "    classifier = model().fit(X_train, y_train)\n",
    "    y_pred = classifier.predict(X_test)\n",
    "    \n",
    "    accuracy_scores.append(accuracy_score(y_test, y_pred))\n",
    "    precision_scores.append(precision_score(y_test, y_pred))\n",
    "    recall_scores.append(recall_score(y_test, y_pred))\n",
    "    f1_scores.append(f1_score(y_test, y_pred))\n"
   ]
  },
  {
   "cell_type": "code",
   "execution_count": 24,
   "id": "7ec3848d",
   "metadata": {
    "execution": {
     "iopub.execute_input": "2024-06-30T15:33:56.159699Z",
     "iopub.status.busy": "2024-06-30T15:33:56.158909Z",
     "iopub.status.idle": "2024-06-30T15:33:56.171851Z",
     "shell.execute_reply": "2024-06-30T15:33:56.170942Z"
    },
    "papermill": {
     "duration": 0.024575,
     "end_time": "2024-06-30T15:33:56.173933",
     "exception": false,
     "start_time": "2024-06-30T15:33:56.149358",
     "status": "completed"
    },
    "tags": []
   },
   "outputs": [
    {
     "data": {
      "text/html": [
       "<div>\n",
       "<style scoped>\n",
       "    .dataframe tbody tr th:only-of-type {\n",
       "        vertical-align: middle;\n",
       "    }\n",
       "\n",
       "    .dataframe tbody tr th {\n",
       "        vertical-align: top;\n",
       "    }\n",
       "\n",
       "    .dataframe thead th {\n",
       "        text-align: right;\n",
       "    }\n",
       "</style>\n",
       "<table border=\"1\" class=\"dataframe\">\n",
       "  <thead>\n",
       "    <tr style=\"text-align: right;\">\n",
       "      <th></th>\n",
       "      <th>Accuracy</th>\n",
       "      <th>Precision</th>\n",
       "      <th>Recall</th>\n",
       "      <th>F1 Score</th>\n",
       "    </tr>\n",
       "    <tr>\n",
       "      <th>Model</th>\n",
       "      <th></th>\n",
       "      <th></th>\n",
       "      <th></th>\n",
       "      <th></th>\n",
       "    </tr>\n",
       "  </thead>\n",
       "  <tbody>\n",
       "    <tr>\n",
       "      <th>Logistic Regression</th>\n",
       "      <td>0.953363</td>\n",
       "      <td>0.949803</td>\n",
       "      <td>0.998965</td>\n",
       "      <td>0.973764</td>\n",
       "    </tr>\n",
       "    <tr>\n",
       "      <th>SVM</th>\n",
       "      <td>0.972197</td>\n",
       "      <td>0.968907</td>\n",
       "      <td>1.000000</td>\n",
       "      <td>0.984208</td>\n",
       "    </tr>\n",
       "    <tr>\n",
       "      <th>Decision Tree</th>\n",
       "      <td>0.964126</td>\n",
       "      <td>0.976337</td>\n",
       "      <td>0.982402</td>\n",
       "      <td>0.979360</td>\n",
       "    </tr>\n",
       "    <tr>\n",
       "      <th>Random Forest</th>\n",
       "      <td>0.975785</td>\n",
       "      <td>0.972810</td>\n",
       "      <td>1.000000</td>\n",
       "      <td>0.986217</td>\n",
       "    </tr>\n",
       "  </tbody>\n",
       "</table>\n",
       "</div>"
      ],
      "text/plain": [
       "                     Accuracy  Precision    Recall  F1 Score\n",
       "Model                                                       \n",
       "Logistic Regression  0.953363   0.949803  0.998965  0.973764\n",
       "SVM                  0.972197   0.968907  1.000000  0.984208\n",
       "Decision Tree        0.964126   0.976337  0.982402  0.979360\n",
       "Random Forest        0.975785   0.972810  1.000000  0.986217"
      ]
     },
     "execution_count": 24,
     "metadata": {},
     "output_type": "execute_result"
    }
   ],
   "source": [
    "classification_metrics_df = pd.DataFrame({\n",
    "    \"Model\": [\"Logistic Regression\", \"SVM\", \"Decision Tree\", \"Random Forest\"],\n",
    "    \"Accuracy\": accuracy_scores,\n",
    "    \"Precision\": precision_scores,\n",
    "    \"Recall\": recall_scores,\n",
    "    \"F1 Score\": f1_scores\n",
    "})\n",
    "\n",
    "classification_metrics_df.set_index('Model', inplace=True)\n",
    "classification_metrics_df\n"
   ]
  },
  {
   "cell_type": "markdown",
   "id": "4533c0de",
   "metadata": {
    "papermill": {
     "duration": 0.008468,
     "end_time": "2024-06-30T15:33:56.191079",
     "exception": false,
     "start_time": "2024-06-30T15:33:56.182611",
     "status": "completed"
    },
    "tags": []
   },
   "source": [
    "# Inference\n",
    "* The performance metrics of four different models—Logistic Regression, SVM, Decision Tree, and Random Forest—have been evaluated.\n",
    "\n",
    "* All models exhibit high accuracy, with SVM and Random Forest leading the way, achieving accuracy scores of approximately 97.22% and 97.49%, respectively. This suggests that these models are effective at correctly classifying emails as spam or legitimate.\n",
    "\n",
    "* When considering precision, recall, and F1 Score, the SVM and Random Forest models again excel, with precision scores exceeding 96.89% and recall scores reaching 100%, indicating minimal false positives and false negatives. Decision Tree also performs well in terms of precision and recall.\n",
    "\n",
    "* In summary, SVM and Random Forest models stand out as strong contenders for spam mail prediction, with high accuracy, precision, and recall scores. \n",
    "\n",
    "* However, the choice of the best model may also depend on specific requirements such as computational efficiency and interpretability."
   ]
  }
 ],
 "metadata": {
  "kaggle": {
   "accelerator": "none",
   "dataSources": [
    {
     "datasetId": 5309797,
     "sourceId": 8825546,
     "sourceType": "datasetVersion"
    }
   ],
   "dockerImageVersionId": 30732,
   "isGpuEnabled": false,
   "isInternetEnabled": true,
   "language": "python",
   "sourceType": "notebook"
  },
  "kernelspec": {
   "display_name": "Python 3",
   "language": "python",
   "name": "python3"
  },
  "language_info": {
   "codemirror_mode": {
    "name": "ipython",
    "version": 3
   },
   "file_extension": ".py",
   "mimetype": "text/x-python",
   "name": "python",
   "nbconvert_exporter": "python",
   "pygments_lexer": "ipython3",
   "version": "3.10.13"
  },
  "papermill": {
   "default_parameters": {},
   "duration": 24.646536,
   "end_time": "2024-06-30T15:33:56.820737",
   "environment_variables": {},
   "exception": null,
   "input_path": "__notebook__.ipynb",
   "output_path": "__notebook__.ipynb",
   "parameters": {},
   "start_time": "2024-06-30T15:33:32.174201",
   "version": "2.5.0"
  }
 },
 "nbformat": 4,
 "nbformat_minor": 5
}
