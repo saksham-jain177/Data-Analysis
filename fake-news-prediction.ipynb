{
 "cells": [
  {
   "cell_type": "code",
   "execution_count": 1,
   "id": "2ff71da5",
   "metadata": {
    "execution": {
     "iopub.execute_input": "2024-06-30T14:08:13.408813Z",
     "iopub.status.busy": "2024-06-30T14:08:13.407750Z",
     "iopub.status.idle": "2024-06-30T14:08:16.336676Z",
     "shell.execute_reply": "2024-06-30T14:08:16.335631Z"
    },
    "papermill": {
     "duration": 2.940413,
     "end_time": "2024-06-30T14:08:16.339386",
     "exception": false,
     "start_time": "2024-06-30T14:08:13.398973",
     "status": "completed"
    },
    "tags": []
   },
   "outputs": [],
   "source": [
    "import numpy as np\n",
    "import pandas as pd\n",
    "\n",
    "# for text data preprocessing\n",
    "import re\n",
    "from nltk.corpus import stopwords\n",
    "from nltk.stem.porter import PorterStemmer\n",
    "from sklearn.feature_extraction.text import TfidfVectorizer\n",
    "\n",
    "# for model buidling\n",
    "from sklearn.preprocessing import StandardScaler\n",
    "from sklearn.model_selection import train_test_split, RandomizedSearchCV\n",
    "from sklearn.linear_model import LogisticRegression\n",
    "from sklearn.svm import SVC\n",
    "from sklearn.tree import DecisionTreeClassifier\n",
    "from sklearn.ensemble import RandomForestClassifier\n",
    "from sklearn.metrics import accuracy_score, precision_score, recall_score, f1_score, confusion_matrix"
   ]
  },
  {
   "cell_type": "code",
   "execution_count": 2,
   "id": "c6de351e",
   "metadata": {
    "execution": {
     "iopub.execute_input": "2024-06-30T14:08:16.354685Z",
     "iopub.status.busy": "2024-06-30T14:08:16.354116Z",
     "iopub.status.idle": "2024-06-30T14:08:16.432058Z",
     "shell.execute_reply": "2024-06-30T14:08:16.430791Z"
    },
    "papermill": {
     "duration": 0.088491,
     "end_time": "2024-06-30T14:08:16.434426",
     "exception": false,
     "start_time": "2024-06-30T14:08:16.345935",
     "status": "completed"
    },
    "tags": []
   },
   "outputs": [
    {
     "name": "stdout",
     "output_type": "stream",
     "text": [
      "[nltk_data] Downloading package stopwords to /usr/share/nltk_data...\n",
      "[nltk_data]   Package stopwords is already up-to-date!\n"
     ]
    },
    {
     "data": {
      "text/plain": [
       "True"
      ]
     },
     "execution_count": 2,
     "metadata": {},
     "output_type": "execute_result"
    }
   ],
   "source": [
    "import nltk\n",
    "nltk.download('stopwords')"
   ]
  },
  {
   "cell_type": "code",
   "execution_count": 3,
   "id": "388e128d",
   "metadata": {
    "execution": {
     "iopub.execute_input": "2024-06-30T14:08:16.449382Z",
     "iopub.status.busy": "2024-06-30T14:08:16.448594Z",
     "iopub.status.idle": "2024-06-30T14:08:16.457907Z",
     "shell.execute_reply": "2024-06-30T14:08:16.456345Z"
    },
    "papermill": {
     "duration": 0.019403,
     "end_time": "2024-06-30T14:08:16.460105",
     "exception": false,
     "start_time": "2024-06-30T14:08:16.440702",
     "status": "completed"
    },
    "tags": []
   },
   "outputs": [
    {
     "name": "stdout",
     "output_type": "stream",
     "text": [
      "['i', 'me', 'my', 'myself', 'we', 'our', 'ours', 'ourselves', 'you', \"you're\", \"you've\", \"you'll\", \"you'd\", 'your', 'yours', 'yourself', 'yourselves', 'he', 'him', 'his', 'himself', 'she', \"she's\", 'her', 'hers', 'herself', 'it', \"it's\", 'its', 'itself', 'they', 'them', 'their', 'theirs', 'themselves', 'what', 'which', 'who', 'whom', 'this', 'that', \"that'll\", 'these', 'those', 'am', 'is', 'are', 'was', 'were', 'be', 'been', 'being', 'have', 'has', 'had', 'having', 'do', 'does', 'did', 'doing', 'a', 'an', 'the', 'and', 'but', 'if', 'or', 'because', 'as', 'until', 'while', 'of', 'at', 'by', 'for', 'with', 'about', 'against', 'between', 'into', 'through', 'during', 'before', 'after', 'above', 'below', 'to', 'from', 'up', 'down', 'in', 'out', 'on', 'off', 'over', 'under', 'again', 'further', 'then', 'once', 'here', 'there', 'when', 'where', 'why', 'how', 'all', 'any', 'both', 'each', 'few', 'more', 'most', 'other', 'some', 'such', 'no', 'nor', 'not', 'only', 'own', 'same', 'so', 'than', 'too', 'very', 's', 't', 'can', 'will', 'just', 'don', \"don't\", 'should', \"should've\", 'now', 'd', 'll', 'm', 'o', 're', 've', 'y', 'ain', 'aren', \"aren't\", 'couldn', \"couldn't\", 'didn', \"didn't\", 'doesn', \"doesn't\", 'hadn', \"hadn't\", 'hasn', \"hasn't\", 'haven', \"haven't\", 'isn', \"isn't\", 'ma', 'mightn', \"mightn't\", 'mustn', \"mustn't\", 'needn', \"needn't\", 'shan', \"shan't\", 'shouldn', \"shouldn't\", 'wasn', \"wasn't\", 'weren', \"weren't\", 'won', \"won't\", 'wouldn', \"wouldn't\"]\n"
     ]
    }
   ],
   "source": [
    "# printing the stopwords in English\n",
    "print(stopwords.words('english'))"
   ]
  },
  {
   "cell_type": "code",
   "execution_count": 4,
   "id": "7609c460",
   "metadata": {
    "execution": {
     "iopub.execute_input": "2024-06-30T14:08:16.475329Z",
     "iopub.status.busy": "2024-06-30T14:08:16.474335Z",
     "iopub.status.idle": "2024-06-30T14:08:19.229724Z",
     "shell.execute_reply": "2024-06-30T14:08:19.228626Z"
    },
    "papermill": {
     "duration": 2.765657,
     "end_time": "2024-06-30T14:08:19.232329",
     "exception": false,
     "start_time": "2024-06-30T14:08:16.466672",
     "status": "completed"
    },
    "tags": []
   },
   "outputs": [],
   "source": [
    "fake_news_data = pd.read_csv('/kaggle/input/fake-news-predictions/Day4_Fake_News_Data.csv') "
   ]
  },
  {
   "cell_type": "code",
   "execution_count": 5,
   "id": "6c4202c4",
   "metadata": {
    "execution": {
     "iopub.execute_input": "2024-06-30T14:08:19.246878Z",
     "iopub.status.busy": "2024-06-30T14:08:19.246447Z",
     "iopub.status.idle": "2024-06-30T14:08:19.272178Z",
     "shell.execute_reply": "2024-06-30T14:08:19.271158Z"
    },
    "papermill": {
     "duration": 0.035679,
     "end_time": "2024-06-30T14:08:19.274518",
     "exception": false,
     "start_time": "2024-06-30T14:08:19.238839",
     "status": "completed"
    },
    "tags": []
   },
   "outputs": [
    {
     "data": {
      "text/html": [
       "<div>\n",
       "<style scoped>\n",
       "    .dataframe tbody tr th:only-of-type {\n",
       "        vertical-align: middle;\n",
       "    }\n",
       "\n",
       "    .dataframe tbody tr th {\n",
       "        vertical-align: top;\n",
       "    }\n",
       "\n",
       "    .dataframe thead th {\n",
       "        text-align: right;\n",
       "    }\n",
       "</style>\n",
       "<table border=\"1\" class=\"dataframe\">\n",
       "  <thead>\n",
       "    <tr style=\"text-align: right;\">\n",
       "      <th></th>\n",
       "      <th>id</th>\n",
       "      <th>title</th>\n",
       "      <th>author</th>\n",
       "      <th>text</th>\n",
       "      <th>label</th>\n",
       "    </tr>\n",
       "  </thead>\n",
       "  <tbody>\n",
       "    <tr>\n",
       "      <th>0</th>\n",
       "      <td>0</td>\n",
       "      <td>House Dem Aide: We Didn’t Even See Comey’s Let...</td>\n",
       "      <td>Darrell Lucus</td>\n",
       "      <td>House Dem Aide: We Didn’t Even See Comey’s Let...</td>\n",
       "      <td>1</td>\n",
       "    </tr>\n",
       "    <tr>\n",
       "      <th>1</th>\n",
       "      <td>1</td>\n",
       "      <td>FLYNN: Hillary Clinton, Big Woman on Campus - ...</td>\n",
       "      <td>Daniel J. Flynn</td>\n",
       "      <td>Ever get the feeling your life circles the rou...</td>\n",
       "      <td>0</td>\n",
       "    </tr>\n",
       "    <tr>\n",
       "      <th>2</th>\n",
       "      <td>2</td>\n",
       "      <td>Why the Truth Might Get You Fired</td>\n",
       "      <td>Consortiumnews.com</td>\n",
       "      <td>Why the Truth Might Get You Fired October 29, ...</td>\n",
       "      <td>1</td>\n",
       "    </tr>\n",
       "    <tr>\n",
       "      <th>3</th>\n",
       "      <td>3</td>\n",
       "      <td>15 Civilians Killed In Single US Airstrike Hav...</td>\n",
       "      <td>Jessica Purkiss</td>\n",
       "      <td>Videos 15 Civilians Killed In Single US Airstr...</td>\n",
       "      <td>1</td>\n",
       "    </tr>\n",
       "    <tr>\n",
       "      <th>4</th>\n",
       "      <td>4</td>\n",
       "      <td>Iranian woman jailed for fictional unpublished...</td>\n",
       "      <td>Howard Portnoy</td>\n",
       "      <td>Print \\nAn Iranian woman has been sentenced to...</td>\n",
       "      <td>1</td>\n",
       "    </tr>\n",
       "    <tr>\n",
       "      <th>...</th>\n",
       "      <td>...</td>\n",
       "      <td>...</td>\n",
       "      <td>...</td>\n",
       "      <td>...</td>\n",
       "      <td>...</td>\n",
       "    </tr>\n",
       "    <tr>\n",
       "      <th>20795</th>\n",
       "      <td>20795</td>\n",
       "      <td>Rapper T.I.: Trump a ’Poster Child For White S...</td>\n",
       "      <td>Jerome Hudson</td>\n",
       "      <td>Rapper T. I. unloaded on black celebrities who...</td>\n",
       "      <td>0</td>\n",
       "    </tr>\n",
       "    <tr>\n",
       "      <th>20796</th>\n",
       "      <td>20796</td>\n",
       "      <td>N.F.L. Playoffs: Schedule, Matchups and Odds -...</td>\n",
       "      <td>Benjamin Hoffman</td>\n",
       "      <td>When the Green Bay Packers lost to the Washing...</td>\n",
       "      <td>0</td>\n",
       "    </tr>\n",
       "    <tr>\n",
       "      <th>20797</th>\n",
       "      <td>20797</td>\n",
       "      <td>Macy’s Is Said to Receive Takeover Approach by...</td>\n",
       "      <td>Michael J. de la Merced and Rachel Abrams</td>\n",
       "      <td>The Macy’s of today grew from the union of sev...</td>\n",
       "      <td>0</td>\n",
       "    </tr>\n",
       "    <tr>\n",
       "      <th>20798</th>\n",
       "      <td>20798</td>\n",
       "      <td>NATO, Russia To Hold Parallel Exercises In Bal...</td>\n",
       "      <td>Alex Ansary</td>\n",
       "      <td>NATO, Russia To Hold Parallel Exercises In Bal...</td>\n",
       "      <td>1</td>\n",
       "    </tr>\n",
       "    <tr>\n",
       "      <th>20799</th>\n",
       "      <td>20799</td>\n",
       "      <td>What Keeps the F-35 Alive</td>\n",
       "      <td>David Swanson</td>\n",
       "      <td>David Swanson is an author, activist, journa...</td>\n",
       "      <td>1</td>\n",
       "    </tr>\n",
       "  </tbody>\n",
       "</table>\n",
       "<p>20800 rows × 5 columns</p>\n",
       "</div>"
      ],
      "text/plain": [
       "          id                                              title  \\\n",
       "0          0  House Dem Aide: We Didn’t Even See Comey’s Let...   \n",
       "1          1  FLYNN: Hillary Clinton, Big Woman on Campus - ...   \n",
       "2          2                  Why the Truth Might Get You Fired   \n",
       "3          3  15 Civilians Killed In Single US Airstrike Hav...   \n",
       "4          4  Iranian woman jailed for fictional unpublished...   \n",
       "...      ...                                                ...   \n",
       "20795  20795  Rapper T.I.: Trump a ’Poster Child For White S...   \n",
       "20796  20796  N.F.L. Playoffs: Schedule, Matchups and Odds -...   \n",
       "20797  20797  Macy’s Is Said to Receive Takeover Approach by...   \n",
       "20798  20798  NATO, Russia To Hold Parallel Exercises In Bal...   \n",
       "20799  20799                          What Keeps the F-35 Alive   \n",
       "\n",
       "                                          author  \\\n",
       "0                                  Darrell Lucus   \n",
       "1                                Daniel J. Flynn   \n",
       "2                             Consortiumnews.com   \n",
       "3                                Jessica Purkiss   \n",
       "4                                 Howard Portnoy   \n",
       "...                                          ...   \n",
       "20795                              Jerome Hudson   \n",
       "20796                           Benjamin Hoffman   \n",
       "20797  Michael J. de la Merced and Rachel Abrams   \n",
       "20798                                Alex Ansary   \n",
       "20799                              David Swanson   \n",
       "\n",
       "                                                    text  label  \n",
       "0      House Dem Aide: We Didn’t Even See Comey’s Let...      1  \n",
       "1      Ever get the feeling your life circles the rou...      0  \n",
       "2      Why the Truth Might Get You Fired October 29, ...      1  \n",
       "3      Videos 15 Civilians Killed In Single US Airstr...      1  \n",
       "4      Print \\nAn Iranian woman has been sentenced to...      1  \n",
       "...                                                  ...    ...  \n",
       "20795  Rapper T. I. unloaded on black celebrities who...      0  \n",
       "20796  When the Green Bay Packers lost to the Washing...      0  \n",
       "20797  The Macy’s of today grew from the union of sev...      0  \n",
       "20798  NATO, Russia To Hold Parallel Exercises In Bal...      1  \n",
       "20799    David Swanson is an author, activist, journa...      1  \n",
       "\n",
       "[20800 rows x 5 columns]"
      ]
     },
     "execution_count": 5,
     "metadata": {},
     "output_type": "execute_result"
    }
   ],
   "source": [
    "fake_news_data"
   ]
  },
  {
   "cell_type": "code",
   "execution_count": 6,
   "id": "614ad11c",
   "metadata": {
    "execution": {
     "iopub.execute_input": "2024-06-30T14:08:19.290259Z",
     "iopub.status.busy": "2024-06-30T14:08:19.289346Z",
     "iopub.status.idle": "2024-06-30T14:08:19.317202Z",
     "shell.execute_reply": "2024-06-30T14:08:19.315976Z"
    },
    "papermill": {
     "duration": 0.03838,
     "end_time": "2024-06-30T14:08:19.319631",
     "exception": false,
     "start_time": "2024-06-30T14:08:19.281251",
     "status": "completed"
    },
    "tags": []
   },
   "outputs": [
    {
     "name": "stdout",
     "output_type": "stream",
     "text": [
      "The size of Dataframe is:  (20800, 5) \n",
      "\n",
      "The Column Name, Record Count and Data Types are as follows: \n",
      "\n",
      "<class 'pandas.core.frame.DataFrame'>\n",
      "RangeIndex: 20800 entries, 0 to 20799\n",
      "Data columns (total 5 columns):\n",
      " #   Column  Non-Null Count  Dtype \n",
      "---  ------  --------------  ----- \n",
      " 0   id      20800 non-null  int64 \n",
      " 1   title   20242 non-null  object\n",
      " 2   author  18843 non-null  object\n",
      " 3   text    20761 non-null  object\n",
      " 4   label   20800 non-null  int64 \n",
      "dtypes: int64(2), object(3)\n",
      "memory usage: 812.6+ KB\n"
     ]
    }
   ],
   "source": [
    "print('The size of Dataframe is: ', fake_news_data.shape,\"\\n\")\n",
    "print('The Column Name, Record Count and Data Types are as follows: \\n')\n",
    "fake_news_data.info()"
   ]
  },
  {
   "cell_type": "code",
   "execution_count": 7,
   "id": "8e6dc404",
   "metadata": {
    "execution": {
     "iopub.execute_input": "2024-06-30T14:08:19.334619Z",
     "iopub.status.busy": "2024-06-30T14:08:19.334238Z",
     "iopub.status.idle": "2024-06-30T14:08:19.341367Z",
     "shell.execute_reply": "2024-06-30T14:08:19.340311Z"
    },
    "papermill": {
     "duration": 0.017422,
     "end_time": "2024-06-30T14:08:19.343718",
     "exception": false,
     "start_time": "2024-06-30T14:08:19.326296",
     "status": "completed"
    },
    "tags": []
   },
   "outputs": [
    {
     "name": "stdout",
     "output_type": "stream",
     "text": [
      "We have 2 numerical features : ['id', 'label']\n",
      "\n",
      "We have 3 categorical features : ['title', 'author', 'text']\n"
     ]
    }
   ],
   "source": [
    "# Defining numerical & categorical columns\n",
    "numeric_features = [feature for feature in fake_news_data.columns if fake_news_data[feature].dtype != 'O']\n",
    "categorical_features = [feature for feature in fake_news_data.columns if fake_news_data[feature].dtype == 'O']\n",
    "\n",
    "# print columns\n",
    "print('We have {} numerical features : {}'.format(len(numeric_features), numeric_features))\n",
    "print('\\nWe have {} categorical features : {}'.format(len(categorical_features), categorical_features))"
   ]
  },
  {
   "cell_type": "code",
   "execution_count": 8,
   "id": "275505ad",
   "metadata": {
    "execution": {
     "iopub.execute_input": "2024-06-30T14:08:19.359473Z",
     "iopub.status.busy": "2024-06-30T14:08:19.359098Z",
     "iopub.status.idle": "2024-06-30T14:08:19.395959Z",
     "shell.execute_reply": "2024-06-30T14:08:19.394977Z"
    },
    "papermill": {
     "duration": 0.047759,
     "end_time": "2024-06-30T14:08:19.398433",
     "exception": false,
     "start_time": "2024-06-30T14:08:19.350674",
     "status": "completed"
    },
    "tags": []
   },
   "outputs": [
    {
     "name": "stdout",
     "output_type": "stream",
     "text": [
      "Missing Value Presence in different columns of DataFrame are as follows : \n"
     ]
    },
    {
     "data": {
      "text/html": [
       "<div>\n",
       "<style scoped>\n",
       "    .dataframe tbody tr th:only-of-type {\n",
       "        vertical-align: middle;\n",
       "    }\n",
       "\n",
       "    .dataframe tbody tr th {\n",
       "        vertical-align: top;\n",
       "    }\n",
       "\n",
       "    .dataframe thead th {\n",
       "        text-align: right;\n",
       "    }\n",
       "</style>\n",
       "<table border=\"1\" class=\"dataframe\">\n",
       "  <thead>\n",
       "    <tr style=\"text-align: right;\">\n",
       "      <th></th>\n",
       "      <th>Total</th>\n",
       "      <th>Percent</th>\n",
       "    </tr>\n",
       "  </thead>\n",
       "  <tbody>\n",
       "    <tr>\n",
       "      <th>author</th>\n",
       "      <td>1957</td>\n",
       "      <td>9.408654</td>\n",
       "    </tr>\n",
       "    <tr>\n",
       "      <th>title</th>\n",
       "      <td>558</td>\n",
       "      <td>2.682692</td>\n",
       "    </tr>\n",
       "    <tr>\n",
       "      <th>text</th>\n",
       "      <td>39</td>\n",
       "      <td>0.187500</td>\n",
       "    </tr>\n",
       "    <tr>\n",
       "      <th>id</th>\n",
       "      <td>0</td>\n",
       "      <td>0.000000</td>\n",
       "    </tr>\n",
       "    <tr>\n",
       "      <th>label</th>\n",
       "      <td>0</td>\n",
       "      <td>0.000000</td>\n",
       "    </tr>\n",
       "  </tbody>\n",
       "</table>\n",
       "</div>"
      ],
      "text/plain": [
       "        Total   Percent\n",
       "author   1957  9.408654\n",
       "title     558  2.682692\n",
       "text       39  0.187500\n",
       "id          0  0.000000\n",
       "label       0  0.000000"
      ]
     },
     "execution_count": 8,
     "metadata": {},
     "output_type": "execute_result"
    }
   ],
   "source": [
    "print('Missing Value Presence in different columns of DataFrame are as follows : ')\n",
    "total=fake_news_data.isnull().sum().sort_values(ascending=False)\n",
    "percent=(fake_news_data.isnull().sum()/fake_news_data.isnull().count()*100).sort_values(ascending=False)\n",
    "pd.concat([total, percent], axis=1, keys=['Total', 'Percent'])"
   ]
  },
  {
   "cell_type": "code",
   "execution_count": 9,
   "id": "e2baff11",
   "metadata": {
    "execution": {
     "iopub.execute_input": "2024-06-30T14:08:19.414456Z",
     "iopub.status.busy": "2024-06-30T14:08:19.414070Z",
     "iopub.status.idle": "2024-06-30T14:08:19.424097Z",
     "shell.execute_reply": "2024-06-30T14:08:19.423067Z"
    },
    "papermill": {
     "duration": 0.020615,
     "end_time": "2024-06-30T14:08:19.426337",
     "exception": false,
     "start_time": "2024-06-30T14:08:19.405722",
     "status": "completed"
    },
    "tags": []
   },
   "outputs": [
    {
     "data": {
      "text/plain": [
       "label\n",
       "1    10413\n",
       "0    10387\n",
       "Name: count, dtype: int64"
      ]
     },
     "execution_count": 9,
     "metadata": {},
     "output_type": "execute_result"
    }
   ],
   "source": [
    "fake_news_data['label'].value_counts()\n"
   ]
  },
  {
   "cell_type": "code",
   "execution_count": 10,
   "id": "24c5e0ee",
   "metadata": {
    "execution": {
     "iopub.execute_input": "2024-06-30T14:08:19.442650Z",
     "iopub.status.busy": "2024-06-30T14:08:19.442251Z",
     "iopub.status.idle": "2024-06-30T14:08:19.469935Z",
     "shell.execute_reply": "2024-06-30T14:08:19.468995Z"
    },
    "papermill": {
     "duration": 0.038711,
     "end_time": "2024-06-30T14:08:19.472397",
     "exception": false,
     "start_time": "2024-06-30T14:08:19.433686",
     "status": "completed"
    },
    "tags": []
   },
   "outputs": [],
   "source": [
    "#Data Cleaning and Preprocessing\n",
    "fake_news_data = fake_news_data.fillna('')\n",
    "fake_news_data['content'] = fake_news_data['author']+' '+fake_news_data['title']"
   ]
  },
  {
   "cell_type": "code",
   "execution_count": 11,
   "id": "f0d5df8e",
   "metadata": {
    "execution": {
     "iopub.execute_input": "2024-06-30T14:08:19.488462Z",
     "iopub.status.busy": "2024-06-30T14:08:19.488108Z",
     "iopub.status.idle": "2024-06-30T14:08:19.500451Z",
     "shell.execute_reply": "2024-06-30T14:08:19.499319Z"
    },
    "papermill": {
     "duration": 0.022949,
     "end_time": "2024-06-30T14:08:19.502614",
     "exception": false,
     "start_time": "2024-06-30T14:08:19.479665",
     "status": "completed"
    },
    "tags": []
   },
   "outputs": [
    {
     "data": {
      "text/html": [
       "<div>\n",
       "<style scoped>\n",
       "    .dataframe tbody tr th:only-of-type {\n",
       "        vertical-align: middle;\n",
       "    }\n",
       "\n",
       "    .dataframe tbody tr th {\n",
       "        vertical-align: top;\n",
       "    }\n",
       "\n",
       "    .dataframe thead th {\n",
       "        text-align: right;\n",
       "    }\n",
       "</style>\n",
       "<table border=\"1\" class=\"dataframe\">\n",
       "  <thead>\n",
       "    <tr style=\"text-align: right;\">\n",
       "      <th></th>\n",
       "      <th>id</th>\n",
       "      <th>title</th>\n",
       "      <th>author</th>\n",
       "      <th>text</th>\n",
       "      <th>label</th>\n",
       "      <th>content</th>\n",
       "    </tr>\n",
       "  </thead>\n",
       "  <tbody>\n",
       "    <tr>\n",
       "      <th>0</th>\n",
       "      <td>0</td>\n",
       "      <td>House Dem Aide: We Didn’t Even See Comey’s Let...</td>\n",
       "      <td>Darrell Lucus</td>\n",
       "      <td>House Dem Aide: We Didn’t Even See Comey’s Let...</td>\n",
       "      <td>1</td>\n",
       "      <td>Darrell Lucus House Dem Aide: We Didn’t Even S...</td>\n",
       "    </tr>\n",
       "    <tr>\n",
       "      <th>1</th>\n",
       "      <td>1</td>\n",
       "      <td>FLYNN: Hillary Clinton, Big Woman on Campus - ...</td>\n",
       "      <td>Daniel J. Flynn</td>\n",
       "      <td>Ever get the feeling your life circles the rou...</td>\n",
       "      <td>0</td>\n",
       "      <td>Daniel J. Flynn FLYNN: Hillary Clinton, Big Wo...</td>\n",
       "    </tr>\n",
       "    <tr>\n",
       "      <th>2</th>\n",
       "      <td>2</td>\n",
       "      <td>Why the Truth Might Get You Fired</td>\n",
       "      <td>Consortiumnews.com</td>\n",
       "      <td>Why the Truth Might Get You Fired October 29, ...</td>\n",
       "      <td>1</td>\n",
       "      <td>Consortiumnews.com Why the Truth Might Get You...</td>\n",
       "    </tr>\n",
       "    <tr>\n",
       "      <th>3</th>\n",
       "      <td>3</td>\n",
       "      <td>15 Civilians Killed In Single US Airstrike Hav...</td>\n",
       "      <td>Jessica Purkiss</td>\n",
       "      <td>Videos 15 Civilians Killed In Single US Airstr...</td>\n",
       "      <td>1</td>\n",
       "      <td>Jessica Purkiss 15 Civilians Killed In Single ...</td>\n",
       "    </tr>\n",
       "    <tr>\n",
       "      <th>4</th>\n",
       "      <td>4</td>\n",
       "      <td>Iranian woman jailed for fictional unpublished...</td>\n",
       "      <td>Howard Portnoy</td>\n",
       "      <td>Print \\nAn Iranian woman has been sentenced to...</td>\n",
       "      <td>1</td>\n",
       "      <td>Howard Portnoy Iranian woman jailed for fictio...</td>\n",
       "    </tr>\n",
       "  </tbody>\n",
       "</table>\n",
       "</div>"
      ],
      "text/plain": [
       "   id                                              title              author  \\\n",
       "0   0  House Dem Aide: We Didn’t Even See Comey’s Let...       Darrell Lucus   \n",
       "1   1  FLYNN: Hillary Clinton, Big Woman on Campus - ...     Daniel J. Flynn   \n",
       "2   2                  Why the Truth Might Get You Fired  Consortiumnews.com   \n",
       "3   3  15 Civilians Killed In Single US Airstrike Hav...     Jessica Purkiss   \n",
       "4   4  Iranian woman jailed for fictional unpublished...      Howard Portnoy   \n",
       "\n",
       "                                                text  label  \\\n",
       "0  House Dem Aide: We Didn’t Even See Comey’s Let...      1   \n",
       "1  Ever get the feeling your life circles the rou...      0   \n",
       "2  Why the Truth Might Get You Fired October 29, ...      1   \n",
       "3  Videos 15 Civilians Killed In Single US Airstr...      1   \n",
       "4  Print \\nAn Iranian woman has been sentenced to...      1   \n",
       "\n",
       "                                             content  \n",
       "0  Darrell Lucus House Dem Aide: We Didn’t Even S...  \n",
       "1  Daniel J. Flynn FLYNN: Hillary Clinton, Big Wo...  \n",
       "2  Consortiumnews.com Why the Truth Might Get You...  \n",
       "3  Jessica Purkiss 15 Civilians Killed In Single ...  \n",
       "4  Howard Portnoy Iranian woman jailed for fictio...  "
      ]
     },
     "execution_count": 11,
     "metadata": {},
     "output_type": "execute_result"
    }
   ],
   "source": [
    "fake_news_data.head()\n"
   ]
  },
  {
   "cell_type": "code",
   "execution_count": 12,
   "id": "0a273054",
   "metadata": {
    "execution": {
     "iopub.execute_input": "2024-06-30T14:08:19.520095Z",
     "iopub.status.busy": "2024-06-30T14:08:19.518973Z",
     "iopub.status.idle": "2024-06-30T14:08:19.560089Z",
     "shell.execute_reply": "2024-06-30T14:08:19.559062Z"
    },
    "papermill": {
     "duration": 0.052227,
     "end_time": "2024-06-30T14:08:19.562283",
     "exception": false,
     "start_time": "2024-06-30T14:08:19.510056",
     "status": "completed"
    },
    "tags": []
   },
   "outputs": [
    {
     "name": "stdout",
     "output_type": "stream",
     "text": [
      "Missing Value Presence in different columns of DataFrame are as follows : \n"
     ]
    },
    {
     "data": {
      "text/html": [
       "<div>\n",
       "<style scoped>\n",
       "    .dataframe tbody tr th:only-of-type {\n",
       "        vertical-align: middle;\n",
       "    }\n",
       "\n",
       "    .dataframe tbody tr th {\n",
       "        vertical-align: top;\n",
       "    }\n",
       "\n",
       "    .dataframe thead th {\n",
       "        text-align: right;\n",
       "    }\n",
       "</style>\n",
       "<table border=\"1\" class=\"dataframe\">\n",
       "  <thead>\n",
       "    <tr style=\"text-align: right;\">\n",
       "      <th></th>\n",
       "      <th>Total</th>\n",
       "      <th>Percent</th>\n",
       "    </tr>\n",
       "  </thead>\n",
       "  <tbody>\n",
       "    <tr>\n",
       "      <th>id</th>\n",
       "      <td>0</td>\n",
       "      <td>0.0</td>\n",
       "    </tr>\n",
       "    <tr>\n",
       "      <th>title</th>\n",
       "      <td>0</td>\n",
       "      <td>0.0</td>\n",
       "    </tr>\n",
       "    <tr>\n",
       "      <th>author</th>\n",
       "      <td>0</td>\n",
       "      <td>0.0</td>\n",
       "    </tr>\n",
       "    <tr>\n",
       "      <th>text</th>\n",
       "      <td>0</td>\n",
       "      <td>0.0</td>\n",
       "    </tr>\n",
       "    <tr>\n",
       "      <th>label</th>\n",
       "      <td>0</td>\n",
       "      <td>0.0</td>\n",
       "    </tr>\n",
       "    <tr>\n",
       "      <th>content</th>\n",
       "      <td>0</td>\n",
       "      <td>0.0</td>\n",
       "    </tr>\n",
       "  </tbody>\n",
       "</table>\n",
       "</div>"
      ],
      "text/plain": [
       "         Total  Percent\n",
       "id           0      0.0\n",
       "title        0      0.0\n",
       "author       0      0.0\n",
       "text         0      0.0\n",
       "label        0      0.0\n",
       "content      0      0.0"
      ]
     },
     "execution_count": 12,
     "metadata": {},
     "output_type": "execute_result"
    }
   ],
   "source": [
    "print('Missing Value Presence in different columns of DataFrame are as follows : ')\n",
    "total=fake_news_data.isnull().sum().sort_values(ascending=False)\n",
    "percent=(fake_news_data.isnull().sum()/fake_news_data.isnull().count()*100).sort_values(ascending=False)\n",
    "pd.concat([total, percent], axis=1, keys=['Total', 'Percent'])\n"
   ]
  },
  {
   "cell_type": "code",
   "execution_count": 13,
   "id": "4124ed3d",
   "metadata": {
    "execution": {
     "iopub.execute_input": "2024-06-30T14:08:19.579675Z",
     "iopub.status.busy": "2024-06-30T14:08:19.578891Z",
     "iopub.status.idle": "2024-06-30T14:08:19.585080Z",
     "shell.execute_reply": "2024-06-30T14:08:19.583915Z"
    },
    "papermill": {
     "duration": 0.017411,
     "end_time": "2024-06-30T14:08:19.587373",
     "exception": false,
     "start_time": "2024-06-30T14:08:19.569962",
     "status": "completed"
    },
    "tags": []
   },
   "outputs": [],
   "source": [
    "#Stemming\n",
    "porter_stemmer = PorterStemmer()\n",
    "def stemming(content):\n",
    "    stemmed_content = re.sub('[^a-zA-Z]',' ',content)\n",
    "    stemmed_content = stemmed_content.lower()\n",
    "    stemmed_content = stemmed_content.split()\n",
    "    stemmed_content = [porter_stemmer.stem(word) for word in stemmed_content if not word in stopwords.words('english')]\n",
    "    stemmed_content = ' '.join(stemmed_content)\n",
    "    return stemmed_content\n"
   ]
  },
  {
   "cell_type": "code",
   "execution_count": 14,
   "id": "b905298f",
   "metadata": {
    "execution": {
     "iopub.execute_input": "2024-06-30T14:08:19.605497Z",
     "iopub.status.busy": "2024-06-30T14:08:19.605085Z",
     "iopub.status.idle": "2024-06-30T14:09:02.699432Z",
     "shell.execute_reply": "2024-06-30T14:09:02.698144Z"
    },
    "papermill": {
     "duration": 43.114482,
     "end_time": "2024-06-30T14:09:02.709797",
     "exception": false,
     "start_time": "2024-06-30T14:08:19.595315",
     "status": "completed"
    },
    "tags": []
   },
   "outputs": [
    {
     "data": {
      "text/plain": [
       "0        darrel lucu hous dem aid even see comey letter...\n",
       "1        daniel j flynn flynn hillari clinton big woman...\n",
       "2                   consortiumnew com truth might get fire\n",
       "3        jessica purkiss civilian kill singl us airstri...\n",
       "4        howard portnoy iranian woman jail fiction unpu...\n",
       "                               ...                        \n",
       "20795    jerom hudson rapper trump poster child white s...\n",
       "20796    benjamin hoffman n f l playoff schedul matchup...\n",
       "20797    michael j de la merc rachel abram maci said re...\n",
       "20798    alex ansari nato russia hold parallel exercis ...\n",
       "20799                            david swanson keep f aliv\n",
       "Name: content, Length: 20800, dtype: object"
      ]
     },
     "execution_count": 14,
     "metadata": {},
     "output_type": "execute_result"
    }
   ],
   "source": [
    "fake_news_data['content'] = fake_news_data['content'].apply(stemming)\n",
    "fake_news_data['content']"
   ]
  },
  {
   "cell_type": "code",
   "execution_count": 15,
   "id": "0d6cc996",
   "metadata": {
    "execution": {
     "iopub.execute_input": "2024-06-30T14:09:02.727213Z",
     "iopub.status.busy": "2024-06-30T14:09:02.726827Z",
     "iopub.status.idle": "2024-06-30T14:09:02.732313Z",
     "shell.execute_reply": "2024-06-30T14:09:02.731258Z"
    },
    "papermill": {
     "duration": 0.016942,
     "end_time": "2024-06-30T14:09:02.734557",
     "exception": false,
     "start_time": "2024-06-30T14:09:02.717615",
     "status": "completed"
    },
    "tags": []
   },
   "outputs": [],
   "source": [
    "# separating the data and labels\n",
    "X = fake_news_data['content'] # Feature matrix\n",
    "y = fake_news_data['label'] # Target variable"
   ]
  },
  {
   "cell_type": "code",
   "execution_count": 16,
   "id": "de9f8a47",
   "metadata": {
    "execution": {
     "iopub.execute_input": "2024-06-30T14:09:02.751895Z",
     "iopub.status.busy": "2024-06-30T14:09:02.751446Z",
     "iopub.status.idle": "2024-06-30T14:09:02.760045Z",
     "shell.execute_reply": "2024-06-30T14:09:02.758874Z"
    },
    "papermill": {
     "duration": 0.020145,
     "end_time": "2024-06-30T14:09:02.762466",
     "exception": false,
     "start_time": "2024-06-30T14:09:02.742321",
     "status": "completed"
    },
    "tags": []
   },
   "outputs": [
    {
     "data": {
      "text/plain": [
       "0        darrel lucu hous dem aid even see comey letter...\n",
       "1        daniel j flynn flynn hillari clinton big woman...\n",
       "2                   consortiumnew com truth might get fire\n",
       "3        jessica purkiss civilian kill singl us airstri...\n",
       "4        howard portnoy iranian woman jail fiction unpu...\n",
       "                               ...                        \n",
       "20795    jerom hudson rapper trump poster child white s...\n",
       "20796    benjamin hoffman n f l playoff schedul matchup...\n",
       "20797    michael j de la merc rachel abram maci said re...\n",
       "20798    alex ansari nato russia hold parallel exercis ...\n",
       "20799                            david swanson keep f aliv\n",
       "Name: content, Length: 20800, dtype: object"
      ]
     },
     "execution_count": 16,
     "metadata": {},
     "output_type": "execute_result"
    }
   ],
   "source": [
    "X"
   ]
  },
  {
   "cell_type": "code",
   "execution_count": 17,
   "id": "2ef72f0d",
   "metadata": {
    "execution": {
     "iopub.execute_input": "2024-06-30T14:09:02.780445Z",
     "iopub.status.busy": "2024-06-30T14:09:02.779767Z",
     "iopub.status.idle": "2024-06-30T14:09:02.787679Z",
     "shell.execute_reply": "2024-06-30T14:09:02.786613Z"
    },
    "papermill": {
     "duration": 0.019547,
     "end_time": "2024-06-30T14:09:02.789947",
     "exception": false,
     "start_time": "2024-06-30T14:09:02.770400",
     "status": "completed"
    },
    "tags": []
   },
   "outputs": [
    {
     "data": {
      "text/plain": [
       "0        1\n",
       "1        0\n",
       "2        1\n",
       "3        1\n",
       "4        1\n",
       "        ..\n",
       "20795    0\n",
       "20796    0\n",
       "20797    0\n",
       "20798    1\n",
       "20799    1\n",
       "Name: label, Length: 20800, dtype: int64"
      ]
     },
     "execution_count": 17,
     "metadata": {},
     "output_type": "execute_result"
    }
   ],
   "source": [
    "y"
   ]
  },
  {
   "cell_type": "code",
   "execution_count": 18,
   "id": "f1ca4cd4",
   "metadata": {
    "execution": {
     "iopub.execute_input": "2024-06-30T14:09:02.808303Z",
     "iopub.status.busy": "2024-06-30T14:09:02.807633Z",
     "iopub.status.idle": "2024-06-30T14:09:03.350949Z",
     "shell.execute_reply": "2024-06-30T14:09:03.349808Z"
    },
    "papermill": {
     "duration": 0.555519,
     "end_time": "2024-06-30T14:09:03.353586",
     "exception": false,
     "start_time": "2024-06-30T14:09:02.798067",
     "status": "completed"
    },
    "tags": []
   },
   "outputs": [],
   "source": [
    "vectorizer = TfidfVectorizer()\n",
    "vectorizer.fit(X)\n",
    "\n",
    "X = vectorizer.transform(X)\n"
   ]
  },
  {
   "cell_type": "code",
   "execution_count": 19,
   "id": "7770331e",
   "metadata": {
    "execution": {
     "iopub.execute_input": "2024-06-30T14:09:03.371593Z",
     "iopub.status.busy": "2024-06-30T14:09:03.371195Z",
     "iopub.status.idle": "2024-06-30T14:09:03.377604Z",
     "shell.execute_reply": "2024-06-30T14:09:03.376601Z"
    },
    "papermill": {
     "duration": 0.018116,
     "end_time": "2024-06-30T14:09:03.379925",
     "exception": false,
     "start_time": "2024-06-30T14:09:03.361809",
     "status": "completed"
    },
    "tags": []
   },
   "outputs": [
    {
     "data": {
      "text/plain": [
       "<20800x17128 sparse matrix of type '<class 'numpy.float64'>'\n",
       "\twith 210687 stored elements in Compressed Sparse Row format>"
      ]
     },
     "execution_count": 19,
     "metadata": {},
     "output_type": "execute_result"
    }
   ],
   "source": [
    "X"
   ]
  },
  {
   "cell_type": "code",
   "execution_count": 20,
   "id": "ff90f561",
   "metadata": {
    "execution": {
     "iopub.execute_input": "2024-06-30T14:09:03.398326Z",
     "iopub.status.busy": "2024-06-30T14:09:03.397429Z",
     "iopub.status.idle": "2024-06-30T14:09:03.406073Z",
     "shell.execute_reply": "2024-06-30T14:09:03.404816Z"
    },
    "papermill": {
     "duration": 0.020184,
     "end_time": "2024-06-30T14:09:03.408231",
     "exception": false,
     "start_time": "2024-06-30T14:09:03.388047",
     "status": "completed"
    },
    "tags": []
   },
   "outputs": [
    {
     "name": "stdout",
     "output_type": "stream",
     "text": [
      "  (0, 15686)\t0.28485063562728646\n",
      "  (0, 13473)\t0.2565896679337957\n",
      "  (0, 8909)\t0.3635963806326075\n",
      "  (0, 8630)\t0.29212514087043684\n",
      "  (0, 7692)\t0.24785219520671603\n",
      "  (0, 7005)\t0.21874169089359144\n",
      "  (0, 4973)\t0.233316966909351\n",
      "  (0, 3792)\t0.2705332480845492\n",
      "  (0, 3600)\t0.3598939188262559\n",
      "  (0, 2959)\t0.2468450128533713\n",
      "  (0, 2483)\t0.3676519686797209\n",
      "  (0, 267)\t0.27010124977708766\n",
      "  (1, 16799)\t0.30071745655510157\n",
      "  (1, 6816)\t0.1904660198296849\n",
      "  (1, 5503)\t0.7143299355715573\n",
      "  (1, 3568)\t0.26373768806048464\n",
      "  (1, 2813)\t0.19094574062359204\n",
      "  (1, 2223)\t0.3827320386859759\n",
      "  (1, 1894)\t0.15521974226349364\n",
      "  (1, 1497)\t0.2939891562094648\n",
      "  (2, 15611)\t0.41544962664721613\n",
      "  (2, 9620)\t0.49351492943649944\n",
      "  (2, 5968)\t0.3474613386728292\n",
      "  (2, 5389)\t0.3866530551182615\n",
      "  (2, 3103)\t0.46097489583229645\n",
      "  :\t:\n",
      "  (20797, 13122)\t0.2482526352197606\n",
      "  (20797, 12344)\t0.27263457663336677\n",
      "  (20797, 12138)\t0.24778257724396507\n",
      "  (20797, 10306)\t0.08038079000566466\n",
      "  (20797, 9588)\t0.174553480255222\n",
      "  (20797, 9518)\t0.2954204003420313\n",
      "  (20797, 8988)\t0.36160868928090795\n",
      "  (20797, 8364)\t0.22322585870464118\n",
      "  (20797, 7042)\t0.21799048897828688\n",
      "  (20797, 3643)\t0.21155500613623743\n",
      "  (20797, 1287)\t0.33538056804139865\n",
      "  (20797, 699)\t0.30685846079762347\n",
      "  (20797, 43)\t0.29710241860700626\n",
      "  (20798, 13046)\t0.22363267488270608\n",
      "  (20798, 11052)\t0.4460515589182236\n",
      "  (20798, 10177)\t0.3192496370187028\n",
      "  (20798, 6889)\t0.32496285694299426\n",
      "  (20798, 5032)\t0.4083701450239529\n",
      "  (20798, 1125)\t0.4460515589182236\n",
      "  (20798, 588)\t0.3112141524638974\n",
      "  (20798, 350)\t0.28446937819072576\n",
      "  (20799, 14852)\t0.5677577267055112\n",
      "  (20799, 8036)\t0.45983893273780013\n",
      "  (20799, 3623)\t0.37927626273066584\n",
      "  (20799, 377)\t0.5677577267055112\n"
     ]
    }
   ],
   "source": [
    "print(X)"
   ]
  },
  {
   "cell_type": "code",
   "execution_count": 21,
   "id": "65033550",
   "metadata": {
    "execution": {
     "iopub.execute_input": "2024-06-30T14:09:03.426172Z",
     "iopub.status.busy": "2024-06-30T14:09:03.425797Z",
     "iopub.status.idle": "2024-06-30T14:09:03.442554Z",
     "shell.execute_reply": "2024-06-30T14:09:03.441680Z"
    },
    "papermill": {
     "duration": 0.028684,
     "end_time": "2024-06-30T14:09:03.445111",
     "exception": false,
     "start_time": "2024-06-30T14:09:03.416427",
     "status": "completed"
    },
    "tags": []
   },
   "outputs": [],
   "source": [
    "from sklearn.model_selection import train_test_split\n",
    "\n",
    "X_train, X_test, y_train, y_test = train_test_split(X, y, test_size=0.2, stratify=y, random_state=45)\n"
   ]
  },
  {
   "cell_type": "code",
   "execution_count": 22,
   "id": "ee16287d",
   "metadata": {
    "execution": {
     "iopub.execute_input": "2024-06-30T14:09:03.464291Z",
     "iopub.status.busy": "2024-06-30T14:09:03.463326Z",
     "iopub.status.idle": "2024-06-30T14:09:03.469963Z",
     "shell.execute_reply": "2024-06-30T14:09:03.468715Z"
    },
    "papermill": {
     "duration": 0.018859,
     "end_time": "2024-06-30T14:09:03.472339",
     "exception": false,
     "start_time": "2024-06-30T14:09:03.453480",
     "status": "completed"
    },
    "tags": []
   },
   "outputs": [
    {
     "name": "stdout",
     "output_type": "stream",
     "text": [
      "For X : \n",
      " (20800, 17128) (16640, 17128) (4160, 17128)\n",
      "\n",
      "\n",
      "\n",
      "For y : \n",
      " (20800,) (16640,) (4160,)\n"
     ]
    }
   ],
   "source": [
    "print(\"For X : \\n\", X.shape, X_train.shape, X_test.shape)\n",
    "print(\"\\n\\n\")\n",
    "print(\"For y : \\n\", y.shape, y_train.shape, y_test.shape)"
   ]
  },
  {
   "cell_type": "code",
   "execution_count": 23,
   "id": "7c35cfc7",
   "metadata": {
    "execution": {
     "iopub.execute_input": "2024-06-30T14:09:03.490914Z",
     "iopub.status.busy": "2024-06-30T14:09:03.490511Z",
     "iopub.status.idle": "2024-06-30T14:11:01.297682Z",
     "shell.execute_reply": "2024-06-30T14:11:01.296622Z"
    },
    "papermill": {
     "duration": 117.819626,
     "end_time": "2024-06-30T14:11:01.300454",
     "exception": false,
     "start_time": "2024-06-30T14:09:03.480828",
     "status": "completed"
    },
    "tags": []
   },
   "outputs": [],
   "source": [
    "#Model Comparison\n",
    "models = [LogisticRegression, SVC, DecisionTreeClassifier, RandomForestClassifier]\n",
    "accuracy_scores = []\n",
    "precision_scores = []\n",
    "recall_scores = []\n",
    "f1_scores = []\n",
    "\n",
    "for model in models:\n",
    "    classifier = model().fit(X_train, y_train)\n",
    "    y_pred = classifier.predict(X_test)\n",
    "    \n",
    "    accuracy_scores.append(accuracy_score(y_test, y_pred))\n",
    "    precision_scores.append(precision_score(y_test, y_pred))\n",
    "    recall_scores.append(recall_score(y_test, y_pred))\n",
    "    f1_scores.append(f1_score(y_test, y_pred))\n"
   ]
  },
  {
   "cell_type": "code",
   "execution_count": 24,
   "id": "ddb2c02f",
   "metadata": {
    "execution": {
     "iopub.execute_input": "2024-06-30T14:11:01.319856Z",
     "iopub.status.busy": "2024-06-30T14:11:01.319443Z",
     "iopub.status.idle": "2024-06-30T14:11:01.334761Z",
     "shell.execute_reply": "2024-06-30T14:11:01.333484Z"
    },
    "papermill": {
     "duration": 0.027657,
     "end_time": "2024-06-30T14:11:01.336964",
     "exception": false,
     "start_time": "2024-06-30T14:11:01.309307",
     "status": "completed"
    },
    "tags": []
   },
   "outputs": [
    {
     "data": {
      "text/html": [
       "<div>\n",
       "<style scoped>\n",
       "    .dataframe tbody tr th:only-of-type {\n",
       "        vertical-align: middle;\n",
       "    }\n",
       "\n",
       "    .dataframe tbody tr th {\n",
       "        vertical-align: top;\n",
       "    }\n",
       "\n",
       "    .dataframe thead th {\n",
       "        text-align: right;\n",
       "    }\n",
       "</style>\n",
       "<table border=\"1\" class=\"dataframe\">\n",
       "  <thead>\n",
       "    <tr style=\"text-align: right;\">\n",
       "      <th></th>\n",
       "      <th>Accuracy</th>\n",
       "      <th>Precision</th>\n",
       "      <th>Recall</th>\n",
       "      <th>F1 Score</th>\n",
       "    </tr>\n",
       "    <tr>\n",
       "      <th>Model</th>\n",
       "      <th></th>\n",
       "      <th></th>\n",
       "      <th></th>\n",
       "      <th></th>\n",
       "    </tr>\n",
       "  </thead>\n",
       "  <tbody>\n",
       "    <tr>\n",
       "      <th>Logistic Regression</th>\n",
       "      <td>0.979808</td>\n",
       "      <td>0.969469</td>\n",
       "      <td>0.990879</td>\n",
       "      <td>0.980057</td>\n",
       "    </tr>\n",
       "    <tr>\n",
       "      <th>SVM</th>\n",
       "      <td>0.990865</td>\n",
       "      <td>0.989000</td>\n",
       "      <td>0.992799</td>\n",
       "      <td>0.990896</td>\n",
       "    </tr>\n",
       "    <tr>\n",
       "      <th>Decision Tree</th>\n",
       "      <td>0.993029</td>\n",
       "      <td>0.992330</td>\n",
       "      <td>0.993759</td>\n",
       "      <td>0.993044</td>\n",
       "    </tr>\n",
       "    <tr>\n",
       "      <th>Random Forest</th>\n",
       "      <td>0.994712</td>\n",
       "      <td>0.994245</td>\n",
       "      <td>0.995199</td>\n",
       "      <td>0.994722</td>\n",
       "    </tr>\n",
       "  </tbody>\n",
       "</table>\n",
       "</div>"
      ],
      "text/plain": [
       "                     Accuracy  Precision    Recall  F1 Score\n",
       "Model                                                       \n",
       "Logistic Regression  0.979808   0.969469  0.990879  0.980057\n",
       "SVM                  0.990865   0.989000  0.992799  0.990896\n",
       "Decision Tree        0.993029   0.992330  0.993759  0.993044\n",
       "Random Forest        0.994712   0.994245  0.995199  0.994722"
      ]
     },
     "execution_count": 24,
     "metadata": {},
     "output_type": "execute_result"
    }
   ],
   "source": [
    "classification_metrics_df = pd.DataFrame({\n",
    "    \"Model\": [\"Logistic Regression\", \"SVM\", \"Decision Tree\", \"Random Forest\"],\n",
    "    \"Accuracy\": accuracy_scores,\n",
    "    \"Precision\": precision_scores,\n",
    "    \"Recall\": recall_scores,\n",
    "    \"F1 Score\": f1_scores\n",
    "})\n",
    "\n",
    "classification_metrics_df.set_index('Model', inplace=True)\n",
    "classification_metrics_df\n"
   ]
  },
  {
   "cell_type": "markdown",
   "id": "47da04e8",
   "metadata": {
    "papermill": {
     "duration": 0.008376,
     "end_time": "2024-06-30T14:11:01.354018",
     "exception": false,
     "start_time": "2024-06-30T14:11:01.345642",
     "status": "completed"
    },
    "tags": []
   },
   "source": [
    "# Inference\n",
    "* All models (Logistic Regression, SVM, Decision Tree, and Random Forest) exhibit excellent performance in classifying fake news with high accuracy, precision, recall, and F1 score. \n",
    "* Among them, **$RandomForest$** stands out as the top performer, providing a balanced approach to identifying fake news.\n"
   ]
  }
 ],
 "metadata": {
  "kaggle": {
   "accelerator": "none",
   "dataSources": [
    {
     "datasetId": 5309411,
     "sourceId": 8824983,
     "sourceType": "datasetVersion"
    }
   ],
   "dockerImageVersionId": 30732,
   "isGpuEnabled": false,
   "isInternetEnabled": true,
   "language": "python",
   "sourceType": "notebook"
  },
  "kernelspec": {
   "display_name": "Python 3",
   "language": "python",
   "name": "python3"
  },
  "language_info": {
   "codemirror_mode": {
    "name": "ipython",
    "version": 3
   },
   "file_extension": ".py",
   "mimetype": "text/x-python",
   "name": "python",
   "nbconvert_exporter": "python",
   "pygments_lexer": "ipython3",
   "version": "3.10.13"
  },
  "papermill": {
   "default_parameters": {},
   "duration": 171.411432,
   "end_time": "2024-06-30T14:11:02.085216",
   "environment_variables": {},
   "exception": null,
   "input_path": "__notebook__.ipynb",
   "output_path": "__notebook__.ipynb",
   "parameters": {},
   "start_time": "2024-06-30T14:08:10.673784",
   "version": "2.5.0"
  }
 },
 "nbformat": 4,
 "nbformat_minor": 5
}
