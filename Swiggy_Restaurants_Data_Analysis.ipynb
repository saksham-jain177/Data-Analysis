{
  "nbformat": 4,
  "nbformat_minor": 0,
  "metadata": {
    "colab": {
      "provenance": [],
      "authorship_tag": "ABX9TyP/1GdG2okQxxDCaWw6YTFY",
      "include_colab_link": true
    },
    "kernelspec": {
      "name": "python3",
      "display_name": "Python 3"
    },
    "language_info": {
      "name": "python"
    }
  },
  "cells": [
    {
      "cell_type": "markdown",
      "metadata": {
        "id": "view-in-github",
        "colab_type": "text"
      },
      "source": [
        "<a href=\"https://colab.research.google.com/github/saksham-jain177/Data-Analysis/blob/main/Swiggy_Restaurants_Data_Analysis.ipynb\" target=\"_parent\"><img src=\"https://colab.research.google.com/assets/colab-badge.svg\" alt=\"Open In Colab\"/></a>"
      ]
    },
    {
      "cell_type": "markdown",
      "source": [
        "# **Swiggy Restaurants Data Analysis**\n",
        "    "
      ],
      "metadata": {
        "id": "lgI_sOTeP8RB"
      }
    },
    {
      "cell_type": "code",
      "source": [
        "#Reading Dataset\n",
        "import numpy as np\n",
        "import pandas as pd\n",
        "\n",
        "df = pd.read_csv('/content/swiggy.csv')\n",
        "df.head()"
      ],
      "metadata": {
        "colab": {
          "base_uri": "https://localhost:8080/",
          "height": 618
        },
        "id": "heb4gn_n3--4",
        "outputId": "48d57f14-64ff-4ccc-cad0-6afd0ee36748"
      },
      "execution_count": 12,
      "outputs": [
        {
          "output_type": "execute_result",
          "data": {
            "text/plain": [
              "       id               name    city rating     rating_count   cost  \\\n",
              "0  567335     AB FOODS POINT  Abohar     --  Too Few Ratings  ₹ 200   \n",
              "1  531342  Janta Sweet House  Abohar    4.4      50+ ratings  ₹ 200   \n",
              "2  158203  theka coffee desi  Abohar    3.8     100+ ratings  ₹ 100   \n",
              "3  187912          Singh Hut  Abohar    3.7      20+ ratings  ₹ 250   \n",
              "4  543530      GRILL MASTERS  Abohar     --  Too Few Ratings  ₹ 250   \n",
              "\n",
              "                      cuisine          lic_no  \\\n",
              "0            Beverages,Pizzas  22122652000138   \n",
              "1               Sweets,Bakery  12117201000112   \n",
              "2                   Beverages  22121652000190   \n",
              "3            Fast Food,Indian  22119652000167   \n",
              "4  Italian-American,Fast Food  12122201000053   \n",
              "\n",
              "                                                link  \\\n",
              "0  https://www.swiggy.com/restaurants/ab-foods-po...   \n",
              "1  https://www.swiggy.com/restaurants/janta-sweet...   \n",
              "2  https://www.swiggy.com/restaurants/theka-coffe...   \n",
              "3  https://www.swiggy.com/restaurants/singh-hut-n...   \n",
              "4  https://www.swiggy.com/restaurants/grill-maste...   \n",
              "\n",
              "                                             address              menu  \n",
              "0  AB FOODS POINT, NEAR RISHI NARANG DENTAL CLINI...  Menu/567335.json  \n",
              "1  Janta Sweet House, Bazar No.9, Circullar Road,...  Menu/531342.json  \n",
              "2         theka coffee desi, sahtiya sadan road city  Menu/158203.json  \n",
              "3    Singh Hut, CIRCULAR ROAD NEAR NEHRU PARK ABOHAR  Menu/187912.json  \n",
              "4  GRILL MASTERS, ADA Heights, Abohar - Hanumanga...  Menu/543530.json  "
            ],
            "text/html": [
              "\n",
              "\n",
              "  <div id=\"df-c9b7b194-905b-4bc1-a917-8079f0cabf2c\">\n",
              "    <div class=\"colab-df-container\">\n",
              "      <div>\n",
              "<style scoped>\n",
              "    .dataframe tbody tr th:only-of-type {\n",
              "        vertical-align: middle;\n",
              "    }\n",
              "\n",
              "    .dataframe tbody tr th {\n",
              "        vertical-align: top;\n",
              "    }\n",
              "\n",
              "    .dataframe thead th {\n",
              "        text-align: right;\n",
              "    }\n",
              "</style>\n",
              "<table border=\"1\" class=\"dataframe\">\n",
              "  <thead>\n",
              "    <tr style=\"text-align: right;\">\n",
              "      <th></th>\n",
              "      <th>id</th>\n",
              "      <th>name</th>\n",
              "      <th>city</th>\n",
              "      <th>rating</th>\n",
              "      <th>rating_count</th>\n",
              "      <th>cost</th>\n",
              "      <th>cuisine</th>\n",
              "      <th>lic_no</th>\n",
              "      <th>link</th>\n",
              "      <th>address</th>\n",
              "      <th>menu</th>\n",
              "    </tr>\n",
              "  </thead>\n",
              "  <tbody>\n",
              "    <tr>\n",
              "      <th>0</th>\n",
              "      <td>567335</td>\n",
              "      <td>AB FOODS POINT</td>\n",
              "      <td>Abohar</td>\n",
              "      <td>--</td>\n",
              "      <td>Too Few Ratings</td>\n",
              "      <td>₹ 200</td>\n",
              "      <td>Beverages,Pizzas</td>\n",
              "      <td>22122652000138</td>\n",
              "      <td>https://www.swiggy.com/restaurants/ab-foods-po...</td>\n",
              "      <td>AB FOODS POINT, NEAR RISHI NARANG DENTAL CLINI...</td>\n",
              "      <td>Menu/567335.json</td>\n",
              "    </tr>\n",
              "    <tr>\n",
              "      <th>1</th>\n",
              "      <td>531342</td>\n",
              "      <td>Janta Sweet House</td>\n",
              "      <td>Abohar</td>\n",
              "      <td>4.4</td>\n",
              "      <td>50+ ratings</td>\n",
              "      <td>₹ 200</td>\n",
              "      <td>Sweets,Bakery</td>\n",
              "      <td>12117201000112</td>\n",
              "      <td>https://www.swiggy.com/restaurants/janta-sweet...</td>\n",
              "      <td>Janta Sweet House, Bazar No.9, Circullar Road,...</td>\n",
              "      <td>Menu/531342.json</td>\n",
              "    </tr>\n",
              "    <tr>\n",
              "      <th>2</th>\n",
              "      <td>158203</td>\n",
              "      <td>theka coffee desi</td>\n",
              "      <td>Abohar</td>\n",
              "      <td>3.8</td>\n",
              "      <td>100+ ratings</td>\n",
              "      <td>₹ 100</td>\n",
              "      <td>Beverages</td>\n",
              "      <td>22121652000190</td>\n",
              "      <td>https://www.swiggy.com/restaurants/theka-coffe...</td>\n",
              "      <td>theka coffee desi, sahtiya sadan road city</td>\n",
              "      <td>Menu/158203.json</td>\n",
              "    </tr>\n",
              "    <tr>\n",
              "      <th>3</th>\n",
              "      <td>187912</td>\n",
              "      <td>Singh Hut</td>\n",
              "      <td>Abohar</td>\n",
              "      <td>3.7</td>\n",
              "      <td>20+ ratings</td>\n",
              "      <td>₹ 250</td>\n",
              "      <td>Fast Food,Indian</td>\n",
              "      <td>22119652000167</td>\n",
              "      <td>https://www.swiggy.com/restaurants/singh-hut-n...</td>\n",
              "      <td>Singh Hut, CIRCULAR ROAD NEAR NEHRU PARK ABOHAR</td>\n",
              "      <td>Menu/187912.json</td>\n",
              "    </tr>\n",
              "    <tr>\n",
              "      <th>4</th>\n",
              "      <td>543530</td>\n",
              "      <td>GRILL MASTERS</td>\n",
              "      <td>Abohar</td>\n",
              "      <td>--</td>\n",
              "      <td>Too Few Ratings</td>\n",
              "      <td>₹ 250</td>\n",
              "      <td>Italian-American,Fast Food</td>\n",
              "      <td>12122201000053</td>\n",
              "      <td>https://www.swiggy.com/restaurants/grill-maste...</td>\n",
              "      <td>GRILL MASTERS, ADA Heights, Abohar - Hanumanga...</td>\n",
              "      <td>Menu/543530.json</td>\n",
              "    </tr>\n",
              "  </tbody>\n",
              "</table>\n",
              "</div>\n",
              "      <button class=\"colab-df-convert\" onclick=\"convertToInteractive('df-c9b7b194-905b-4bc1-a917-8079f0cabf2c')\"\n",
              "              title=\"Convert this dataframe to an interactive table.\"\n",
              "              style=\"display:none;\">\n",
              "\n",
              "  <svg xmlns=\"http://www.w3.org/2000/svg\" height=\"24px\"viewBox=\"0 0 24 24\"\n",
              "       width=\"24px\">\n",
              "    <path d=\"M0 0h24v24H0V0z\" fill=\"none\"/>\n",
              "    <path d=\"M18.56 5.44l.94 2.06.94-2.06 2.06-.94-2.06-.94-.94-2.06-.94 2.06-2.06.94zm-11 1L8.5 8.5l.94-2.06 2.06-.94-2.06-.94L8.5 2.5l-.94 2.06-2.06.94zm10 10l.94 2.06.94-2.06 2.06-.94-2.06-.94-.94-2.06-.94 2.06-2.06.94z\"/><path d=\"M17.41 7.96l-1.37-1.37c-.4-.4-.92-.59-1.43-.59-.52 0-1.04.2-1.43.59L10.3 9.45l-7.72 7.72c-.78.78-.78 2.05 0 2.83L4 21.41c.39.39.9.59 1.41.59.51 0 1.02-.2 1.41-.59l7.78-7.78 2.81-2.81c.8-.78.8-2.07 0-2.86zM5.41 20L4 18.59l7.72-7.72 1.47 1.35L5.41 20z\"/>\n",
              "  </svg>\n",
              "      </button>\n",
              "\n",
              "\n",
              "\n",
              "    <div id=\"df-bf9a6f65-14f4-49f8-a77d-4862472a3650\">\n",
              "      <button class=\"colab-df-quickchart\" onclick=\"quickchart('df-bf9a6f65-14f4-49f8-a77d-4862472a3650')\"\n",
              "              title=\"Suggest charts.\"\n",
              "              style=\"display:none;\">\n",
              "\n",
              "<svg xmlns=\"http://www.w3.org/2000/svg\" height=\"24px\"viewBox=\"0 0 24 24\"\n",
              "     width=\"24px\">\n",
              "    <g>\n",
              "        <path d=\"M19 3H5c-1.1 0-2 .9-2 2v14c0 1.1.9 2 2 2h14c1.1 0 2-.9 2-2V5c0-1.1-.9-2-2-2zM9 17H7v-7h2v7zm4 0h-2V7h2v10zm4 0h-2v-4h2v4z\"/>\n",
              "    </g>\n",
              "</svg>\n",
              "      </button>\n",
              "    </div>\n",
              "\n",
              "<style>\n",
              "  .colab-df-quickchart {\n",
              "    background-color: #E8F0FE;\n",
              "    border: none;\n",
              "    border-radius: 50%;\n",
              "    cursor: pointer;\n",
              "    display: none;\n",
              "    fill: #1967D2;\n",
              "    height: 32px;\n",
              "    padding: 0 0 0 0;\n",
              "    width: 32px;\n",
              "  }\n",
              "\n",
              "  .colab-df-quickchart:hover {\n",
              "    background-color: #E2EBFA;\n",
              "    box-shadow: 0px 1px 2px rgba(60, 64, 67, 0.3), 0px 1px 3px 1px rgba(60, 64, 67, 0.15);\n",
              "    fill: #174EA6;\n",
              "  }\n",
              "\n",
              "  [theme=dark] .colab-df-quickchart {\n",
              "    background-color: #3B4455;\n",
              "    fill: #D2E3FC;\n",
              "  }\n",
              "\n",
              "  [theme=dark] .colab-df-quickchart:hover {\n",
              "    background-color: #434B5C;\n",
              "    box-shadow: 0px 1px 3px 1px rgba(0, 0, 0, 0.15);\n",
              "    filter: drop-shadow(0px 1px 2px rgba(0, 0, 0, 0.3));\n",
              "    fill: #FFFFFF;\n",
              "  }\n",
              "</style>\n",
              "\n",
              "    <script>\n",
              "      async function quickchart(key) {\n",
              "        const containerElement = document.querySelector('#' + key);\n",
              "        const charts = await google.colab.kernel.invokeFunction(\n",
              "            'suggestCharts', [key], {});\n",
              "      }\n",
              "    </script>\n",
              "\n",
              "      <script>\n",
              "\n",
              "function displayQuickchartButton(domScope) {\n",
              "  let quickchartButtonEl =\n",
              "    domScope.querySelector('#df-bf9a6f65-14f4-49f8-a77d-4862472a3650 button.colab-df-quickchart');\n",
              "  quickchartButtonEl.style.display =\n",
              "    google.colab.kernel.accessAllowed ? 'block' : 'none';\n",
              "}\n",
              "\n",
              "        displayQuickchartButton(document);\n",
              "      </script>\n",
              "      <style>\n",
              "    .colab-df-container {\n",
              "      display:flex;\n",
              "      flex-wrap:wrap;\n",
              "      gap: 12px;\n",
              "    }\n",
              "\n",
              "    .colab-df-convert {\n",
              "      background-color: #E8F0FE;\n",
              "      border: none;\n",
              "      border-radius: 50%;\n",
              "      cursor: pointer;\n",
              "      display: none;\n",
              "      fill: #1967D2;\n",
              "      height: 32px;\n",
              "      padding: 0 0 0 0;\n",
              "      width: 32px;\n",
              "    }\n",
              "\n",
              "    .colab-df-convert:hover {\n",
              "      background-color: #E2EBFA;\n",
              "      box-shadow: 0px 1px 2px rgba(60, 64, 67, 0.3), 0px 1px 3px 1px rgba(60, 64, 67, 0.15);\n",
              "      fill: #174EA6;\n",
              "    }\n",
              "\n",
              "    [theme=dark] .colab-df-convert {\n",
              "      background-color: #3B4455;\n",
              "      fill: #D2E3FC;\n",
              "    }\n",
              "\n",
              "    [theme=dark] .colab-df-convert:hover {\n",
              "      background-color: #434B5C;\n",
              "      box-shadow: 0px 1px 3px 1px rgba(0, 0, 0, 0.15);\n",
              "      filter: drop-shadow(0px 1px 2px rgba(0, 0, 0, 0.3));\n",
              "      fill: #FFFFFF;\n",
              "    }\n",
              "  </style>\n",
              "\n",
              "      <script>\n",
              "        const buttonEl =\n",
              "          document.querySelector('#df-c9b7b194-905b-4bc1-a917-8079f0cabf2c button.colab-df-convert');\n",
              "        buttonEl.style.display =\n",
              "          google.colab.kernel.accessAllowed ? 'block' : 'none';\n",
              "\n",
              "        async function convertToInteractive(key) {\n",
              "          const element = document.querySelector('#df-c9b7b194-905b-4bc1-a917-8079f0cabf2c');\n",
              "          const dataTable =\n",
              "            await google.colab.kernel.invokeFunction('convertToInteractive',\n",
              "                                                     [key], {});\n",
              "          if (!dataTable) return;\n",
              "\n",
              "          const docLinkHtml = 'Like what you see? Visit the ' +\n",
              "            '<a target=\"_blank\" href=https://colab.research.google.com/notebooks/data_table.ipynb>data table notebook</a>'\n",
              "            + ' to learn more about interactive tables.';\n",
              "          element.innerHTML = '';\n",
              "          dataTable['output_type'] = 'display_data';\n",
              "          await google.colab.output.renderOutput(dataTable, element);\n",
              "          const docLink = document.createElement('div');\n",
              "          docLink.innerHTML = docLinkHtml;\n",
              "          element.appendChild(docLink);\n",
              "        }\n",
              "      </script>\n",
              "    </div>\n",
              "  </div>\n"
            ]
          },
          "metadata": {},
          "execution_count": 12
        }
      ]
    },
    {
      "cell_type": "code",
      "source": [
        "import pandas as pd\n",
        "\n",
        "# Read the CSV file into a pandas DataFrame\n",
        "csv_file_path = '/content/swiggy.csv'\n",
        "df = pd.read_csv('/content/swiggy.csv')\n",
        "\n",
        "# Print the list of column labels\n",
        "print(\"Column Labels:\", df.columns)\n"
      ],
      "metadata": {
        "colab": {
          "base_uri": "https://localhost:8080/"
        },
        "id": "BLDn8_tT7vr2",
        "outputId": "4198c570-1cf0-432a-935c-c6f48baac580"
      },
      "execution_count": 10,
      "outputs": [
        {
          "output_type": "stream",
          "name": "stdout",
          "text": [
            "Column Labels: Index(['id', 'name', 'city', 'rating', 'rating_count', 'cost', 'cuisine',\n",
            "       'lic_no', 'link', 'address', 'menu'],\n",
            "      dtype='object')\n"
          ]
        }
      ]
    },
    {
      "cell_type": "markdown",
      "source": [
        "1. How many cities (including subregions) where Swiggy is having its restaurants listed?"
      ],
      "metadata": {
        "id": "gGTZvv_3M76D"
      }
    },
    {
      "cell_type": "code",
      "source": [
        "import pandas as pd\n",
        "\n",
        "df_1 = pd.read_csv('/content/swiggy.csv')\n",
        "\n",
        "df_1 = df_1[df_1['name'].notnull()]\n",
        "\n",
        "\n",
        "cities = []\n",
        "\n",
        "for city_entry in df_1['city']:\n",
        "    city_list = city_entry.split(',')\n",
        "    cities.extend(city_list)\n",
        "\n",
        "unique_cities = set(cities)\n",
        "\n",
        "print(f\"Number of cities (including subregions) where Swiggy has their restaurants listed: {len(unique_cities)}\")\n"
      ],
      "metadata": {
        "id": "UD2if-4FNCcH",
        "colab": {
          "base_uri": "https://localhost:8080/"
        },
        "outputId": "221044ab-8af2-4ed3-b727-fd2287255669"
      },
      "execution_count": 56,
      "outputs": [
        {
          "output_type": "stream",
          "name": "stdout",
          "text": [
            "Number of cities (including subregions) where Swiggy has their restaurants listed: 847\n"
          ]
        }
      ]
    },
    {
      "cell_type": "markdown",
      "source": [
        "2. How many cities  (don't include subregions) where Swiggy is having their restaurants listed?"
      ],
      "metadata": {
        "id": "cyFexQ58PQzf"
      }
    },
    {
      "cell_type": "code",
      "source": [
        "df_1 = pd.read_csv('/content/swiggy.csv')\n",
        "\n",
        "# Filtering out the dataset, only considering the record where restaurant name is not null.\n",
        "df_1 = df_1[df_1['name'].isnull() != True]\n",
        "\n",
        "l=[]\n",
        "for city in df_1['city']:\n",
        "    if city not in l:\n",
        "        l.append(city)\n",
        "print(f\"Number of cities(including subregions) where swiggy is having their restaurants listed: {len(l)}\")"
      ],
      "metadata": {
        "id": "z8-76Sh4PWV7",
        "colab": {
          "base_uri": "https://localhost:8080/"
        },
        "outputId": "472b5eb3-dd82-4949-a986-1032d68470be"
      },
      "execution_count": 14,
      "outputs": [
        {
          "output_type": "stream",
          "name": "stdout",
          "text": [
            "Number of cities(including subregions) where swiggy is having their restaurants listed: 821\n"
          ]
        }
      ]
    },
    {
      "cell_type": "markdown",
      "source": [
        "3. The Subregion of Delhi with the maximum number of restaurants listed on Swiggy?"
      ],
      "metadata": {
        "id": "Wqj6vPcfPXTz"
      }
    },
    {
      "cell_type": "code",
      "source": [
        "import pandas as pd\n",
        "\n",
        "# Read the CSV file into a pandas DataFrame\n",
        "csv_file_path = '/content/swiggy.csv'\n",
        "df = pd.read_csv(csv_file_path)\n",
        "\n",
        "delhi_df = df[df['city'].str.contains('Delhi', case=False)]\n",
        "\n",
        "city_counts = delhi_df['city'].value_counts()\n",
        "\n",
        "max_city = city_counts.idxmax()\n",
        "\n",
        "print(max_city)\n"
      ],
      "metadata": {
        "id": "ZHXeFc4bPa7G",
        "colab": {
          "base_uri": "https://localhost:8080/"
        },
        "outputId": "2bf147db-bc5f-4a72-df39-c7bfc93dac6e"
      },
      "execution_count": 55,
      "outputs": [
        {
          "output_type": "stream",
          "name": "stdout",
          "text": [
            "Indirapuram,Delhi\n"
          ]
        }
      ]
    },
    {
      "cell_type": "markdown",
      "source": [
        "4. Name the top 5 Most Expensive Cities in the Datasets."
      ],
      "metadata": {
        "id": "_fqaStDxPbsr"
      }
    },
    {
      "cell_type": "code",
      "source": [
        "import pandas as pd\n",
        "\n",
        "csv_file_path = '/content/swiggy.csv'\n",
        "df = pd.read_csv(csv_file_path)\n",
        "\n",
        "\n",
        "df['cost'] = df['cost'].str.replace('[^\\d.]', '', regex=True).astype(float)\n",
        "\n",
        "\n",
        "city_expenses = df.groupby('city')['cost'].mean()\n",
        "\n",
        "top_expensive_cities = city_expenses.sort_values(ascending=False)\n",
        "\n",
        "# Print the top 5 most expensive cities\n",
        "print(\"Top 5 Most Expensive Cities :\")\n",
        "print(top_expensive_cities.head(5))\n"
      ],
      "metadata": {
        "id": "3TauwgU4PgRD",
        "colab": {
          "base_uri": "https://localhost:8080/"
        },
        "outputId": "dc04afae-5633-4ac5-e3f0-8ed07bf215ff"
      },
      "execution_count": 50,
      "outputs": [
        {
          "output_type": "stream",
          "name": "stdout",
          "text": [
            "Top 5 Most Expensive Cities :\n",
            "city\n",
            "Hinganghat              18962.437500\n",
            "BBK_Chattarpur,Delhi      800.000000\n",
            "Khan Market,Delhi         600.915888\n",
            "Fort Colaba,Mumbai        493.320132\n",
            "North-goa                 468.964045\n",
            "Name: cost, dtype: float64\n"
          ]
        }
      ]
    },
    {
      "cell_type": "markdown",
      "source": [
        "5. List out the top 5 Restaurants with Maximum & minimum ratings throughout the dataset."
      ],
      "metadata": {
        "id": "rRykYK2fPgp3"
      }
    },
    {
      "cell_type": "code",
      "source": [
        "import pandas as pd\n",
        "\n",
        "csv_file_path = 'your_data.csv'\n",
        "df = pd.read_csv('/content/swiggy.csv')\n",
        "\n",
        "\n",
        "df_filtered = df[df['rating'].notnull()]\n",
        "\n",
        "\n",
        "top_rated = df_filtered.sort_values(by='rating', ascending=False)\n",
        "print(\"Top 5 Restaurants with Maximum Ratings :\")\n",
        "print(top_rated[['name', 'rating']].head())\n",
        "\n",
        "\n",
        "bottom_rated = df_filtered.sort_values(by='rating', ascending=True)\n",
        "print(\"\\nBottom 5 Restaurants with Minimum Ratings :\")\n",
        "print(bottom_rated[['name', 'rating']].head())"
      ],
      "metadata": {
        "id": "9ALCSDeyPjT0",
        "colab": {
          "base_uri": "https://localhost:8080/"
        },
        "outputId": "e6e9305d-a68e-42ae-fae3-d6752fb25127"
      },
      "execution_count": 45,
      "outputs": [
        {
          "output_type": "stream",
          "name": "stdout",
          "text": [
            "Top 5 Restaurants with Maximum Ratings :\n",
            "                                               name rating\n",
            "56447                               Begums Khansama    5.0\n",
            "50302                                           Teo    5.0\n",
            "12838   JUST CREAMERY - Artisanal Healthy Ice Cream    5.0\n",
            "129331                                HRX by Eatfit    5.0\n",
            "105876                          Street Food Karvaan    5.0\n",
            "\n",
            "Bottom 5 Restaurants with Minimum Ratings :\n",
            "                    name rating\n",
            "0         AB FOODS POINT     --\n",
            "86257        Mad Burgers     --\n",
            "86256        Burgerrring     --\n",
            "86255  THE Ambience cafe     --\n",
            "86254    the pizza house     --\n"
          ]
        }
      ]
    },
    {
      "cell_type": "markdown",
      "source": [
        "6. Name of top 5 cities with the highest number of restaurants listed."
      ],
      "metadata": {
        "id": "KWH-dZ7XPjk6"
      }
    },
    {
      "cell_type": "code",
      "source": [
        "import pandas as pd\n",
        "\n",
        "csv_file_path = '/content/swiggy.csv'\n",
        "df = pd.read_csv(csv_file_path)\n",
        "\n",
        "df_filtered = df[df['name'].notnull()]\n",
        "\n",
        "if df_filtered.empty:\n",
        "    print(\"No valid records in the filtered DataFrame.\")\n",
        "else:\n",
        "    city_counts = df_filtered.groupby('city')['id'].nunique()\n",
        "\n",
        "    if city_counts.empty:\n",
        "        print(\"No valid city counts available.\")\n",
        "    else:\n",
        "        max_city = city_counts.nlargest(5)\n",
        "        print(max_city)"
      ],
      "metadata": {
        "id": "jBYXh3kdPmJs",
        "colab": {
          "base_uri": "https://localhost:8080/"
        },
        "outputId": "61917def-56d7-40ff-e25a-a421a2b173b9"
      },
      "execution_count": 39,
      "outputs": [
        {
          "output_type": "stream",
          "name": "stdout",
          "text": [
            "city\n",
            "Bikaner              1666\n",
            "Noida-1              1427\n",
            "Indirapuram,Delhi    1279\n",
            "BTM,Bangalore        1161\n",
            "Rohini,Delhi         1135\n",
            "Name: id, dtype: int64\n"
          ]
        }
      ]
    },
    {
      "cell_type": "markdown",
      "source": [
        "7. Top 10 cities as per the number of restaurants listed?"
      ],
      "metadata": {
        "id": "2uND9cNvPmZQ"
      }
    },
    {
      "cell_type": "code",
      "source": [
        "for city in df['city'].value_counts().sort_values(ascending=False).head(10).index:\n",
        "    print(city)"
      ],
      "metadata": {
        "id": "Ugvw1Y-FPo8Q",
        "colab": {
          "base_uri": "https://localhost:8080/"
        },
        "outputId": "c27b90a5-732e-4067-ea03-da1146e32b71"
      },
      "execution_count": 15,
      "outputs": [
        {
          "output_type": "stream",
          "name": "stdout",
          "text": [
            "Bikaner\n",
            "Noida-1\n",
            "Indirapuram,Delhi\n",
            "BTM,Bangalore\n",
            "Rohini,Delhi\n",
            "Kothrud,Pune\n",
            "Indiranagar,Bangalore\n",
            "Electronic City,Bangalore\n",
            "Greater Kailash 2,Delhi\n",
            "Vashi,Mumbai\n"
          ]
        }
      ]
    },
    {
      "cell_type": "markdown",
      "source": [
        "8. Name the top 5 Most Popular Restaurants in Pune."
      ],
      "metadata": {
        "id": "pR3jWlZ_PpMK"
      }
    },
    {
      "cell_type": "code",
      "source": [
        "import pandas as pd\n",
        "\n",
        "csv_file_path = '/content/swiggy.csv'\n",
        "df = pd.read_csv(csv_file_path)\n",
        "\n",
        "pune_df = df[df['city'].str.contains('Pune', case=False)]\n",
        "popularity_column = 'rating_count'\n",
        "top_popular_pune = pune_df.sort_values(by=popularity_column, ascending=True)\n",
        "\n",
        "print(\"Top 5 Most Popular Restaurants in Pune:\")\n",
        "print(top_popular_pune[['name', popularity_column]].head())"
      ],
      "metadata": {
        "id": "P-e4i3ZuPrln",
        "colab": {
          "base_uri": "https://localhost:8080/"
        },
        "outputId": "5c5eab32-3638-4562-d26b-934feb910f0e"
      },
      "execution_count": 69,
      "outputs": [
        {
          "output_type": "stream",
          "name": "stdout",
          "text": [
            "Top 5 Most Popular Restaurants in Pune:\n",
            "                                      name  rating_count\n",
            "126933  Mandarin Oak- The Heavenly Chinese  100+ ratings\n",
            "130893                   Shawarma Junction  100+ ratings\n",
            "123782                        Samosa Singh  100+ ratings\n",
            "130905                        China Dragon  100+ ratings\n",
            "130907                           Anna Vada  100+ ratings\n"
          ]
        }
      ]
    },
    {
      "cell_type": "markdown",
      "source": [
        "9. Which SubRegion in Delhi is having the least expensive restaurant in terms of cost?"
      ],
      "metadata": {
        "id": "6gAi7FOZPr2u"
      }
    },
    {
      "cell_type": "code",
      "source": [
        "import pandas as pd\n",
        "\n",
        "csv_file_path = '/content/swiggy.csv'\n",
        "df = pd.read_csv(csv_file_path)\n",
        "\n",
        "delhi_df = df[df['city'].str.contains('Delhi', case=False)]\n",
        "city_counts = delhi_df['city'].value_counts()\n",
        "min_cost_subregion = city_counts.idxmin()\n",
        "\n",
        "print(f\"Subregion in Delhi with the least expensive restaurant : {min_cost_subregion}\")"
      ],
      "metadata": {
        "id": "lvj1UTQyPuLy",
        "colab": {
          "base_uri": "https://localhost:8080/"
        },
        "outputId": "89650de1-1719-4e29-8a9f-d93dab3a5c8c"
      },
      "execution_count": 74,
      "outputs": [
        {
          "output_type": "stream",
          "name": "stdout",
          "text": [
            "Subregion in Delhi with the least expensive restaurant : BBK_Chattarpur,Delhi\n"
          ]
        }
      ]
    },
    {
      "cell_type": "markdown",
      "source": [
        "10. Top 5 most popular restaurant chains in India?"
      ],
      "metadata": {
        "id": "hhtfsqWuPueP"
      }
    },
    {
      "cell_type": "code",
      "source": [
        "df = pd.read_csv('/content/swiggy.csv')\n",
        "\n",
        "# Considering, the restaurant with large no. of branches is more popular\n",
        "for name in df['name'].value_counts().sort_values(ascending=False).head(5).index:\n",
        "    print(name)"
      ],
      "metadata": {
        "id": "PMzXDhKyPwpB",
        "colab": {
          "base_uri": "https://localhost:8080/"
        },
        "outputId": "42316a9f-25a5-406a-9c59-ad18ecbd498a"
      },
      "execution_count": 16,
      "outputs": [
        {
          "output_type": "stream",
          "name": "stdout",
          "text": [
            "Domino's Pizza\n",
            "Pizza Hut\n",
            "KFC\n",
            "Kwality Walls Frozen Dessert and Ice Cream Shop\n",
            "Baskin Robbins\n"
          ]
        }
      ]
    },
    {
      "cell_type": "markdown",
      "source": [
        "11. Which restaurant in Pune has the most number of people visiting?"
      ],
      "metadata": {
        "id": "td0djt89Pw21"
      }
    },
    {
      "cell_type": "code",
      "source": [
        "import pandas as pd\n",
        "\n",
        "csv_file_path = '/content/swiggy.csv'\n",
        "df = pd.read_csv(csv_file_path)\n",
        "\n",
        "pune_df = df[df['city'].str.contains('Pune', case=False)].copy()\n",
        "\n",
        "pune_df['rating'] = pd.to_numeric(pune_df['rating'], errors='coerce')\n",
        "pune_df['rating_count'] = pd.to_numeric(pune_df['rating_count'], errors='coerce')\n",
        "\n",
        "#popularity score = rating x rating count\n",
        "pune_df['popularity_score'] = pune_df['rating'] * pune_df['rating_count']\n",
        "most_popular_pune = pune_df.sort_values(by='popularity_score', ascending=False)\n",
        "print(\"Most Popular Restaurant in Pune:\")\n",
        "print(most_popular_pune[['name', 'rating', 'rating_count']].head(1))"
      ],
      "metadata": {
        "id": "bRdc8jHAPzll",
        "colab": {
          "base_uri": "https://localhost:8080/"
        },
        "outputId": "187e1c72-9efe-462d-cfe5-80c362c94dcd"
      },
      "execution_count": 85,
      "outputs": [
        {
          "output_type": "stream",
          "name": "stdout",
          "text": [
            "Most Popular Restaurant in Pune:\n",
            "                     name  rating  rating_count\n",
            "120714  FARM DA DHABA NH8     NaN           NaN\n"
          ]
        }
      ]
    },
    {
      "cell_type": "markdown",
      "source": [
        "12. Top 10 Restaurants with Maximum Ratings in Banglore"
      ],
      "metadata": {
        "id": "bFt7nFVSP02M"
      }
    },
    {
      "cell_type": "code",
      "source": [
        "import pandas as pd\n",
        "\n",
        "csv_file_path = '/content/swiggy.csv'\n",
        "df = pd.read_csv(csv_file_path)\n",
        "\n",
        "bangalore_df = df[df['city'].str.contains('Bangalore', case=False)]\n",
        "top_rated_bangalore = bangalore_df.sort_values(by='rating', ascending=False)\n",
        "\n",
        "print(\"Top 10 Restaurants with Maximum Ratings in Bangalore :\")\n",
        "print(top_rated_bangalore[['name', 'rating']].head(10))"
      ],
      "metadata": {
        "id": "yVQMjHM4P3Dk",
        "colab": {
          "base_uri": "https://localhost:8080/"
        },
        "outputId": "cc0d26e5-789a-449d-c714-aded0446fca9"
      },
      "execution_count": 86,
      "outputs": [
        {
          "output_type": "stream",
          "name": "stdout",
          "text": [
            "Top 10 Restaurants with Maximum Ratings in Bangalore :\n",
            "                         name rating\n",
            "13139       THE INDIAN SAMOSA    5.0\n",
            "12070              Snack Ride    5.0\n",
            "22491          Tandoori Zaika    5.0\n",
            "13334           The Lassi Pub    5.0\n",
            "13171                  Frooze    5.0\n",
            "12958      Fresh crunch pizza    5.0\n",
            "13144                Minus 30    5.0\n",
            "21601         Mamaji PavBhaji    5.0\n",
            "11091  The Chinese Connection    5.0\n",
            "16693        ESCOBAR PANINI s    5.0\n"
          ]
        }
      ]
    },
    {
      "cell_type": "markdown",
      "source": [
        "13. Top 10 Restaurant in Patna w.r.t rating"
      ],
      "metadata": {
        "id": "NWkUdDjWP3VE"
      }
    },
    {
      "cell_type": "code",
      "source": [
        "import pandas as pd\n",
        "\n",
        "csv_file_path = '/content/swiggy.csv'\n",
        "df = pd.read_csv(csv_file_path)\n",
        "\n",
        "patna_df = df[df['city'].str.contains('Patna', case=False)]\n",
        "top_rated_patna = patna_df.sort_values(by='rating', ascending=False)\n",
        "\n",
        "print(\"Top 10 Restaurants with Highest Ratings in Patna :\")\n",
        "print(top_rated_patna[['name', 'rating']].head(10))"
      ],
      "metadata": {
        "id": "gNXxN4rNP58H",
        "colab": {
          "base_uri": "https://localhost:8080/"
        },
        "outputId": "3f6530fe-2a87-47a8-aee7-95eb4cf3bafa"
      },
      "execution_count": 87,
      "outputs": [
        {
          "output_type": "stream",
          "name": "stdout",
          "text": [
            "Top 10 Restaurants with Highest Ratings in Patna :\n",
            "                                                   name rating\n",
            "77907                                        Aruba Cafe    4.9\n",
            "77908                                       Hunger eats    4.7\n",
            "119243  Kwality Walls Frozen Dessert and Ice Cream Shop    4.6\n",
            "119443                                    Slurpy Shakes    4.6\n",
            "77894                                 Fried Chicken Hub    4.6\n",
            "77889                                          BigBites    4.6\n",
            "77965                                     Madhur Sweets    4.5\n",
            "119431                      Kouzina Kafe The Food Court    4.5\n",
            "119477                    Cupcake Bliss Cake & Desserts    4.5\n",
            "102400                                        Sip N Sip    4.5\n"
          ]
        }
      ]
    }
  ]
}