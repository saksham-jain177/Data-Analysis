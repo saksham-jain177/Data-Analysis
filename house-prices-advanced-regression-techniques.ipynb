{
 "cells": [
  {
   "cell_type": "markdown",
   "id": "5d888fea",
   "metadata": {
    "papermill": {
     "duration": 0.009613,
     "end_time": "2024-07-09T05:30:47.284371",
     "exception": false,
     "start_time": "2024-07-09T05:30:47.274758",
     "status": "completed"
    },
    "tags": []
   },
   "source": [
    "# Problem\n",
    "* To predict the sales price for each house. \n",
    "* For each Id in the test set, you must predict the value of the SalePrice variable. "
   ]
  },
  {
   "cell_type": "markdown",
   "id": "3a68497c",
   "metadata": {
    "papermill": {
     "duration": 0.00853,
     "end_time": "2024-07-09T05:30:47.301998",
     "exception": false,
     "start_time": "2024-07-09T05:30:47.293468",
     "status": "completed"
    },
    "tags": []
   },
   "source": [
    "# 1. Loading and Data Eyeballing"
   ]
  },
  {
   "cell_type": "code",
   "execution_count": 1,
   "id": "627a2e69",
   "metadata": {
    "execution": {
     "iopub.execute_input": "2024-07-09T05:30:47.322612Z",
     "iopub.status.busy": "2024-07-09T05:30:47.322167Z",
     "iopub.status.idle": "2024-07-09T05:30:50.875216Z",
     "shell.execute_reply": "2024-07-09T05:30:50.873819Z"
    },
    "papermill": {
     "duration": 3.566482,
     "end_time": "2024-07-09T05:30:50.878207",
     "exception": false,
     "start_time": "2024-07-09T05:30:47.311725",
     "status": "completed"
    },
    "tags": []
   },
   "outputs": [
    {
     "name": "stdout",
     "output_type": "stream",
     "text": [
      "Training Data:\n",
      "   Id  MSSubClass MSZoning  LotFrontage  LotArea Street Alley LotShape  \\\n",
      "0   1          60       RL         65.0     8450   Pave   NaN      Reg   \n",
      "1   2          20       RL         80.0     9600   Pave   NaN      Reg   \n",
      "2   3          60       RL         68.0    11250   Pave   NaN      IR1   \n",
      "3   4          70       RL         60.0     9550   Pave   NaN      IR1   \n",
      "4   5          60       RL         84.0    14260   Pave   NaN      IR1   \n",
      "\n",
      "  LandContour Utilities  ... PoolArea PoolQC Fence MiscFeature MiscVal MoSold  \\\n",
      "0         Lvl    AllPub  ...        0    NaN   NaN         NaN       0      2   \n",
      "1         Lvl    AllPub  ...        0    NaN   NaN         NaN       0      5   \n",
      "2         Lvl    AllPub  ...        0    NaN   NaN         NaN       0      9   \n",
      "3         Lvl    AllPub  ...        0    NaN   NaN         NaN       0      2   \n",
      "4         Lvl    AllPub  ...        0    NaN   NaN         NaN       0     12   \n",
      "\n",
      "  YrSold  SaleType  SaleCondition  SalePrice  \n",
      "0   2008        WD         Normal     208500  \n",
      "1   2007        WD         Normal     181500  \n",
      "2   2008        WD         Normal     223500  \n",
      "3   2006        WD        Abnorml     140000  \n",
      "4   2008        WD         Normal     250000  \n",
      "\n",
      "[5 rows x 81 columns]\n",
      "---------------------------------------------------------------------\n",
      "\n",
      "\n",
      "Test Data:\n",
      "     Id  MSSubClass MSZoning  LotFrontage  LotArea Street Alley LotShape  \\\n",
      "0  1461          20       RH         80.0    11622   Pave   NaN      Reg   \n",
      "1  1462          20       RL         81.0    14267   Pave   NaN      IR1   \n",
      "2  1463          60       RL         74.0    13830   Pave   NaN      IR1   \n",
      "3  1464          60       RL         78.0     9978   Pave   NaN      IR1   \n",
      "4  1465         120       RL         43.0     5005   Pave   NaN      IR1   \n",
      "\n",
      "  LandContour Utilities  ... ScreenPorch PoolArea PoolQC  Fence MiscFeature  \\\n",
      "0         Lvl    AllPub  ...         120        0    NaN  MnPrv         NaN   \n",
      "1         Lvl    AllPub  ...           0        0    NaN    NaN        Gar2   \n",
      "2         Lvl    AllPub  ...           0        0    NaN  MnPrv         NaN   \n",
      "3         Lvl    AllPub  ...           0        0    NaN    NaN         NaN   \n",
      "4         HLS    AllPub  ...         144        0    NaN    NaN         NaN   \n",
      "\n",
      "  MiscVal MoSold  YrSold  SaleType  SaleCondition  \n",
      "0       0      6    2010        WD         Normal  \n",
      "1   12500      6    2010        WD         Normal  \n",
      "2       0      3    2010        WD         Normal  \n",
      "3       0      6    2010        WD         Normal  \n",
      "4       0      1    2010        WD         Normal  \n",
      "\n",
      "[5 rows x 80 columns]\n"
     ]
    }
   ],
   "source": [
    "import pandas as pd\n",
    "import numpy as np\n",
    "from sklearn.model_selection import train_test_split, cross_val_score\n",
    "from sklearn.preprocessing import StandardScaler, OneHotEncoder\n",
    "from sklearn.compose import ColumnTransformer\n",
    "from sklearn.pipeline import Pipeline\n",
    "from sklearn.impute import SimpleImputer\n",
    "from sklearn.linear_model import LinearRegression, Ridge, Lasso\n",
    "from sklearn.ensemble import RandomForestRegressor, GradientBoostingRegressor\n",
    "from sklearn.metrics import mean_squared_error\n",
    "import matplotlib.pyplot as plt\n",
    "import seaborn as sns\n",
    "import warnings\n",
    "warnings.filterwarnings('ignore')\n",
    "\n",
    "train_df  = pd.read_csv('/kaggle/input/house-prices-regression-techniques/train.csv')\n",
    "test_df = pd.read_csv('/kaggle/input/house-prices-regression-techniques/test.csv')\n",
    "\n",
    "# Displaying the first few rows of the training dataset\n",
    "print(\"Training Data:\")\n",
    "print(train_df.head())\n",
    "print(\"---------------------------------------------------------------------\")\n",
    "# Displaying the first few rows of the test dataset\n",
    "print(\"\\n\\nTest Data:\")\n",
    "print(test_df.head())"
   ]
  },
  {
   "cell_type": "markdown",
   "id": "eb8097f3",
   "metadata": {
    "papermill": {
     "duration": 0.008612,
     "end_time": "2024-07-09T05:30:50.896034",
     "exception": false,
     "start_time": "2024-07-09T05:30:50.887422",
     "status": "completed"
    },
    "tags": []
   },
   "source": [
    "# 2. Data Cleaning and PreProcessing"
   ]
  },
  {
   "cell_type": "markdown",
   "id": "f008280c",
   "metadata": {
    "papermill": {
     "duration": 0.00866,
     "end_time": "2024-07-09T05:30:50.913708",
     "exception": false,
     "start_time": "2024-07-09T05:30:50.905048",
     "status": "completed"
    },
    "tags": []
   },
   "source": [
    "## 2.1. Handling Missing Values"
   ]
  },
  {
   "cell_type": "code",
   "execution_count": 2,
   "id": "7bf71f2e",
   "metadata": {
    "execution": {
     "iopub.execute_input": "2024-07-09T05:30:50.934137Z",
     "iopub.status.busy": "2024-07-09T05:30:50.933163Z",
     "iopub.status.idle": "2024-07-09T05:30:50.960271Z",
     "shell.execute_reply": "2024-07-09T05:30:50.958871Z"
    },
    "papermill": {
     "duration": 0.040642,
     "end_time": "2024-07-09T05:30:50.963322",
     "exception": false,
     "start_time": "2024-07-09T05:30:50.922680",
     "status": "completed"
    },
    "tags": []
   },
   "outputs": [
    {
     "name": "stdout",
     "output_type": "stream",
     "text": [
      "Missing values in the training dataset:\n",
      "LotFrontage      259\n",
      "Alley           1369\n",
      "MasVnrType       872\n",
      "MasVnrArea         8\n",
      "BsmtQual          37\n",
      "BsmtCond          37\n",
      "BsmtExposure      38\n",
      "BsmtFinType1      37\n",
      "BsmtFinType2      38\n",
      "Electrical         1\n",
      "FireplaceQu      690\n",
      "GarageType        81\n",
      "GarageYrBlt       81\n",
      "GarageFinish      81\n",
      "GarageQual        81\n",
      "GarageCond        81\n",
      "PoolQC          1453\n",
      "Fence           1179\n",
      "MiscFeature     1406\n",
      "dtype: int64\n",
      "\n",
      "Missing values in the test dataset:\n",
      "MSZoning           4\n",
      "LotFrontage      227\n",
      "Alley           1352\n",
      "Utilities          2\n",
      "Exterior1st        1\n",
      "Exterior2nd        1\n",
      "MasVnrType       894\n",
      "MasVnrArea        15\n",
      "BsmtQual          44\n",
      "BsmtCond          45\n",
      "BsmtExposure      44\n",
      "BsmtFinType1      42\n",
      "BsmtFinSF1         1\n",
      "BsmtFinType2      42\n",
      "BsmtFinSF2         1\n",
      "BsmtUnfSF          1\n",
      "TotalBsmtSF        1\n",
      "BsmtFullBath       2\n",
      "BsmtHalfBath       2\n",
      "KitchenQual        1\n",
      "Functional         2\n",
      "FireplaceQu      730\n",
      "GarageType        76\n",
      "GarageYrBlt       78\n",
      "GarageFinish      78\n",
      "GarageCars         1\n",
      "GarageArea         1\n",
      "GarageQual        78\n",
      "GarageCond        78\n",
      "PoolQC          1456\n",
      "Fence           1169\n",
      "MiscFeature     1408\n",
      "SaleType           1\n",
      "dtype: int64\n"
     ]
    }
   ],
   "source": [
    "# Checking for missing values in the training dataset\n",
    "missing_values_train = train_df.isnull().sum()\n",
    "missing_values_train = missing_values_train[missing_values_train > 0]\n",
    "print(\"Missing values in the training dataset:\")\n",
    "print(missing_values_train)\n",
    "\n",
    "# Checking for missing values in the test dataset\n",
    "missing_values_test = test_df.isnull().sum()\n",
    "missing_values_test = missing_values_test[missing_values_test > 0]\n",
    "print(\"\\nMissing values in the test dataset:\")\n",
    "print(missing_values_test)"
   ]
  },
  {
   "cell_type": "code",
   "execution_count": 3,
   "id": "2cc7d08d",
   "metadata": {
    "execution": {
     "iopub.execute_input": "2024-07-09T05:30:50.985173Z",
     "iopub.status.busy": "2024-07-09T05:30:50.984786Z",
     "iopub.status.idle": "2024-07-09T05:30:51.117681Z",
     "shell.execute_reply": "2024-07-09T05:30:51.116401Z"
    },
    "papermill": {
     "duration": 0.146213,
     "end_time": "2024-07-09T05:30:51.120393",
     "exception": false,
     "start_time": "2024-07-09T05:30:50.974180",
     "status": "completed"
    },
    "tags": []
   },
   "outputs": [
    {
     "name": "stdout",
     "output_type": "stream",
     "text": [
      "Missing values in train set after filling:\n",
      "0\n",
      "\n",
      "Missing values in test set after filling:\n",
      "0\n"
     ]
    }
   ],
   "source": [
    "import pandas as pd\n",
    "\n",
    "# Load data\n",
    "train = pd.read_csv('/kaggle/input/house-prices-regression-techniques/train.csv')\n",
    "test = pd.read_csv('/kaggle/input/house-prices-regression-techniques/test.csv')\n",
    "# Handling missing values in train set\n",
    "train['LotFrontage'].fillna(train['LotFrontage'].median(), inplace=True)\n",
    "train['Alley'].fillna(\"None\", inplace=True)\n",
    "train['MasVnrType'].fillna(train['MasVnrType'].mode()[0], inplace=True)\n",
    "train['MasVnrArea'].fillna(0, inplace=True)\n",
    "train['BsmtQual'].fillna(\"None\", inplace=True)\n",
    "train['BsmtCond'].fillna(\"None\", inplace=True)\n",
    "train['BsmtExposure'].fillna(\"None\", inplace=True)\n",
    "train['BsmtFinType1'].fillna(\"None\", inplace=True)\n",
    "train['BsmtFinType2'].fillna(\"None\", inplace=True)\n",
    "train['Electrical'].fillna(train['Electrical'].mode()[0], inplace=True)\n",
    "train['FireplaceQu'].fillna(\"None\", inplace=True)\n",
    "train['GarageType'].fillna(train['GarageType'].mode()[0], inplace=True)\n",
    "train['GarageYrBlt'].fillna(0, inplace=True)\n",
    "train['GarageFinish'].fillna(\"None\", inplace=True)\n",
    "train['GarageQual'].fillna(\"None\", inplace=True)\n",
    "train['GarageCond'].fillna(\"None\", inplace=True)\n",
    "train['PoolQC'].fillna(\"None\", inplace=True)\n",
    "train['Fence'].fillna(\"None\", inplace=True)\n",
    "train['MiscFeature'].fillna(\"None\", inplace=True)\n",
    "\n",
    "# Handling missing values in test set\n",
    "test['MSZoning'].fillna(test['MSZoning'].mode()[0], inplace=True)\n",
    "test['LotFrontage'].fillna(test['LotFrontage'].median(), inplace=True)\n",
    "test['Alley'].fillna(\"None\", inplace=True)\n",
    "test['Utilities'].fillna(test['Utilities'].mode()[0], inplace=True)\n",
    "test['Exterior1st'].fillna(test['Exterior1st'].mode()[0], inplace=True)\n",
    "test['Exterior2nd'].fillna(test['Exterior2nd'].mode()[0], inplace=True)\n",
    "test['MasVnrType'].fillna(test['MasVnrType'].mode()[0], inplace=True)\n",
    "test['MasVnrArea'].fillna(0, inplace=True)\n",
    "test['BsmtQual'].fillna(\"None\", inplace=True)\n",
    "test['BsmtCond'].fillna(\"None\", inplace=True)\n",
    "test['BsmtExposure'].fillna(\"None\", inplace=True)\n",
    "test['BsmtFinType1'].fillna(\"None\", inplace=True)\n",
    "test['BsmtFinSF1'].fillna(0, inplace=True)\n",
    "test['BsmtFinType2'].fillna(\"None\", inplace=True)\n",
    "test['BsmtFinSF2'].fillna(0, inplace=True)\n",
    "test['BsmtUnfSF'].fillna(0, inplace=True)\n",
    "test['TotalBsmtSF'].fillna(0, inplace=True)\n",
    "test['BsmtFullBath'].fillna(0, inplace=True)\n",
    "test['BsmtHalfBath'].fillna(0, inplace=True)\n",
    "test['KitchenQual'].fillna(test['KitchenQual'].mode()[0], inplace=True)\n",
    "test['Functional'].fillna(test['Functional'].mode()[0], inplace=True)\n",
    "test['FireplaceQu'].fillna(\"None\", inplace=True)\n",
    "test['GarageType'].fillna(test['GarageType'].mode()[0], inplace=True)\n",
    "test['GarageYrBlt'].fillna(0, inplace=True)\n",
    "test['GarageFinish'].fillna(\"None\", inplace=True)\n",
    "test['GarageCars'].fillna(0, inplace=True)\n",
    "test['GarageArea'].fillna(0, inplace=True)\n",
    "test['GarageQual'].fillna(\"None\", inplace=True)\n",
    "test['GarageCond'].fillna(\"None\", inplace=True)\n",
    "test['PoolQC'].fillna(\"None\", inplace=True)\n",
    "test['Fence'].fillna(\"None\", inplace=True)\n",
    "test['MiscFeature'].fillna(\"None\", inplace=True)\n",
    "test['SaleType'].fillna(test['SaleType'].mode()[0], inplace=True)\n",
    "\n",
    "# Verify that there are no more missing values\n",
    "print(\"Missing values in train set after filling:\")\n",
    "print(train.isnull().sum().sum())\n",
    "\n",
    "print(\"\\nMissing values in test set after filling:\")\n",
    "print(test.isnull().sum().sum())\n"
   ]
  },
  {
   "cell_type": "markdown",
   "id": "f0058b49",
   "metadata": {
    "papermill": {
     "duration": 0.008928,
     "end_time": "2024-07-09T05:30:51.138719",
     "exception": false,
     "start_time": "2024-07-09T05:30:51.129791",
     "status": "completed"
    },
    "tags": []
   },
   "source": [
    "## 2.2. Item Weight Distribution"
   ]
  },
  {
   "cell_type": "code",
   "execution_count": 4,
   "id": "e8ef7be7",
   "metadata": {
    "execution": {
     "iopub.execute_input": "2024-07-09T05:30:51.159342Z",
     "iopub.status.busy": "2024-07-09T05:30:51.158910Z",
     "iopub.status.idle": "2024-07-09T05:30:51.657950Z",
     "shell.execute_reply": "2024-07-09T05:30:51.656702Z"
    },
    "papermill": {
     "duration": 0.512636,
     "end_time": "2024-07-09T05:30:51.660707",
     "exception": false,
     "start_time": "2024-07-09T05:30:51.148071",
     "status": "completed"
    },
    "tags": []
   },
   "outputs": [
    {
     "data": {
      "image/png": "[encoded data removed]",
      "text/plain": [
       "<Figure size 1000x600 with 1 Axes>"
      ]
     },
     "metadata": {},
     "output_type": "display_data"
    }
   ],
   "source": [
    "# Visualizing the distribution of LotFrontage\n",
    "plt.figure(figsize=(10, 6))\n",
    "sns.histplot(train_df['LotFrontage'], kde=True, bins=30)\n",
    "plt.title('Distribution of LotFrontage')\n",
    "plt.xlabel('LotFrontage')\n",
    "plt.ylabel('Frequency')\n",
    "plt.show()"
   ]
  },
  {
   "cell_type": "markdown",
   "id": "611d4416",
   "metadata": {
    "papermill": {
     "duration": 0.00966,
     "end_time": "2024-07-09T05:30:51.680298",
     "exception": false,
     "start_time": "2024-07-09T05:30:51.670638",
     "status": "completed"
    },
    "tags": []
   },
   "source": [
    "## 2.3. Item Visibility Distribution"
   ]
  },
  {
   "cell_type": "code",
   "execution_count": 5,
   "id": "cd1ecc3c",
   "metadata": {
    "execution": {
     "iopub.execute_input": "2024-07-09T05:30:51.702260Z",
     "iopub.status.busy": "2024-07-09T05:30:51.701867Z",
     "iopub.status.idle": "2024-07-09T05:30:52.131913Z",
     "shell.execute_reply": "2024-07-09T05:30:52.130753Z"
    },
    "papermill": {
     "duration": 0.444172,
     "end_time": "2024-07-09T05:30:52.134633",
     "exception": false,
     "start_time": "2024-07-09T05:30:51.690461",
     "status": "completed"
    },
    "tags": []
   },
   "outputs": [
    {
     "data": {
      "image/png": "[encoded data removed]",
      "text/plain": [
       "<Figure size 1000x600 with 1 Axes>"
      ]
     },
     "metadata": {},
     "output_type": "display_data"
    }
   ],
   "source": [
    "# Visualizing the distribution of LotArea\n",
    "plt.figure(figsize=(10, 6))\n",
    "sns.histplot(train_df['LotArea'], kde=True, bins=30)\n",
    "plt.title('Distribution of LotArea')\n",
    "plt.xlabel('LotArea')\n",
    "plt.ylabel('Frequency')\n",
    "plt.show()"
   ]
  },
  {
   "cell_type": "markdown",
   "id": "e89e2e5d",
   "metadata": {
    "papermill": {
     "duration": 0.01016,
     "end_time": "2024-07-09T05:30:52.155243",
     "exception": false,
     "start_time": "2024-07-09T05:30:52.145083",
     "status": "completed"
    },
    "tags": []
   },
   "source": [
    "## 2.4. Encoding the categorical features"
   ]
  },
  {
   "cell_type": "code",
   "execution_count": 6,
   "id": "b4394003",
   "metadata": {
    "execution": {
     "iopub.execute_input": "2024-07-09T05:30:52.178226Z",
     "iopub.status.busy": "2024-07-09T05:30:52.177837Z",
     "iopub.status.idle": "2024-07-09T05:30:52.191872Z",
     "shell.execute_reply": "2024-07-09T05:30:52.190709Z"
    },
    "papermill": {
     "duration": 0.028911,
     "end_time": "2024-07-09T05:30:52.194761",
     "exception": false,
     "start_time": "2024-07-09T05:30:52.165850",
     "status": "completed"
    },
    "tags": []
   },
   "outputs": [],
   "source": [
    "categorical_cols = [col for col in train.columns if train[col].dtype == \"object\"]\n",
    "numerical_cols = [col for col in train.columns if train[col].dtype in ['int64', 'float64']]\n",
    "\n",
    "# Exclude target column from features\n",
    "numerical_cols.remove('SalePrice')\n",
    "\n",
    "# Preprocessing for numerical data\n",
    "numerical_transformer = Pipeline(steps=[\n",
    "    ('imputer', SimpleImputer(strategy='median')),\n",
    "    ('scaler', StandardScaler())\n",
    "])\n",
    "\n",
    "# Preprocessing for categorical data\n",
    "categorical_transformer = Pipeline(steps=[\n",
    "    ('imputer', SimpleImputer(strategy='most_frequent')),\n",
    "    ('onehot', OneHotEncoder(handle_unknown='ignore'))\n",
    "])\n",
    "\n",
    "# Bundle preprocessing for numerical and categorical data\n",
    "preprocessor = ColumnTransformer(\n",
    "    transformers=[\n",
    "        ('num', numerical_transformer, numerical_cols),\n",
    "        ('cat', categorical_transformer, categorical_cols)\n",
    "    ])\n",
    "def build_model(model):\n",
    "    return Pipeline(steps=[('preprocessor', preprocessor),\n",
    "                           ('model', model)])"
   ]
  },
  {
   "cell_type": "markdown",
   "id": "d68e6e68",
   "metadata": {
    "papermill": {
     "duration": 0.010132,
     "end_time": "2024-07-09T05:30:52.215573",
     "exception": false,
     "start_time": "2024-07-09T05:30:52.205441",
     "status": "completed"
    },
    "tags": []
   },
   "source": [
    "# 3. Model Building \n",
    "## 3.1. Feature Matrix creation"
   ]
  },
  {
   "cell_type": "code",
   "execution_count": 7,
   "id": "e2b0f843",
   "metadata": {
    "execution": {
     "iopub.execute_input": "2024-07-09T05:30:52.239999Z",
     "iopub.status.busy": "2024-07-09T05:30:52.239023Z",
     "iopub.status.idle": "2024-07-09T05:30:52.247906Z",
     "shell.execute_reply": "2024-07-09T05:30:52.246698Z"
    },
    "papermill": {
     "duration": 0.02457,
     "end_time": "2024-07-09T05:30:52.250683",
     "exception": false,
     "start_time": "2024-07-09T05:30:52.226113",
     "status": "completed"
    },
    "tags": []
   },
   "outputs": [],
   "source": [
    "X = train.drop(['SalePrice'], axis=1)\n",
    "y = train['SalePrice']\n",
    "X_test = test.copy()"
   ]
  },
  {
   "cell_type": "code",
   "execution_count": 8,
   "id": "0fdd29d4",
   "metadata": {
    "execution": {
     "iopub.execute_input": "2024-07-09T05:30:52.273612Z",
     "iopub.status.busy": "2024-07-09T05:30:52.273182Z",
     "iopub.status.idle": "2024-07-09T05:30:52.307668Z",
     "shell.execute_reply": "2024-07-09T05:30:52.306380Z"
    },
    "papermill": {
     "duration": 0.049188,
     "end_time": "2024-07-09T05:30:52.310344",
     "exception": false,
     "start_time": "2024-07-09T05:30:52.261156",
     "status": "completed"
    },
    "tags": []
   },
   "outputs": [
    {
     "data": {
      "text/html": [
       "<div>\n",
       "<style scoped>\n",
       "    .dataframe tbody tr th:only-of-type {\n",
       "        vertical-align: middle;\n",
       "    }\n",
       "\n",
       "    .dataframe tbody tr th {\n",
       "        vertical-align: top;\n",
       "    }\n",
       "\n",
       "    .dataframe thead th {\n",
       "        text-align: right;\n",
       "    }\n",
       "</style>\n",
       "<table border=\"1\" class=\"dataframe\">\n",
       "  <thead>\n",
       "    <tr style=\"text-align: right;\">\n",
       "      <th></th>\n",
       "      <th>Id</th>\n",
       "      <th>MSSubClass</th>\n",
       "      <th>MSZoning</th>\n",
       "      <th>LotFrontage</th>\n",
       "      <th>LotArea</th>\n",
       "      <th>Street</th>\n",
       "      <th>Alley</th>\n",
       "      <th>LotShape</th>\n",
       "      <th>LandContour</th>\n",
       "      <th>Utilities</th>\n",
       "      <th>...</th>\n",
       "      <th>ScreenPorch</th>\n",
       "      <th>PoolArea</th>\n",
       "      <th>PoolQC</th>\n",
       "      <th>Fence</th>\n",
       "      <th>MiscFeature</th>\n",
       "      <th>MiscVal</th>\n",
       "      <th>MoSold</th>\n",
       "      <th>YrSold</th>\n",
       "      <th>SaleType</th>\n",
       "      <th>SaleCondition</th>\n",
       "    </tr>\n",
       "  </thead>\n",
       "  <tbody>\n",
       "    <tr>\n",
       "      <th>0</th>\n",
       "      <td>1</td>\n",
       "      <td>60</td>\n",
       "      <td>RL</td>\n",
       "      <td>65.0</td>\n",
       "      <td>8450</td>\n",
       "      <td>Pave</td>\n",
       "      <td>None</td>\n",
       "      <td>Reg</td>\n",
       "      <td>Lvl</td>\n",
       "      <td>AllPub</td>\n",
       "      <td>...</td>\n",
       "      <td>0</td>\n",
       "      <td>0</td>\n",
       "      <td>None</td>\n",
       "      <td>None</td>\n",
       "      <td>None</td>\n",
       "      <td>0</td>\n",
       "      <td>2</td>\n",
       "      <td>2008</td>\n",
       "      <td>WD</td>\n",
       "      <td>Normal</td>\n",
       "    </tr>\n",
       "    <tr>\n",
       "      <th>1</th>\n",
       "      <td>2</td>\n",
       "      <td>20</td>\n",
       "      <td>RL</td>\n",
       "      <td>80.0</td>\n",
       "      <td>9600</td>\n",
       "      <td>Pave</td>\n",
       "      <td>None</td>\n",
       "      <td>Reg</td>\n",
       "      <td>Lvl</td>\n",
       "      <td>AllPub</td>\n",
       "      <td>...</td>\n",
       "      <td>0</td>\n",
       "      <td>0</td>\n",
       "      <td>None</td>\n",
       "      <td>None</td>\n",
       "      <td>None</td>\n",
       "      <td>0</td>\n",
       "      <td>5</td>\n",
       "      <td>2007</td>\n",
       "      <td>WD</td>\n",
       "      <td>Normal</td>\n",
       "    </tr>\n",
       "    <tr>\n",
       "      <th>2</th>\n",
       "      <td>3</td>\n",
       "      <td>60</td>\n",
       "      <td>RL</td>\n",
       "      <td>68.0</td>\n",
       "      <td>11250</td>\n",
       "      <td>Pave</td>\n",
       "      <td>None</td>\n",
       "      <td>IR1</td>\n",
       "      <td>Lvl</td>\n",
       "      <td>AllPub</td>\n",
       "      <td>...</td>\n",
       "      <td>0</td>\n",
       "      <td>0</td>\n",
       "      <td>None</td>\n",
       "      <td>None</td>\n",
       "      <td>None</td>\n",
       "      <td>0</td>\n",
       "      <td>9</td>\n",
       "      <td>2008</td>\n",
       "      <td>WD</td>\n",
       "      <td>Normal</td>\n",
       "    </tr>\n",
       "    <tr>\n",
       "      <th>3</th>\n",
       "      <td>4</td>\n",
       "      <td>70</td>\n",
       "      <td>RL</td>\n",
       "      <td>60.0</td>\n",
       "      <td>9550</td>\n",
       "      <td>Pave</td>\n",
       "      <td>None</td>\n",
       "      <td>IR1</td>\n",
       "      <td>Lvl</td>\n",
       "      <td>AllPub</td>\n",
       "      <td>...</td>\n",
       "      <td>0</td>\n",
       "      <td>0</td>\n",
       "      <td>None</td>\n",
       "      <td>None</td>\n",
       "      <td>None</td>\n",
       "      <td>0</td>\n",
       "      <td>2</td>\n",
       "      <td>2006</td>\n",
       "      <td>WD</td>\n",
       "      <td>Abnorml</td>\n",
       "    </tr>\n",
       "    <tr>\n",
       "      <th>4</th>\n",
       "      <td>5</td>\n",
       "      <td>60</td>\n",
       "      <td>RL</td>\n",
       "      <td>84.0</td>\n",
       "      <td>14260</td>\n",
       "      <td>Pave</td>\n",
       "      <td>None</td>\n",
       "      <td>IR1</td>\n",
       "      <td>Lvl</td>\n",
       "      <td>AllPub</td>\n",
       "      <td>...</td>\n",
       "      <td>0</td>\n",
       "      <td>0</td>\n",
       "      <td>None</td>\n",
       "      <td>None</td>\n",
       "      <td>None</td>\n",
       "      <td>0</td>\n",
       "      <td>12</td>\n",
       "      <td>2008</td>\n",
       "      <td>WD</td>\n",
       "      <td>Normal</td>\n",
       "    </tr>\n",
       "    <tr>\n",
       "      <th>...</th>\n",
       "      <td>...</td>\n",
       "      <td>...</td>\n",
       "      <td>...</td>\n",
       "      <td>...</td>\n",
       "      <td>...</td>\n",
       "      <td>...</td>\n",
       "      <td>...</td>\n",
       "      <td>...</td>\n",
       "      <td>...</td>\n",
       "      <td>...</td>\n",
       "      <td>...</td>\n",
       "      <td>...</td>\n",
       "      <td>...</td>\n",
       "      <td>...</td>\n",
       "      <td>...</td>\n",
       "      <td>...</td>\n",
       "      <td>...</td>\n",
       "      <td>...</td>\n",
       "      <td>...</td>\n",
       "      <td>...</td>\n",
       "      <td>...</td>\n",
       "    </tr>\n",
       "    <tr>\n",
       "      <th>1455</th>\n",
       "      <td>1456</td>\n",
       "      <td>60</td>\n",
       "      <td>RL</td>\n",
       "      <td>62.0</td>\n",
       "      <td>7917</td>\n",
       "      <td>Pave</td>\n",
       "      <td>None</td>\n",
       "      <td>Reg</td>\n",
       "      <td>Lvl</td>\n",
       "      <td>AllPub</td>\n",
       "      <td>...</td>\n",
       "      <td>0</td>\n",
       "      <td>0</td>\n",
       "      <td>None</td>\n",
       "      <td>None</td>\n",
       "      <td>None</td>\n",
       "      <td>0</td>\n",
       "      <td>8</td>\n",
       "      <td>2007</td>\n",
       "      <td>WD</td>\n",
       "      <td>Normal</td>\n",
       "    </tr>\n",
       "    <tr>\n",
       "      <th>1456</th>\n",
       "      <td>1457</td>\n",
       "      <td>20</td>\n",
       "      <td>RL</td>\n",
       "      <td>85.0</td>\n",
       "      <td>13175</td>\n",
       "      <td>Pave</td>\n",
       "      <td>None</td>\n",
       "      <td>Reg</td>\n",
       "      <td>Lvl</td>\n",
       "      <td>AllPub</td>\n",
       "      <td>...</td>\n",
       "      <td>0</td>\n",
       "      <td>0</td>\n",
       "      <td>None</td>\n",
       "      <td>MnPrv</td>\n",
       "      <td>None</td>\n",
       "      <td>0</td>\n",
       "      <td>2</td>\n",
       "      <td>2010</td>\n",
       "      <td>WD</td>\n",
       "      <td>Normal</td>\n",
       "    </tr>\n",
       "    <tr>\n",
       "      <th>1457</th>\n",
       "      <td>1458</td>\n",
       "      <td>70</td>\n",
       "      <td>RL</td>\n",
       "      <td>66.0</td>\n",
       "      <td>9042</td>\n",
       "      <td>Pave</td>\n",
       "      <td>None</td>\n",
       "      <td>Reg</td>\n",
       "      <td>Lvl</td>\n",
       "      <td>AllPub</td>\n",
       "      <td>...</td>\n",
       "      <td>0</td>\n",
       "      <td>0</td>\n",
       "      <td>None</td>\n",
       "      <td>GdPrv</td>\n",
       "      <td>Shed</td>\n",
       "      <td>2500</td>\n",
       "      <td>5</td>\n",
       "      <td>2010</td>\n",
       "      <td>WD</td>\n",
       "      <td>Normal</td>\n",
       "    </tr>\n",
       "    <tr>\n",
       "      <th>1458</th>\n",
       "      <td>1459</td>\n",
       "      <td>20</td>\n",
       "      <td>RL</td>\n",
       "      <td>68.0</td>\n",
       "      <td>9717</td>\n",
       "      <td>Pave</td>\n",
       "      <td>None</td>\n",
       "      <td>Reg</td>\n",
       "      <td>Lvl</td>\n",
       "      <td>AllPub</td>\n",
       "      <td>...</td>\n",
       "      <td>0</td>\n",
       "      <td>0</td>\n",
       "      <td>None</td>\n",
       "      <td>None</td>\n",
       "      <td>None</td>\n",
       "      <td>0</td>\n",
       "      <td>4</td>\n",
       "      <td>2010</td>\n",
       "      <td>WD</td>\n",
       "      <td>Normal</td>\n",
       "    </tr>\n",
       "    <tr>\n",
       "      <th>1459</th>\n",
       "      <td>1460</td>\n",
       "      <td>20</td>\n",
       "      <td>RL</td>\n",
       "      <td>75.0</td>\n",
       "      <td>9937</td>\n",
       "      <td>Pave</td>\n",
       "      <td>None</td>\n",
       "      <td>Reg</td>\n",
       "      <td>Lvl</td>\n",
       "      <td>AllPub</td>\n",
       "      <td>...</td>\n",
       "      <td>0</td>\n",
       "      <td>0</td>\n",
       "      <td>None</td>\n",
       "      <td>None</td>\n",
       "      <td>None</td>\n",
       "      <td>0</td>\n",
       "      <td>6</td>\n",
       "      <td>2008</td>\n",
       "      <td>WD</td>\n",
       "      <td>Normal</td>\n",
       "    </tr>\n",
       "  </tbody>\n",
       "</table>\n",
       "<p>1460 rows × 80 columns</p>\n",
       "</div>"
      ],
      "text/plain": [
       "        Id  MSSubClass MSZoning  LotFrontage  LotArea Street Alley LotShape  \\\n",
       "0        1          60       RL         65.0     8450   Pave  None      Reg   \n",
       "1        2          20       RL         80.0     9600   Pave  None      Reg   \n",
       "2        3          60       RL         68.0    11250   Pave  None      IR1   \n",
       "3        4          70       RL         60.0     9550   Pave  None      IR1   \n",
       "4        5          60       RL         84.0    14260   Pave  None      IR1   \n",
       "...    ...         ...      ...          ...      ...    ...   ...      ...   \n",
       "1455  1456          60       RL         62.0     7917   Pave  None      Reg   \n",
       "1456  1457          20       RL         85.0    13175   Pave  None      Reg   \n",
       "1457  1458          70       RL         66.0     9042   Pave  None      Reg   \n",
       "1458  1459          20       RL         68.0     9717   Pave  None      Reg   \n",
       "1459  1460          20       RL         75.0     9937   Pave  None      Reg   \n",
       "\n",
       "     LandContour Utilities  ... ScreenPorch PoolArea PoolQC  Fence  \\\n",
       "0            Lvl    AllPub  ...           0        0   None   None   \n",
       "1            Lvl    AllPub  ...           0        0   None   None   \n",
       "2            Lvl    AllPub  ...           0        0   None   None   \n",
       "3            Lvl    AllPub  ...           0        0   None   None   \n",
       "4            Lvl    AllPub  ...           0        0   None   None   \n",
       "...          ...       ...  ...         ...      ...    ...    ...   \n",
       "1455         Lvl    AllPub  ...           0        0   None   None   \n",
       "1456         Lvl    AllPub  ...           0        0   None  MnPrv   \n",
       "1457         Lvl    AllPub  ...           0        0   None  GdPrv   \n",
       "1458         Lvl    AllPub  ...           0        0   None   None   \n",
       "1459         Lvl    AllPub  ...           0        0   None   None   \n",
       "\n",
       "     MiscFeature MiscVal MoSold  YrSold  SaleType  SaleCondition  \n",
       "0           None       0      2    2008        WD         Normal  \n",
       "1           None       0      5    2007        WD         Normal  \n",
       "2           None       0      9    2008        WD         Normal  \n",
       "3           None       0      2    2006        WD        Abnorml  \n",
       "4           None       0     12    2008        WD         Normal  \n",
       "...          ...     ...    ...     ...       ...            ...  \n",
       "1455        None       0      8    2007        WD         Normal  \n",
       "1456        None       0      2    2010        WD         Normal  \n",
       "1457        Shed    2500      5    2010        WD         Normal  \n",
       "1458        None       0      4    2010        WD         Normal  \n",
       "1459        None       0      6    2008        WD         Normal  \n",
       "\n",
       "[1460 rows x 80 columns]"
      ]
     },
     "execution_count": 8,
     "metadata": {},
     "output_type": "execute_result"
    }
   ],
   "source": [
    "X"
   ]
  },
  {
   "cell_type": "code",
   "execution_count": 9,
   "id": "95a2728c",
   "metadata": {
    "execution": {
     "iopub.execute_input": "2024-07-09T05:30:52.335408Z",
     "iopub.status.busy": "2024-07-09T05:30:52.334971Z",
     "iopub.status.idle": "2024-07-09T05:30:52.344132Z",
     "shell.execute_reply": "2024-07-09T05:30:52.343039Z"
    },
    "papermill": {
     "duration": 0.024937,
     "end_time": "2024-07-09T05:30:52.346735",
     "exception": false,
     "start_time": "2024-07-09T05:30:52.321798",
     "status": "completed"
    },
    "tags": []
   },
   "outputs": [
    {
     "data": {
      "text/plain": [
       "0       208500\n",
       "1       181500\n",
       "2       223500\n",
       "3       140000\n",
       "4       250000\n",
       "         ...  \n",
       "1455    175000\n",
       "1456    210000\n",
       "1457    266500\n",
       "1458    142125\n",
       "1459    147500\n",
       "Name: SalePrice, Length: 1460, dtype: int64"
      ]
     },
     "execution_count": 9,
     "metadata": {},
     "output_type": "execute_result"
    }
   ],
   "source": [
    "y"
   ]
  },
  {
   "cell_type": "markdown",
   "id": "b5da01da",
   "metadata": {
    "papermill": {
     "duration": 0.011287,
     "end_time": "2024-07-09T05:30:52.369559",
     "exception": false,
     "start_time": "2024-07-09T05:30:52.358272",
     "status": "completed"
    },
    "tags": []
   },
   "source": [
    "## 3.2. Data Standardization"
   ]
  },
  {
   "cell_type": "code",
   "execution_count": 10,
   "id": "84eee62f",
   "metadata": {
    "execution": {
     "iopub.execute_input": "2024-07-09T05:30:52.394149Z",
     "iopub.status.busy": "2024-07-09T05:30:52.393756Z",
     "iopub.status.idle": "2024-07-09T05:30:52.443653Z",
     "shell.execute_reply": "2024-07-09T05:30:52.442402Z"
    },
    "papermill": {
     "duration": 0.065835,
     "end_time": "2024-07-09T05:30:52.446706",
     "exception": false,
     "start_time": "2024-07-09T05:30:52.380871",
     "status": "completed"
    },
    "tags": []
   },
   "outputs": [
    {
     "name": "stdout",
     "output_type": "stream",
     "text": [
      "\n",
      "Train set numerical features mean after standardization:\n",
      "Id               0.000000e+00\n",
      "MSSubClass      -8.455945e-17\n",
      "LotFrontage      2.798370e-16\n",
      "LotArea         -5.840077e-17\n",
      "OverallQual      1.387018e-16\n",
      "OverallCond      3.540547e-16\n",
      "YearBuilt        1.046347e-15\n",
      "YearRemodAdd     4.496860e-15\n",
      "MasVnrArea      -3.893385e-17\n",
      "BsmtFinSF1      -2.433366e-17\n",
      "BsmtFinSF2      -3.406712e-17\n",
      "BsmtUnfSF       -6.600504e-17\n",
      "TotalBsmtSF      2.457699e-16\n",
      "1stFlrSF         6.509253e-17\n",
      "2ndFlrSF        -1.825024e-17\n",
      "LowQualFinSF     1.216683e-17\n",
      "GrLivArea       -1.277517e-16\n",
      "BsmtFullBath     2.311697e-17\n",
      "BsmtHalfBath     2.433366e-17\n",
      "FullBath         1.180182e-16\n",
      "HalfBath         2.083569e-17\n",
      "BedroomAbvGr     2.141362e-16\n",
      "KitchenAbvGr     4.501726e-16\n",
      "TotRmsAbvGrd    -1.022014e-16\n",
      "Fireplaces      -4.866731e-18\n",
      "GarageYrBlt      1.764190e-16\n",
      "GarageCars       1.216683e-16\n",
      "GarageArea      -1.216683e-17\n",
      "WoodDeckSF       5.596741e-17\n",
      "OpenPorchSF      3.041707e-17\n",
      "EnclosedPorch   -2.311697e-17\n",
      "3SsnPorch        4.866731e-18\n",
      "ScreenPorch      5.475072e-17\n",
      "PoolArea         1.946692e-17\n",
      "MiscVal         -2.676702e-17\n",
      "MoSold           7.543433e-17\n",
      "YrSold           3.567436e-14\n",
      "dtype: float64\n",
      "\n",
      "Train set numerical features std after standardization:\n",
      "Id               1.000343\n",
      "MSSubClass       1.000343\n",
      "LotFrontage      1.000343\n",
      "LotArea          1.000343\n",
      "OverallQual      1.000343\n",
      "OverallCond      1.000343\n",
      "YearBuilt        1.000343\n",
      "YearRemodAdd     1.000343\n",
      "MasVnrArea       1.000343\n",
      "BsmtFinSF1       1.000343\n",
      "BsmtFinSF2       1.000343\n",
      "BsmtUnfSF        1.000343\n",
      "TotalBsmtSF      1.000343\n",
      "1stFlrSF         1.000343\n",
      "2ndFlrSF         1.000343\n",
      "LowQualFinSF     1.000343\n",
      "GrLivArea        1.000343\n",
      "BsmtFullBath     1.000343\n",
      "BsmtHalfBath     1.000343\n",
      "FullBath         1.000343\n",
      "HalfBath         1.000343\n",
      "BedroomAbvGr     1.000343\n",
      "KitchenAbvGr     1.000343\n",
      "TotRmsAbvGrd     1.000343\n",
      "Fireplaces       1.000343\n",
      "GarageYrBlt      1.000343\n",
      "GarageCars       1.000343\n",
      "GarageArea       1.000343\n",
      "WoodDeckSF       1.000343\n",
      "OpenPorchSF      1.000343\n",
      "EnclosedPorch    1.000343\n",
      "3SsnPorch        1.000343\n",
      "ScreenPorch      1.000343\n",
      "PoolArea         1.000343\n",
      "MiscVal          1.000343\n",
      "MoSold           1.000343\n",
      "YrSold           1.000343\n",
      "dtype: float64\n"
     ]
    }
   ],
   "source": [
    "# Standardize numerical features\n",
    "numerical_features = train.select_dtypes(include=['int64', 'float64']).columns\n",
    "numerical_features = numerical_features.drop('SalePrice')\n",
    "\n",
    "scaler = StandardScaler()\n",
    "\n",
    "# Fit and transform the train set\n",
    "train[numerical_features] = scaler.fit_transform(train[numerical_features])\n",
    "\n",
    "# Transform the test set\n",
    "common_numerical_features = numerical_features.intersection(test.columns)\n",
    "test[common_numerical_features] = scaler.transform(test[common_numerical_features])\n",
    "\n",
    "# Verify the standardization (mean should be close to 0 and std should be close to 1)\n",
    "print(\"\\nTrain set numerical features mean after standardization:\")\n",
    "print(train[numerical_features].mean())\n",
    "\n",
    "print(\"\\nTrain set numerical features std after standardization:\")\n",
    "print(train[numerical_features].std())"
   ]
  },
  {
   "cell_type": "markdown",
   "id": "1355230c",
   "metadata": {
    "papermill": {
     "duration": 0.011063,
     "end_time": "2024-07-09T05:30:52.469304",
     "exception": false,
     "start_time": "2024-07-09T05:30:52.458241",
     "status": "completed"
    },
    "tags": []
   },
   "source": [
    "## 3.3. Train-Test Split"
   ]
  },
  {
   "cell_type": "code",
   "execution_count": 11,
   "id": "6eb8f8ae",
   "metadata": {
    "execution": {
     "iopub.execute_input": "2024-07-09T05:30:52.494323Z",
     "iopub.status.busy": "2024-07-09T05:30:52.493792Z",
     "iopub.status.idle": "2024-07-09T05:30:52.505338Z",
     "shell.execute_reply": "2024-07-09T05:30:52.504152Z"
    },
    "papermill": {
     "duration": 0.027189,
     "end_time": "2024-07-09T05:30:52.508000",
     "exception": false,
     "start_time": "2024-07-09T05:30:52.480811",
     "status": "completed"
    },
    "tags": []
   },
   "outputs": [],
   "source": [
    "from sklearn.model_selection import train_test_split, RandomizedSearchCV\n",
    "\n",
    "X_train, X_valid, y_train, y_valid = train_test_split(X, y, test_size=0.2, random_state=42)"
   ]
  },
  {
   "cell_type": "code",
   "execution_count": 12,
   "id": "a850ef43",
   "metadata": {
    "execution": {
     "iopub.execute_input": "2024-07-09T05:30:52.533072Z",
     "iopub.status.busy": "2024-07-09T05:30:52.532626Z",
     "iopub.status.idle": "2024-07-09T05:30:52.538712Z",
     "shell.execute_reply": "2024-07-09T05:30:52.537506Z"
    },
    "papermill": {
     "duration": 0.021934,
     "end_time": "2024-07-09T05:30:52.541515",
     "exception": false,
     "start_time": "2024-07-09T05:30:52.519581",
     "status": "completed"
    },
    "tags": []
   },
   "outputs": [
    {
     "name": "stdout",
     "output_type": "stream",
     "text": [
      "(1460, 80) (1168, 80) (292, 80)\n"
     ]
    }
   ],
   "source": [
    "print(X.shape, X_train.shape, X_valid.shape)"
   ]
  },
  {
   "cell_type": "code",
   "execution_count": 13,
   "id": "a41923fb",
   "metadata": {
    "execution": {
     "iopub.execute_input": "2024-07-09T05:30:52.566967Z",
     "iopub.status.busy": "2024-07-09T05:30:52.566496Z",
     "iopub.status.idle": "2024-07-09T05:30:52.572876Z",
     "shell.execute_reply": "2024-07-09T05:30:52.571566Z"
    },
    "papermill": {
     "duration": 0.022506,
     "end_time": "2024-07-09T05:30:52.575624",
     "exception": false,
     "start_time": "2024-07-09T05:30:52.553118",
     "status": "completed"
    },
    "tags": []
   },
   "outputs": [
    {
     "name": "stdout",
     "output_type": "stream",
     "text": [
      "(1460,) (1168,) (292,)\n"
     ]
    }
   ],
   "source": [
    "print(y.shape, y_train.shape, y_valid.shape)"
   ]
  },
  {
   "cell_type": "markdown",
   "id": "ff6fb481",
   "metadata": {
    "papermill": {
     "duration": 0.011416,
     "end_time": "2024-07-09T05:30:52.599026",
     "exception": false,
     "start_time": "2024-07-09T05:30:52.587610",
     "status": "completed"
    },
    "tags": []
   },
   "source": [
    "## 3.4. Model Comparison"
   ]
  },
  {
   "cell_type": "code",
   "execution_count": 14,
   "id": "001e2733",
   "metadata": {
    "execution": {
     "iopub.execute_input": "2024-07-09T05:30:52.624373Z",
     "iopub.status.busy": "2024-07-09T05:30:52.623934Z",
     "iopub.status.idle": "2024-07-09T05:31:09.852435Z",
     "shell.execute_reply": "2024-07-09T05:31:09.850845Z"
    },
    "papermill": {
     "duration": 17.2447,
     "end_time": "2024-07-09T05:31:09.855466",
     "exception": false,
     "start_time": "2024-07-09T05:30:52.610766",
     "status": "completed"
    },
    "tags": []
   },
   "outputs": [
    {
     "name": "stdout",
     "output_type": "stream",
     "text": [
      "Linear Regression: RMSE = 65431.980889467246\n",
      "Ridge Regression: RMSE = 29801.51170659382\n",
      "Lasso Regression: RMSE = 29780.525296243024\n",
      "Random Forest: RMSE = 29370.200691146714\n",
      "Gradient Boosting: RMSE = 27969.38197304077\n"
     ]
    }
   ],
   "source": [
    "models = {\n",
    "    'Linear Regression': LinearRegression(),\n",
    "    'Ridge Regression': Ridge(),\n",
    "    'Lasso Regression': Lasso(),\n",
    "    'Random Forest': RandomForestRegressor(),\n",
    "    'Gradient Boosting': GradientBoostingRegressor()\n",
    "}\n",
    "\n",
    "results = {}\n",
    "for name, model in models.items():\n",
    "    model_pipeline = build_model(model)\n",
    "    model_pipeline.fit(X_train, y_train)\n",
    "    y_pred = model_pipeline.predict(X_valid)\n",
    "    rmse = np.sqrt(mean_squared_error(y_valid, y_pred))\n",
    "    results[name] = rmse\n",
    "\n",
    "# Print the results\n",
    "for name, rmse in results.items():\n",
    "    print(f\"{name}: RMSE = {rmse}\")\n",
    "\n",
    "# Select the best model\n",
    "best_model_name = min(results, key=results.get)\n",
    "best_model = build_model(models[best_model_name])\n",
    "\n",
    "# Retrain the best model on the full training set\n",
    "best_model.fit(X, y)\n",
    "\n",
    "# Make predictions on the test set\n",
    "test_preds = best_model.predict(X_test)\n",
    "\n",
    "# Prepare the submission file\n",
    "submission = pd.DataFrame({\n",
    "    'Id': test['Id'],\n",
    "    'SalePrice': test_preds\n",
    "})\n",
    "\n",
    "submission.to_csv('submission.csv', index=False)"
   ]
  },
  {
   "cell_type": "code",
   "execution_count": 15,
   "id": "a3aba8ad",
   "metadata": {
    "execution": {
     "iopub.execute_input": "2024-07-09T05:31:09.880908Z",
     "iopub.status.busy": "2024-07-09T05:31:09.880494Z",
     "iopub.status.idle": "2024-07-09T05:31:09.944512Z",
     "shell.execute_reply": "2024-07-09T05:31:09.942875Z"
    },
    "papermill": {
     "duration": 0.080026,
     "end_time": "2024-07-09T05:31:09.947276",
     "exception": false,
     "start_time": "2024-07-09T05:31:09.867250",
     "status": "completed"
    },
    "tags": []
   },
   "outputs": [
    {
     "name": "stdout",
     "output_type": "stream",
     "text": [
      "   Id     SalePrice\n",
      "0   1  40051.658133\n",
      "1   1  51483.960832\n",
      "2   1  59965.728925\n",
      "3   1  62084.120247\n",
      "4   1  48753.777585\n"
     ]
    }
   ],
   "source": [
    "# Make predictions on the test set\n",
    "# Ensure 'Id' column is of integer type and remove any decimal points\n",
    "test['Id'] = test['Id'].astype(int)\n",
    "\n",
    "# Create predictions for the test set\n",
    "predictions = best_model.predict(test[numerical_cols + categorical_cols])\n",
    "\n",
    "# Prepare the submission dataframe\n",
    "submission = pd.DataFrame({\n",
    "    'Id': test['Id'],  # Ensure 'Id' is of type int\n",
    "    'SalePrice': predictions\n",
    "})\n",
    "\n",
    "# Save the submission dataframe to a CSV file\n",
    "submission.to_csv('/kaggle/working/submission.csv', index=False)\n",
    "\n",
    "# Verify the submission file\n",
    "print(submission.head())"
   ]
  },
  {
   "cell_type": "markdown",
   "id": "67693840",
   "metadata": {
    "papermill": {
     "duration": 0.011975,
     "end_time": "2024-07-09T05:31:09.971804",
     "exception": false,
     "start_time": "2024-07-09T05:31:09.959829",
     "status": "completed"
    },
    "tags": []
   },
   "source": [
    "# 4. Visual Insights"
   ]
  },
  {
   "cell_type": "code",
   "execution_count": 16,
   "id": "350a3c7d",
   "metadata": {
    "execution": {
     "iopub.execute_input": "2024-07-09T05:31:09.997801Z",
     "iopub.status.busy": "2024-07-09T05:31:09.997391Z",
     "iopub.status.idle": "2024-07-09T05:31:10.653000Z",
     "shell.execute_reply": "2024-07-09T05:31:10.651898Z"
    },
    "papermill": {
     "duration": 0.672164,
     "end_time": "2024-07-09T05:31:10.655990",
     "exception": false,
     "start_time": "2024-07-09T05:31:09.983826",
     "status": "completed"
    },
    "tags": []
   },
   "outputs": [
    {
     "data": {
      "image/png": "[encoded data removed]",
      "text/plain": [
       "<Figure size 1000x800 with 1 Axes>"
      ]
     },
     "metadata": {},
     "output_type": "display_data"
    }
   ],
   "source": [
    "import matplotlib.pyplot as plt\n",
    "import seaborn as sns\n",
    "import pandas as pd\n",
    "\n",
    "# Visual Insights: Feature Importance Plot for the Best Model (if it supports it)\n",
    "if hasattr(best_model.named_steps['model'], 'feature_importances_'):\n",
    "    importances = best_model.named_steps['model'].feature_importances_\n",
    "    features = numerical_cols + list(best_model.named_steps['preprocessor'].transformers_[1][1].named_steps['onehot'].get_feature_names_out(categorical_cols))\n",
    "    feature_importances = pd.Series(importances, index=features).sort_values(ascending=False)\n",
    "\n",
    "    top_n = 20  # Number of top features to display\n",
    "    top_features = feature_importances.head(top_n)\n",
    "\n",
    "    plt.figure(figsize=(10, 8))  # Increase figure size for better readability\n",
    "    sns.barplot(x=top_features, y=top_features.index)\n",
    "    plt.title('Top Feature Importances')\n",
    "    plt.xlabel('Importance')\n",
    "    plt.ylabel('Feature')\n",
    "    plt.xticks(fontsize=12)\n",
    "    plt.yticks(fontsize=12)\n",
    "    plt.tight_layout()  # Adjust layout to prevent clipping of labels\n",
    "    plt.show()"
   ]
  },
  {
   "cell_type": "markdown",
   "id": "b0b3d714",
   "metadata": {
    "papermill": {
     "duration": 0.012663,
     "end_time": "2024-07-09T05:31:10.681833",
     "exception": false,
     "start_time": "2024-07-09T05:31:10.669170",
     "status": "completed"
    },
    "tags": []
   },
   "source": [
    "# 5. Inference\n",
    "* **Model Evaluation** :  \n",
    "Based on the RMSE results, we can identify which model performed best. For example, if Gradient Boosting had the lowest RMSE, it indicates this model captured the underlying patterns in the data better than the others.\n",
    "* **Feature Importance** :     \n",
    "The feature importance plot provides insights into which features contributed most to the model's predictions. Features with higher importance scores had a stronger influence on predicting house prices.\n",
    "\n",
    "* **Observations and Conclusions** :     \n",
    "1. Model Performance: Gradient Boosting and Random Forest likely performed best due to their ability to handle complex relationships and interactions between features.\n",
    "2. Key Features: Features such as OverallQual (overall quality of the house), GrLivArea (above ground living area), and GarageCars (number of cars in the garage) are crucial in predicting house prices. This aligns with real estate domain knowledge where the quality and size of the living space significantly impact house prices.\n",
    "3. Data Handling: Proper handling of missing values and categorical encoding is essential for model performance. Incorrect handling can lead to biased or inaccurate models.\n",
    "\n",
    " \n",
    "\n"
   ]
  }
 ],
 "metadata": {
  "kaggle": {
   "accelerator": "none",
   "dataSources": [
    {
     "datasetId": 5353321,
     "sourceId": 8904223,
     "sourceType": "datasetVersion"
    }
   ],
   "dockerImageVersionId": 30732,
   "isGpuEnabled": false,
   "isInternetEnabled": true,
   "language": "python",
   "sourceType": "notebook"
  },
  "kernelspec": {
   "display_name": "Python 3",
   "language": "python",
   "name": "python3"
  },
  "language_info": {
   "codemirror_mode": {
    "name": "ipython",
    "version": 3
   },
   "file_extension": ".py",
   "mimetype": "text/x-python",
   "name": "python",
   "nbconvert_exporter": "python",
   "pygments_lexer": "ipython3",
   "version": "3.10.13"
  },
  "papermill": {
   "default_parameters": {},
   "duration": 27.365573,
   "end_time": "2024-07-09T05:31:11.417704",
   "environment_variables": {},
   "exception": null,
   "input_path": "__notebook__.ipynb",
   "output_path": "__notebook__.ipynb",
   "parameters": {},
   "start_time": "2024-07-09T05:30:44.052131",
   "version": "2.5.0"
  }
 },
 "nbformat": 4,
 "nbformat_minor": 5
}
